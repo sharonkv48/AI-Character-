{
 "cells": [
  {
   "cell_type": "code",
   "execution_count": 1,
   "metadata": {},
   "outputs": [
    {
     "name": "stdout",
     "output_type": "stream",
     "text": [
      "Looking in indexes: https://download.pytorch.org/whl/cu121\n",
      "Requirement already satisfied: torch in c:\\users\\sharo\\desktop\\ai-character-generation\\intelligence model\\venv\\lib\\site-packages (2.5.1+cu121)\n",
      "Requirement already satisfied: torchvision in c:\\users\\sharo\\desktop\\ai-character-generation\\intelligence model\\venv\\lib\\site-packages (0.20.1+cu121)\n",
      "Requirement already satisfied: torchaudio in c:\\users\\sharo\\desktop\\ai-character-generation\\intelligence model\\venv\\lib\\site-packages (2.5.1)\n",
      "Requirement already satisfied: filelock in c:\\users\\sharo\\desktop\\ai-character-generation\\intelligence model\\venv\\lib\\site-packages (from torch) (3.16.1)\n",
      "Requirement already satisfied: typing-extensions>=4.8.0 in c:\\users\\sharo\\desktop\\ai-character-generation\\intelligence model\\venv\\lib\\site-packages (from torch) (4.12.2)\n",
      "Requirement already satisfied: networkx in c:\\users\\sharo\\desktop\\ai-character-generation\\intelligence model\\venv\\lib\\site-packages (from torch) (2.8.8)\n",
      "Requirement already satisfied: jinja2 in c:\\users\\sharo\\desktop\\ai-character-generation\\intelligence model\\venv\\lib\\site-packages (from torch) (3.1.4)\n",
      "Requirement already satisfied: fsspec in c:\\users\\sharo\\desktop\\ai-character-generation\\intelligence model\\venv\\lib\\site-packages (from torch) (2024.10.0)\n",
      "Requirement already satisfied: sympy==1.13.1 in c:\\users\\sharo\\desktop\\ai-character-generation\\intelligence model\\venv\\lib\\site-packages (from torch) (1.13.1)\n",
      "Requirement already satisfied: mpmath<1.4,>=1.1.0 in c:\\users\\sharo\\desktop\\ai-character-generation\\intelligence model\\venv\\lib\\site-packages (from sympy==1.13.1->torch) (1.3.0)\n",
      "Requirement already satisfied: numpy in c:\\users\\sharo\\desktop\\ai-character-generation\\intelligence model\\venv\\lib\\site-packages (from torchvision) (1.26.4)\n",
      "Requirement already satisfied: pillow!=8.3.*,>=5.3.0 in c:\\users\\sharo\\desktop\\ai-character-generation\\intelligence model\\venv\\lib\\site-packages (from torchvision) (11.0.0)\n",
      "Requirement already satisfied: MarkupSafe>=2.0 in c:\\users\\sharo\\desktop\\ai-character-generation\\intelligence model\\venv\\lib\\site-packages (from jinja2->torch) (3.0.2)\n"
     ]
    },
    {
     "name": "stderr",
     "output_type": "stream",
     "text": [
      "\n",
      "[notice] A new release of pip is available: 24.0 -> 25.0\n",
      "[notice] To update, run: python.exe -m pip install --upgrade pip\n"
     ]
    }
   ],
   "source": [
    "!python -m pip install torch torchvision torchaudio --index-url https://download.pytorch.org/whl/cu121"
   ]
  },
  {
   "cell_type": "code",
   "execution_count": 2,
   "metadata": {},
   "outputs": [
    {
     "name": "stderr",
     "output_type": "stream",
     "text": [
      "'nvcc' is not recognized as an internal or external command,\n",
      "operable program or batch file.\n"
     ]
    }
   ],
   "source": [
    "!nvcc --version"
   ]
  },
  {
   "cell_type": "code",
   "execution_count": 3,
   "metadata": {},
   "outputs": [
    {
     "name": "stderr",
     "output_type": "stream",
     "text": [
      "Cloning into 'Wav2Lip'...\n"
     ]
    }
   ],
   "source": [
    "!git clone https://github.com/Rudrabha/Wav2Lip.git/"
   ]
  },
  {
   "cell_type": "code",
   "execution_count": 4,
   "metadata": {},
   "outputs": [
    {
     "name": "stderr",
     "output_type": "stream",
     "text": [
      "'cp' is not recognized as an internal or external command,\n",
      "operable program or batch file.\n"
     ]
    }
   ],
   "source": [
    "!cp -ri \"/content/gdrive/MyDrive/Wav2Lip/wav2lip_gan.pth\" /content/Wav2Lip/checkpoints/"
   ]
  },
  {
   "cell_type": "code",
   "execution_count": 5,
   "metadata": {},
   "outputs": [
    {
     "name": "stdout",
     "output_type": "stream",
     "text": [
      "Collecting librosa==0.7.0 (from -r requirements.txt (line 1))\n",
      "  Downloading librosa-0.7.0.tar.gz (1.6 MB)\n",
      "     ---------------------------------------- 0.0/1.6 MB ? eta -:--:--\n",
      "      --------------------------------------- 0.0/1.6 MB 217.9 kB/s eta 0:00:08\n",
      "      --------------------------------------- 0.0/1.6 MB 262.6 kB/s eta 0:00:06\n",
      "     - -------------------------------------- 0.1/1.6 MB 363.1 kB/s eta 0:00:05\n",
      "     --- ------------------------------------ 0.1/1.6 MB 708.1 kB/s eta 0:00:03\n",
      "     ------ --------------------------------- 0.3/1.6 MB 1.0 MB/s eta 0:00:02\n",
      "     ------------ --------------------------- 0.5/1.6 MB 1.8 MB/s eta 0:00:01\n",
      "     ------------------- -------------------- 0.8/1.6 MB 2.5 MB/s eta 0:00:01\n",
      "     -------------------------- ------------- 1.0/1.6 MB 2.8 MB/s eta 0:00:01\n",
      "     --------------------------------- ------ 1.3/1.6 MB 3.1 MB/s eta 0:00:01\n",
      "     ---------------------------------------  1.6/1.6 MB 3.5 MB/s eta 0:00:01\n",
      "     ---------------------------------------- 1.6/1.6 MB 3.2 MB/s eta 0:00:00\n",
      "  Installing build dependencies: started\n",
      "  Installing build dependencies: finished with status 'done'\n",
      "  Getting requirements to build wheel: started\n",
      "  Getting requirements to build wheel: finished with status 'done'\n",
      "  Preparing metadata (pyproject.toml): started\n",
      "  Preparing metadata (pyproject.toml): finished with status 'done'\n",
      "Collecting numpy==1.17.1 (from -r requirements.txt (line 2))\n",
      "  Downloading numpy-1.17.1.zip (6.5 MB)\n",
      "     ---------------------------------------- 0.0/6.5 MB ? eta -:--:--\n",
      "     -- ------------------------------------- 0.4/6.5 MB 11.6 MB/s eta 0:00:01\n",
      "     ----- ---------------------------------- 0.8/6.5 MB 10.5 MB/s eta 0:00:01\n",
      "     ----- ---------------------------------- 0.8/6.5 MB 10.5 MB/s eta 0:00:01\n",
      "     -------- ------------------------------- 1.4/6.5 MB 8.1 MB/s eta 0:00:01\n",
      "     ----------- ---------------------------- 1.8/6.5 MB 9.0 MB/s eta 0:00:01\n",
      "     ----------- ---------------------------- 1.9/6.5 MB 7.7 MB/s eta 0:00:01\n",
      "     ----------------- ---------------------- 2.8/6.5 MB 9.0 MB/s eta 0:00:01\n",
      "     ------------------- -------------------- 3.2/6.5 MB 8.9 MB/s eta 0:00:01\n",
      "     ---------------------- ----------------- 3.6/6.5 MB 8.9 MB/s eta 0:00:01\n",
      "     ------------------------ --------------- 3.9/6.5 MB 9.0 MB/s eta 0:00:01\n",
      "     ------------------------ --------------- 3.9/6.5 MB 9.0 MB/s eta 0:00:01\n",
      "     ---------------------------- ----------- 4.6/6.5 MB 8.7 MB/s eta 0:00:01\n",
      "     ----------------------------- ---------- 4.7/6.5 MB 8.2 MB/s eta 0:00:01\n",
      "     ----------------------------- ---------- 4.7/6.5 MB 8.2 MB/s eta 0:00:01\n",
      "     ----------------------------- ---------- 4.8/6.5 MB 7.4 MB/s eta 0:00:01\n",
      "     ----------------------------- ---------- 4.8/6.5 MB 7.0 MB/s eta 0:00:01\n",
      "     ------------------------------ --------- 4.9/6.5 MB 6.6 MB/s eta 0:00:01\n",
      "     ------------------------------- -------- 5.1/6.5 MB 6.4 MB/s eta 0:00:01\n",
      "     -------------------------------- ------- 5.2/6.5 MB 6.0 MB/s eta 0:00:01\n",
      "     --------------------------------- ------ 5.4/6.5 MB 6.0 MB/s eta 0:00:01\n",
      "     ---------------------------------- ----- 5.6/6.5 MB 5.9 MB/s eta 0:00:01\n",
      "     ------------------------------------ --- 5.9/6.5 MB 5.8 MB/s eta 0:00:01\n",
      "     ------------------------------------- -- 6.1/6.5 MB 5.8 MB/s eta 0:00:01\n",
      "     ---------------------------------------  6.3/6.5 MB 5.8 MB/s eta 0:00:01\n",
      "     ---------------------------------------  6.5/6.5 MB 5.8 MB/s eta 0:00:01\n",
      "     ---------------------------------------- 6.5/6.5 MB 5.5 MB/s eta 0:00:00\n",
      "  Installing build dependencies: started\n",
      "  Installing build dependencies: finished with status 'done'\n",
      "  Getting requirements to build wheel: started\n",
      "  Getting requirements to build wheel: finished with status 'done'\n",
      "  Preparing metadata (pyproject.toml): started\n",
      "  Preparing metadata (pyproject.toml): finished with status 'error'\n"
     ]
    },
    {
     "name": "stderr",
     "output_type": "stream",
     "text": [
      "  error: subprocess-exited-with-error\n",
      "  \n",
      "  × Preparing metadata (pyproject.toml) did not run successfully.\n",
      "  │ exit code: 1\n",
      "  ╰─> [26 lines of output]\n",
      "      Running from numpy source directory.\n",
      "      <string>:418: UserWarning: Unrecognized setuptools command, proceeding with generating Cython sources and expanding templates\n",
      "      Traceback (most recent call last):\n",
      "        File \"C:\\Users\\sharo\\Desktop\\SEMProjects\\project phase\\venv\\Lib\\site-packages\\pip\\_vendor\\pyproject_hooks\\_in_process\\_in_process.py\", line 353, in <module>\n",
      "          main()\n",
      "        File \"C:\\Users\\sharo\\Desktop\\SEMProjects\\project phase\\venv\\Lib\\site-packages\\pip\\_vendor\\pyproject_hooks\\_in_process\\_in_process.py\", line 335, in main\n",
      "          json_out['return_val'] = hook(**hook_input['kwargs'])\n",
      "                                   ^^^^^^^^^^^^^^^^^^^^^^^^^^^^\n",
      "        File \"C:\\Users\\sharo\\Desktop\\SEMProjects\\project phase\\venv\\Lib\\site-packages\\pip\\_vendor\\pyproject_hooks\\_in_process\\_in_process.py\", line 149, in prepare_metadata_for_build_wheel\n",
      "          return hook(metadata_directory, config_settings)\n",
      "                 ^^^^^^^^^^^^^^^^^^^^^^^^^^^^^^^^^^^^^^^^^\n",
      "        File \"C:\\Users\\sharo\\AppData\\Local\\Temp\\pip-build-env-bb1ibtki\\overlay\\Lib\\site-packages\\setuptools\\build_meta.py\", line 377, in prepare_metadata_for_build_wheel\n",
      "          self.run_setup()\n",
      "        File \"C:\\Users\\sharo\\AppData\\Local\\Temp\\pip-build-env-bb1ibtki\\overlay\\Lib\\site-packages\\setuptools\\build_meta.py\", line 522, in run_setup\n",
      "          super().run_setup(setup_script=setup_script)\n",
      "        File \"C:\\Users\\sharo\\AppData\\Local\\Temp\\pip-build-env-bb1ibtki\\overlay\\Lib\\site-packages\\setuptools\\build_meta.py\", line 320, in run_setup\n",
      "          exec(code, locals())\n",
      "        File \"<string>\", line 443, in <module>\n",
      "        File \"<string>\", line 422, in setup_package\n",
      "        File \"C:\\Users\\sharo\\AppData\\Local\\Temp\\pip-install-ao939v90\\numpy_fc5e7dfc79c245128d3e40b48fbc1421\\numpy\\distutils\\core.py\", line 26, in <module>\n",
      "          from numpy.distutils.command import config, config_compiler, \\\n",
      "        File \"C:\\Users\\sharo\\AppData\\Local\\Temp\\pip-install-ao939v90\\numpy_fc5e7dfc79c245128d3e40b48fbc1421\\numpy\\distutils\\command\\config.py\", line 20, in <module>\n",
      "          from numpy.distutils.mingw32ccompiler import generate_manifest\n",
      "        File \"C:\\Users\\sharo\\AppData\\Local\\Temp\\pip-install-ao939v90\\numpy_fc5e7dfc79c245128d3e40b48fbc1421\\numpy\\distutils\\mingw32ccompiler.py\", line 34, in <module>\n",
      "          from distutils.msvccompiler import get_build_version as get_build_msvc_version\n",
      "      ModuleNotFoundError: No module named 'distutils.msvccompiler'\n",
      "      [end of output]\n",
      "  \n",
      "  note: This error originates from a subprocess, and is likely not a problem with pip.\n",
      "error: metadata-generation-failed\n",
      "\n",
      "× Encountered error while generating package metadata.\n",
      "╰─> See above for output.\n",
      "\n",
      "note: This is an issue with the package mentioned above, not pip.\n",
      "hint: See above for details.\n",
      "\n",
      "[notice] A new release of pip is available: 24.0 -> 24.3.1\n",
      "[notice] To update, run: C:\\Users\\sharo\\Desktop\\SEMProjects\\project phase\\venv\\Scripts\\python.exe -m pip install --upgrade pip\n"
     ]
    }
   ],
   "source": [
    "!cd Wav2Lip && pip install -r requirements.txt"
   ]
  },
  {
   "cell_type": "code",
   "execution_count": 7,
   "metadata": {},
   "outputs": [
    {
     "data": {
      "text/plain": [
       "CompletedProcess(args=['python', 'C:\\\\Users\\\\sharo\\\\Desktop\\\\Ai-character-generation\\\\Intelligence model\\\\lipsync\\\\Wav2Lip\\\\inference.py', '--checkpoint_path', 'C:\\\\Users\\\\sharo\\\\Desktop\\\\Ai-character-generation\\\\Intelligence model\\\\lipsync\\\\Wav2Lip\\\\checkpoints\\\\wav2lip_gan.pth', '--face', 'C:\\\\Users\\\\sharo\\\\Downloads\\\\loda.mp4', '--audio', 'C:\\\\Users\\\\sharo\\\\Desktop\\\\Ai-character-generation\\\\Intelligence model\\\\RAG\\\\response.wav'], returncode=1)"
      ]
     },
     "execution_count": 7,
     "metadata": {},
     "output_type": "execute_result"
    }
   ],
   "source": [
    "import os\n",
    "import subprocess\n",
    "\n",
    "# Define paths\n",
    "project_dir = r\"C:\\Users\\sharo\\Desktop\\Ai-character-generation\\Intelligence model\\lipsync\\Wav2Lip\"  # Replace with your Wav2Lip directory path\n",
    "script_path = os.path.join(project_dir, \"inference.py\")\n",
    "checkpoint_path = os.path.join(project_dir, \"checkpoints\", \"wav2lip_gan.pth\")\n",
    "face_path = r\"C:\\Users\\sharo\\Downloads\\loda.mp4\"\n",
    "audio_path = r\"C:\\Users\\sharo\\Desktop\\Ai-character-generation\\Intelligence model\\RAG\\response.wav\"\n",
    "\n",
    "# Change directory and run inference\n",
    "os.chdir(project_dir)  # Change to the Wav2Lip directory\n",
    "\n",
    "subprocess.run([\n",
    "    \"python\", script_path,\n",
    "    \"--checkpoint_path\", checkpoint_path,\n",
    "    \"--face\", face_path,\n",
    "    \"--audio\", audio_path\n",
    "])\n"
   ]
  },
  {
   "cell_type": "code",
   "execution_count": null,
   "metadata": {},
   "outputs": [],
   "source": []
  }
 ],
 "metadata": {
  "kernelspec": {
   "display_name": "venv",
   "language": "python",
   "name": "python3"
  },
  "language_info": {
   "codemirror_mode": {
    "name": "ipython",
    "version": 3
   },
   "file_extension": ".py",
   "mimetype": "text/x-python",
   "name": "python",
   "nbconvert_exporter": "python",
   "pygments_lexer": "ipython3",
   "version": "3.11.9"
  }
 },
 "nbformat": 4,
 "nbformat_minor": 2
}
