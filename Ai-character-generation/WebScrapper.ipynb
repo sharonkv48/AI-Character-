{
 "cells": [
  {
   "cell_type": "code",
   "execution_count": 1,
   "id": "7753b64a",
   "metadata": {},
   "outputs": [],
   "source": [
    "import requests\n",
    "from bs4 import BeautifulSoup\n",
    "import urllib.request \n",
    "import csv\n",
    "import pandas as pd\n",
    "import numpy as np\n",
    "from tqdm.auto import tqdm"
   ]
  },
  {
   "cell_type": "code",
   "execution_count": 2,
   "id": "bab747c8",
   "metadata": {},
   "outputs": [
    {
     "data": {
      "text/html": [
       "<div>\n",
       "<style scoped>\n",
       "    .dataframe tbody tr th:only-of-type {\n",
       "        vertical-align: middle;\n",
       "    }\n",
       "\n",
       "    .dataframe tbody tr th {\n",
       "        vertical-align: top;\n",
       "    }\n",
       "\n",
       "    .dataframe thead th {\n",
       "        text-align: right;\n",
       "    }\n",
       "</style>\n",
       "<table border=\"1\" class=\"dataframe\">\n",
       "  <thead>\n",
       "    <tr style=\"text-align: right;\">\n",
       "      <th></th>\n",
       "      <th>Id</th>\n",
       "      <th>Character</th>\n",
       "      <th>Occupation</th>\n",
       "    </tr>\n",
       "  </thead>\n",
       "  <tbody>\n",
       "    <tr>\n",
       "      <th>0</th>\n",
       "      <td>1</td>\n",
       "      <td>Aaron Taylor-Johnson</td>\n",
       "      <td>model</td>\n",
       "    </tr>\n",
       "    <tr>\n",
       "      <th>1</th>\n",
       "      <td>2</td>\n",
       "      <td>Adam Levine</td>\n",
       "      <td>model</td>\n",
       "    </tr>\n",
       "    <tr>\n",
       "      <th>2</th>\n",
       "      <td>3</td>\n",
       "      <td>Adrian Brody</td>\n",
       "      <td>model</td>\n",
       "    </tr>\n",
       "    <tr>\n",
       "      <th>3</th>\n",
       "      <td>4</td>\n",
       "      <td>Aiden Turner</td>\n",
       "      <td>model</td>\n",
       "    </tr>\n",
       "    <tr>\n",
       "      <th>4</th>\n",
       "      <td>5</td>\n",
       "      <td>Alexander Skarsgård</td>\n",
       "      <td>model</td>\n",
       "    </tr>\n",
       "  </tbody>\n",
       "</table>\n",
       "</div>"
      ],
      "text/plain": [
       "   Id             Character Occupation\n",
       "0   1  Aaron Taylor-Johnson      model\n",
       "1   2           Adam Levine      model\n",
       "2   3          Adrian Brody      model\n",
       "3   4          Aiden Turner      model\n",
       "4   5   Alexander Skarsgård      model"
      ]
     },
     "execution_count": 2,
     "metadata": {},
     "output_type": "execute_result"
    }
   ],
   "source": [
    "try:\n",
    "    df = pd.read_csv('character_names.csv', encoding='utf-8')\n",
    "except UnicodeDecodeError:\n",
    "    try:\n",
    "        df = pd.read_csv('character_names.csv', encoding='ISO-8859-1')\n",
    "    except UnicodeDecodeError:\n",
    "        df = pd.read_csv('character_names.csv', encoding='cp1252')\n",
    "\n",
    "df.head()"
   ]
  },
  {
   "cell_type": "code",
   "execution_count": 4,
   "id": "4ee38fa3",
   "metadata": {},
   "outputs": [
    {
     "data": {
      "text/html": [
       "<div>\n",
       "<style scoped>\n",
       "    .dataframe tbody tr th:only-of-type {\n",
       "        vertical-align: middle;\n",
       "    }\n",
       "\n",
       "    .dataframe tbody tr th {\n",
       "        vertical-align: top;\n",
       "    }\n",
       "\n",
       "    .dataframe thead th {\n",
       "        text-align: right;\n",
       "    }\n",
       "</style>\n",
       "<table border=\"1\" class=\"dataframe\">\n",
       "  <thead>\n",
       "    <tr style=\"text-align: right;\">\n",
       "      <th></th>\n",
       "      <th>Id</th>\n",
       "      <th>Character</th>\n",
       "      <th>Occupation</th>\n",
       "      <th>base_query</th>\n",
       "    </tr>\n",
       "  </thead>\n",
       "  <tbody>\n",
       "    <tr>\n",
       "      <th>0</th>\n",
       "      <td>1</td>\n",
       "      <td>Aaron Taylor-Johnson</td>\n",
       "      <td>model</td>\n",
       "      <td>model Aaron Taylor-Johnson</td>\n",
       "    </tr>\n",
       "    <tr>\n",
       "      <th>1</th>\n",
       "      <td>2</td>\n",
       "      <td>Adam Levine</td>\n",
       "      <td>model</td>\n",
       "      <td>model Adam Levine</td>\n",
       "    </tr>\n",
       "    <tr>\n",
       "      <th>2</th>\n",
       "      <td>3</td>\n",
       "      <td>Adrian Brody</td>\n",
       "      <td>model</td>\n",
       "      <td>model Adrian Brody</td>\n",
       "    </tr>\n",
       "    <tr>\n",
       "      <th>3</th>\n",
       "      <td>4</td>\n",
       "      <td>Aiden Turner</td>\n",
       "      <td>model</td>\n",
       "      <td>model Aiden Turner</td>\n",
       "    </tr>\n",
       "    <tr>\n",
       "      <th>4</th>\n",
       "      <td>5</td>\n",
       "      <td>Alexander Skarsgård</td>\n",
       "      <td>model</td>\n",
       "      <td>model Alexander Skarsgård</td>\n",
       "    </tr>\n",
       "  </tbody>\n",
       "</table>\n",
       "</div>"
      ],
      "text/plain": [
       "   Id             Character Occupation                  base_query\n",
       "0   1  Aaron Taylor-Johnson      model  model Aaron Taylor-Johnson\n",
       "1   2           Adam Levine      model           model Adam Levine\n",
       "2   3          Adrian Brody      model          model Adrian Brody\n",
       "3   4          Aiden Turner      model          model Aiden Turner\n",
       "4   5   Alexander Skarsgård      model   model Alexander Skarsgård"
      ]
     },
     "execution_count": 4,
     "metadata": {},
     "output_type": "execute_result"
    }
   ],
   "source": [
    "df['base_query'] = df['Occupation'] + ' ' + df['Character']\n",
    "df.head()"
   ]
  },
  {
   "cell_type": "code",
   "execution_count": null,
   "id": "9f4f5c76",
   "metadata": {},
   "outputs": [
    {
     "data": {
      "text/html": [
       "<div>\n",
       "<style scoped>\n",
       "    .dataframe tbody tr th:only-of-type {\n",
       "        vertical-align: middle;\n",
       "    }\n",
       "\n",
       "    .dataframe tbody tr th {\n",
       "        vertical-align: top;\n",
       "    }\n",
       "\n",
       "    .dataframe thead th {\n",
       "        text-align: right;\n",
       "    }\n",
       "</style>\n",
       "<table border=\"1\" class=\"dataframe\">\n",
       "  <thead>\n",
       "    <tr style=\"text-align: right;\">\n",
       "      <th></th>\n",
       "      <th>Id</th>\n",
       "      <th>Character</th>\n",
       "      <th>Occupation</th>\n",
       "      <th>base_query</th>\n",
       "      <th>base_query_real</th>\n",
       "      <th>base_query_wallpaper</th>\n",
       "    </tr>\n",
       "  </thead>\n",
       "  <tbody>\n",
       "    <tr>\n",
       "      <th>0</th>\n",
       "      <td>1</td>\n",
       "      <td>Aaron Taylor-Johnson</td>\n",
       "      <td>model</td>\n",
       "      <td>model Aaron Taylor-Johnson</td>\n",
       "      <td>model Aaron Taylor-Johnson real</td>\n",
       "      <td>model Aaron Taylor-Johnson wallpaper</td>\n",
       "    </tr>\n",
       "    <tr>\n",
       "      <th>1</th>\n",
       "      <td>2</td>\n",
       "      <td>Adam Levine</td>\n",
       "      <td>model</td>\n",
       "      <td>model Adam Levine</td>\n",
       "      <td>model Adam Levine real</td>\n",
       "      <td>model Adam Levine wallpaper</td>\n",
       "    </tr>\n",
       "    <tr>\n",
       "      <th>2</th>\n",
       "      <td>3</td>\n",
       "      <td>Adrian Brody</td>\n",
       "      <td>model</td>\n",
       "      <td>model Adrian Brody</td>\n",
       "      <td>model Adrian Brody real</td>\n",
       "      <td>model Adrian Brody wallpaper</td>\n",
       "    </tr>\n",
       "    <tr>\n",
       "      <th>3</th>\n",
       "      <td>4</td>\n",
       "      <td>Aiden Turner</td>\n",
       "      <td>model</td>\n",
       "      <td>model Aiden Turner</td>\n",
       "      <td>model Aiden Turner real</td>\n",
       "      <td>model Aiden Turner wallpaper</td>\n",
       "    </tr>\n",
       "    <tr>\n",
       "      <th>4</th>\n",
       "      <td>5</td>\n",
       "      <td>Alexander Skarsgård</td>\n",
       "      <td>model</td>\n",
       "      <td>model Alexander Skarsgård</td>\n",
       "      <td>model Alexander Skarsgård real</td>\n",
       "      <td>model Alexander Skarsgård wallpaper</td>\n",
       "    </tr>\n",
       "  </tbody>\n",
       "</table>\n",
       "</div>"
      ],
      "text/plain": [
       "   Id             Character Occupation                  base_query  \\\n",
       "0   1  Aaron Taylor-Johnson      model  model Aaron Taylor-Johnson   \n",
       "1   2           Adam Levine      model           model Adam Levine   \n",
       "2   3          Adrian Brody      model          model Adrian Brody   \n",
       "3   4          Aiden Turner      model          model Aiden Turner   \n",
       "4   5   Alexander Skarsgård      model   model Alexander Skarsgård   \n",
       "\n",
       "                   base_query_real                  base_query_wallpaper  \n",
       "0  model Aaron Taylor-Johnson real  model Aaron Taylor-Johnson wallpaper  \n",
       "1           model Adam Levine real           model Adam Levine wallpaper  \n",
       "2          model Adrian Brody real          model Adrian Brody wallpaper  \n",
       "3          model Aiden Turner real          model Aiden Turner wallpaper  \n",
       "4   model Alexander Skarsgård real   model Alexander Skarsgård wallpaper  "
      ]
     },
     "execution_count": 5,
     "metadata": {},
     "output_type": "execute_result"
    }
   ],
   "source": [
    "extras = ['real', 'wallpaper', ]\n",
    "for _ in extras:\n",
    "    df['base_query_' + _ ] = df['base_query'] + ' ' + _\n",
    "\n",
    "df.head()"
   ]
  },
  {
   "cell_type": "code",
   "execution_count": 6,
   "id": "43bdf6c4",
   "metadata": {},
   "outputs": [
    {
     "data": {
      "text/html": [
       "<div>\n",
       "<style scoped>\n",
       "    .dataframe tbody tr th:only-of-type {\n",
       "        vertical-align: middle;\n",
       "    }\n",
       "\n",
       "    .dataframe tbody tr th {\n",
       "        vertical-align: top;\n",
       "    }\n",
       "\n",
       "    .dataframe thead th {\n",
       "        text-align: right;\n",
       "    }\n",
       "</style>\n",
       "<table border=\"1\" class=\"dataframe\">\n",
       "  <thead>\n",
       "    <tr style=\"text-align: right;\">\n",
       "      <th></th>\n",
       "      <th>Id</th>\n",
       "      <th>Character</th>\n",
       "      <th>Occupation</th>\n",
       "      <th>base_query</th>\n",
       "      <th>base_query_real</th>\n",
       "      <th>base_query_wallpaper</th>\n",
       "      <th>queries</th>\n",
       "    </tr>\n",
       "  </thead>\n",
       "  <tbody>\n",
       "    <tr>\n",
       "      <th>0</th>\n",
       "      <td>1</td>\n",
       "      <td>Aaron Taylor-Johnson</td>\n",
       "      <td>model</td>\n",
       "      <td>model Aaron Taylor-Johnson</td>\n",
       "      <td>model Aaron Taylor-Johnson real</td>\n",
       "      <td>model Aaron Taylor-Johnson wallpaper</td>\n",
       "      <td>[model Aaron Taylor-Johnson, model Aaron Taylo...</td>\n",
       "    </tr>\n",
       "    <tr>\n",
       "      <th>1</th>\n",
       "      <td>2</td>\n",
       "      <td>Adam Levine</td>\n",
       "      <td>model</td>\n",
       "      <td>model Adam Levine</td>\n",
       "      <td>model Adam Levine real</td>\n",
       "      <td>model Adam Levine wallpaper</td>\n",
       "      <td>[model Adam Levine, model Adam Levine real, mo...</td>\n",
       "    </tr>\n",
       "    <tr>\n",
       "      <th>2</th>\n",
       "      <td>3</td>\n",
       "      <td>Adrian Brody</td>\n",
       "      <td>model</td>\n",
       "      <td>model Adrian Brody</td>\n",
       "      <td>model Adrian Brody real</td>\n",
       "      <td>model Adrian Brody wallpaper</td>\n",
       "      <td>[model Adrian Brody, model Adrian Brody real, ...</td>\n",
       "    </tr>\n",
       "    <tr>\n",
       "      <th>3</th>\n",
       "      <td>4</td>\n",
       "      <td>Aiden Turner</td>\n",
       "      <td>model</td>\n",
       "      <td>model Aiden Turner</td>\n",
       "      <td>model Aiden Turner real</td>\n",
       "      <td>model Aiden Turner wallpaper</td>\n",
       "      <td>[model Aiden Turner, model Aiden Turner real, ...</td>\n",
       "    </tr>\n",
       "    <tr>\n",
       "      <th>4</th>\n",
       "      <td>5</td>\n",
       "      <td>Alexander Skarsgård</td>\n",
       "      <td>model</td>\n",
       "      <td>model Alexander Skarsgård</td>\n",
       "      <td>model Alexander Skarsgård real</td>\n",
       "      <td>model Alexander Skarsgård wallpaper</td>\n",
       "      <td>[model Alexander Skarsgård, model Alexander Sk...</td>\n",
       "    </tr>\n",
       "  </tbody>\n",
       "</table>\n",
       "</div>"
      ],
      "text/plain": [
       "   Id             Character Occupation                  base_query  \\\n",
       "0   1  Aaron Taylor-Johnson      model  model Aaron Taylor-Johnson   \n",
       "1   2           Adam Levine      model           model Adam Levine   \n",
       "2   3          Adrian Brody      model          model Adrian Brody   \n",
       "3   4          Aiden Turner      model          model Aiden Turner   \n",
       "4   5   Alexander Skarsgård      model   model Alexander Skarsgård   \n",
       "\n",
       "                   base_query_real                  base_query_wallpaper  \\\n",
       "0  model Aaron Taylor-Johnson real  model Aaron Taylor-Johnson wallpaper   \n",
       "1           model Adam Levine real           model Adam Levine wallpaper   \n",
       "2          model Adrian Brody real          model Adrian Brody wallpaper   \n",
       "3          model Aiden Turner real          model Aiden Turner wallpaper   \n",
       "4   model Alexander Skarsgård real   model Alexander Skarsgård wallpaper   \n",
       "\n",
       "                                             queries  \n",
       "0  [model Aaron Taylor-Johnson, model Aaron Taylo...  \n",
       "1  [model Adam Levine, model Adam Levine real, mo...  \n",
       "2  [model Adrian Brody, model Adrian Brody real, ...  \n",
       "3  [model Aiden Turner, model Aiden Turner real, ...  \n",
       "4  [model Alexander Skarsgård, model Alexander Sk...  "
      ]
     },
     "execution_count": 6,
     "metadata": {},
     "output_type": "execute_result"
    }
   ],
   "source": [
    "def create_query_list(row):\n",
    "    return [row['base_query'], row['base_query_real'], row['base_query_wallpaper']]\n",
    "\n",
    "df['queries'] = df.apply(create_query_list, axis=1)\n",
    "\n",
    "df.head()"
   ]
  },
  {
   "cell_type": "code",
   "execution_count": 12,
   "id": "193ec7a9",
   "metadata": {},
   "outputs": [
    {
     "data": {
      "text/html": [
       "<div>\n",
       "<style scoped>\n",
       "    .dataframe tbody tr th:only-of-type {\n",
       "        vertical-align: middle;\n",
       "    }\n",
       "\n",
       "    .dataframe tbody tr th {\n",
       "        vertical-align: top;\n",
       "    }\n",
       "\n",
       "    .dataframe thead th {\n",
       "        text-align: right;\n",
       "    }\n",
       "</style>\n",
       "<table border=\"1\" class=\"dataframe\">\n",
       "  <thead>\n",
       "    <tr style=\"text-align: right;\">\n",
       "      <th></th>\n",
       "      <th>Id</th>\n",
       "      <th>Character</th>\n",
       "      <th>Occupation</th>\n",
       "      <th>base_query</th>\n",
       "      <th>base_query_real</th>\n",
       "      <th>base_query_wallpaper</th>\n",
       "      <th>queries</th>\n",
       "    </tr>\n",
       "  </thead>\n",
       "  <tbody>\n",
       "    <tr>\n",
       "      <th>0</th>\n",
       "      <td>1</td>\n",
       "      <td>Aaron Taylor-Johnson</td>\n",
       "      <td>model</td>\n",
       "      <td>model Aaron Taylor-Johnson</td>\n",
       "      <td>model Aaron Taylor-Johnson real</td>\n",
       "      <td>model Aaron Taylor-Johnson wallpaper</td>\n",
       "      <td>[model Aaron Taylor-Johnson, model Aaron Taylo...</td>\n",
       "    </tr>\n",
       "    <tr>\n",
       "      <th>1</th>\n",
       "      <td>2</td>\n",
       "      <td>Adam Levine</td>\n",
       "      <td>model</td>\n",
       "      <td>model Adam Levine</td>\n",
       "      <td>model Adam Levine real</td>\n",
       "      <td>model Adam Levine wallpaper</td>\n",
       "      <td>[model Adam Levine, model Adam Levine real, mo...</td>\n",
       "    </tr>\n",
       "    <tr>\n",
       "      <th>2</th>\n",
       "      <td>3</td>\n",
       "      <td>Adrian Brody</td>\n",
       "      <td>model</td>\n",
       "      <td>model Adrian Brody</td>\n",
       "      <td>model Adrian Brody real</td>\n",
       "      <td>model Adrian Brody wallpaper</td>\n",
       "      <td>[model Adrian Brody, model Adrian Brody real, ...</td>\n",
       "    </tr>\n",
       "    <tr>\n",
       "      <th>3</th>\n",
       "      <td>4</td>\n",
       "      <td>Aiden Turner</td>\n",
       "      <td>model</td>\n",
       "      <td>model Aiden Turner</td>\n",
       "      <td>model Aiden Turner real</td>\n",
       "      <td>model Aiden Turner wallpaper</td>\n",
       "      <td>[model Aiden Turner, model Aiden Turner real, ...</td>\n",
       "    </tr>\n",
       "    <tr>\n",
       "      <th>4</th>\n",
       "      <td>5</td>\n",
       "      <td>Alexander Skarsgård</td>\n",
       "      <td>model</td>\n",
       "      <td>model Alexander Skarsgård</td>\n",
       "      <td>model Alexander Skarsgård real</td>\n",
       "      <td>model Alexander Skarsgård wallpaper</td>\n",
       "      <td>[model Alexander Skarsgård, model Alexander Sk...</td>\n",
       "    </tr>\n",
       "  </tbody>\n",
       "</table>\n",
       "</div>"
      ],
      "text/plain": [
       "   Id             Character Occupation                  base_query  \\\n",
       "0   1  Aaron Taylor-Johnson      model  model Aaron Taylor-Johnson   \n",
       "1   2           Adam Levine      model           model Adam Levine   \n",
       "2   3          Adrian Brody      model          model Adrian Brody   \n",
       "3   4          Aiden Turner      model          model Aiden Turner   \n",
       "4   5   Alexander Skarsgård      model   model Alexander Skarsgård   \n",
       "\n",
       "                   base_query_real                  base_query_wallpaper  \\\n",
       "0  model Aaron Taylor-Johnson real  model Aaron Taylor-Johnson wallpaper   \n",
       "1           model Adam Levine real           model Adam Levine wallpaper   \n",
       "2          model Adrian Brody real          model Adrian Brody wallpaper   \n",
       "3          model Aiden Turner real          model Aiden Turner wallpaper   \n",
       "4   model Alexander Skarsgård real   model Alexander Skarsgård wallpaper   \n",
       "\n",
       "                                             queries  \n",
       "0  [model Aaron Taylor-Johnson, model Aaron Taylo...  \n",
       "1  [model Adam Levine, model Adam Levine real, mo...  \n",
       "2  [model Adrian Brody, model Adrian Brody real, ...  \n",
       "3  [model Aiden Turner, model Aiden Turner real, ...  \n",
       "4  [model Alexander Skarsgård, model Alexander Sk...  "
      ]
     },
     "execution_count": 12,
     "metadata": {},
     "output_type": "execute_result"
    }
   ],
   "source": [
    "df.head()"
   ]
  },
  {
   "cell_type": "code",
   "execution_count": 14,
   "id": "f6d1eee9",
   "metadata": {},
   "outputs": [
    {
     "data": {
      "text/html": [
       "<div>\n",
       "<style scoped>\n",
       "    .dataframe tbody tr th:only-of-type {\n",
       "        vertical-align: middle;\n",
       "    }\n",
       "\n",
       "    .dataframe tbody tr th {\n",
       "        vertical-align: top;\n",
       "    }\n",
       "\n",
       "    .dataframe thead th {\n",
       "        text-align: right;\n",
       "    }\n",
       "</style>\n",
       "<table border=\"1\" class=\"dataframe\">\n",
       "  <thead>\n",
       "    <tr style=\"text-align: right;\">\n",
       "      <th></th>\n",
       "      <th>Id</th>\n",
       "      <th>Character</th>\n",
       "      <th>Occupation</th>\n",
       "      <th>queries</th>\n",
       "    </tr>\n",
       "  </thead>\n",
       "  <tbody>\n",
       "    <tr>\n",
       "      <th>0</th>\n",
       "      <td>1</td>\n",
       "      <td>Aaron Taylor-Johnson</td>\n",
       "      <td>model</td>\n",
       "      <td>[model Aaron Taylor-Johnson, model Aaron Taylo...</td>\n",
       "    </tr>\n",
       "    <tr>\n",
       "      <th>1</th>\n",
       "      <td>2</td>\n",
       "      <td>Adam Levine</td>\n",
       "      <td>model</td>\n",
       "      <td>[model Adam Levine, model Adam Levine real, mo...</td>\n",
       "    </tr>\n",
       "    <tr>\n",
       "      <th>2</th>\n",
       "      <td>3</td>\n",
       "      <td>Adrian Brody</td>\n",
       "      <td>model</td>\n",
       "      <td>[model Adrian Brody, model Adrian Brody real, ...</td>\n",
       "    </tr>\n",
       "    <tr>\n",
       "      <th>3</th>\n",
       "      <td>4</td>\n",
       "      <td>Aiden Turner</td>\n",
       "      <td>model</td>\n",
       "      <td>[model Aiden Turner, model Aiden Turner real, ...</td>\n",
       "    </tr>\n",
       "    <tr>\n",
       "      <th>4</th>\n",
       "      <td>5</td>\n",
       "      <td>Alexander Skarsgård</td>\n",
       "      <td>model</td>\n",
       "      <td>[model Alexander Skarsgård, model Alexander Sk...</td>\n",
       "    </tr>\n",
       "  </tbody>\n",
       "</table>\n",
       "</div>"
      ],
      "text/plain": [
       "   Id             Character Occupation  \\\n",
       "0   1  Aaron Taylor-Johnson      model   \n",
       "1   2           Adam Levine      model   \n",
       "2   3          Adrian Brody      model   \n",
       "3   4          Aiden Turner      model   \n",
       "4   5   Alexander Skarsgård      model   \n",
       "\n",
       "                                             queries  \n",
       "0  [model Aaron Taylor-Johnson, model Aaron Taylo...  \n",
       "1  [model Adam Levine, model Adam Levine real, mo...  \n",
       "2  [model Adrian Brody, model Adrian Brody real, ...  \n",
       "3  [model Aiden Turner, model Aiden Turner real, ...  \n",
       "4  [model Alexander Skarsgård, model Alexander Sk...  "
      ]
     },
     "execution_count": 14,
     "metadata": {},
     "output_type": "execute_result"
    }
   ],
   "source": [
    "# Remove leading/trailing whitespaces and tabs from column names\n",
    "df.columns = df.columns.str.strip()\n",
    "\n",
    "# Drop the columns after cleaning the names\n",
    "df = df.drop(['base_query', 'base_query_real', 'base_query_wallpaper'], axis=1)\n",
    "df.head()\n"
   ]
  },
  {
   "cell_type": "code",
   "execution_count": 10,
   "id": "5451e1b3",
   "metadata": {},
   "outputs": [
    {
     "name": "stdout",
     "output_type": "stream",
     "text": [
      "Index(['Id', 'Character', 'Occupation', 'base_query', 'base_query_real',\n",
      "       'base_query_wallpaper', 'queries'],\n",
      "      dtype='object')\n"
     ]
    }
   ],
   "source": [
    "print(df.columns)\n"
   ]
  },
  {
   "cell_type": "code",
   "execution_count": 15,
   "id": "8dbdd6b0",
   "metadata": {},
   "outputs": [
    {
     "data": {
      "application/vnd.jupyter.widget-view+json": {
       "model_id": "f857740b3d5e4e678c1bf7432d8be442",
       "version_major": 2,
       "version_minor": 0
      },
      "text/plain": [
       "Processing Characters:   0%|          | 0/200 [00:00<?, ?it/s]"
      ]
     },
     "metadata": {},
     "output_type": "display_data"
    },
    {
     "name": "stdout",
     "output_type": "stream",
     "text": [
      "      Id             Character Occupation  \\\n",
      "0      1  Aaron Taylor-Johnson      model   \n",
      "1      2           Adam Levine      model   \n",
      "2      3          Adrian Brody      model   \n",
      "3      4          Aiden Turner      model   \n",
      "4      5   Alexander Skarsgård      model   \n",
      "..   ...                   ...        ...   \n",
      "195  196       Maria Sharapova      model   \n",
      "196  197           Marie Curie      model   \n",
      "197  198        Marilyn Monroe      model   \n",
      "198  199        Martha Stewart      model   \n",
      "199  200       Mary-Kate Olsen      model   \n",
      "\n",
      "                                               queries  \\\n",
      "0    [model Aaron Taylor-Johnson, model Aaron Taylo...   \n",
      "1    [model Adam Levine, model Adam Levine real, mo...   \n",
      "2    [model Adrian Brody, model Adrian Brody real, ...   \n",
      "3    [model Aiden Turner, model Aiden Turner real, ...   \n",
      "4    [model Alexander Skarsgård, model Alexander Sk...   \n",
      "..                                                 ...   \n",
      "195  [model Maria Sharapova, model Maria Sharapova ...   \n",
      "196  [model Marie Curie, model Marie Curie real, mo...   \n",
      "197  [model Marilyn Monroe, model Marilyn Monroe re...   \n",
      "198  [model Martha Stewart, model Martha Stewart re...   \n",
      "199  [model Mary-Kate Olsen, model Mary-Kate Olsen ...   \n",
      "\n",
      "                                                  urls  \n",
      "0    [https://tse4.mm.bing.net/th/id/OIP.y4xycaXVVE...  \n",
      "1    [https://tse1.mm.bing.net/th/id/OIP.fGhMJsCBeH...  \n",
      "2    [https://tse4.mm.bing.net/th/id/OIP.XXR_GJvU-Q...  \n",
      "3    [https://tse4.mm.bing.net/th/id/OIP.KJ4pGZVypJ...  \n",
      "4    [https://tse1.mm.bing.net/th/id/OIP.sZHXzdrQPC...  \n",
      "..                                                 ...  \n",
      "195  [https://tse2.mm.bing.net/th/id/OIP.Ya1H2mDIVT...  \n",
      "196  [https://tse4.mm.bing.net/th/id/OIP.E8qz7UNfsm...  \n",
      "197  [https://tse2.mm.bing.net/th/id/OIP.EEj6QxM4Rw...  \n",
      "198  [https://tse4.mm.bing.net/th/id/OIP.LejKuJkJ0R...  \n",
      "199  [https://tse4.mm.bing.net/th/id/OIP.lL7Twd59KL...  \n",
      "\n",
      "[200 rows x 5 columns]\n"
     ]
    }
   ],
   "source": [
    "import requests\n",
    "from bs4 import BeautifulSoup\n",
    "from tqdm.auto import tqdm\n",
    "\n",
    "# Function to get image URLs for a given search query\n",
    "def get_image_urls(search_query):\n",
    "    search_url = 'https://www.bing.com/images/search'\n",
    "    params = {'q': search_query}\n",
    "    response = requests.get(search_url, params=params)\n",
    "    \n",
    "    if response.status_code == 200:\n",
    "        soup = BeautifulSoup(response.text, 'html.parser')\n",
    "        image_tags = soup.find_all('img', class_=lambda x: x and 'mimg' in x)\n",
    "        # Extract 'src' or 'data-src' attribute based on which is available\n",
    "        image_srcs = [img['src'] if img.has_attr('src') else img['data-src'] for img in image_tags if img.has_attr('src') or img.has_attr('data-src')]\n",
    "        return image_srcs[:50]  # Return up to 50 image source URLs\n",
    "    else:\n",
    "        print(f'An error occurred while searching for: {search_query}')\n",
    "        return []  # Return an empty list in case of an error\n",
    "\n",
    "# Assuming df is your DataFrame and it already contains a 'queries' column with lists of queries\n",
    "# We'll first define a new column 'urls' with empty lists\n",
    "df['urls'] = pd.Series([[] for _ in range(len(df))], index=df.index)\n",
    "\n",
    "# Iterate over the DataFrame rows with a progress bar\n",
    "for index in tqdm(df.index, desc='Processing Characters'):\n",
    "    all_image_urls = []\n",
    "    row = df.loc[index]\n",
    "    # For each query in the list of queries, perform a search and collect image URLs\n",
    "    for query in row['queries']:\n",
    "        image_urls = get_image_urls(query)\n",
    "        all_image_urls.extend(image_urls)\n",
    "        # Stop if we've collected 50 URLs, no need for further searches\n",
    "        if len(all_image_urls) >= 50:\n",
    "            break\n",
    "\n",
    "    # Assign up to 50 URLs to the 'urls' column for this row\n",
    "    df.at[index, 'urls'] = all_image_urls[:50]\n",
    "\n",
    "# Display the DataFrame to verify the results\n",
    "print(df)\n"
   ]
  },
  {
   "cell_type": "code",
   "execution_count": 16,
   "id": "c3bae619",
   "metadata": {},
   "outputs": [
    {
     "data": {
      "text/plain": [
       "50"
      ]
     },
     "execution_count": 16,
     "metadata": {},
     "output_type": "execute_result"
    }
   ],
   "source": [
    "len(df['urls'][0])"
   ]
  },
  {
   "cell_type": "code",
   "execution_count": 17,
   "id": "7b628366",
   "metadata": {},
   "outputs": [
    {
     "data": {
      "text/plain": [
       "0      [https://tse4.mm.bing.net/th/id/OIP.y4xycaXVVE...\n",
       "1      [https://tse1.mm.bing.net/th/id/OIP.fGhMJsCBeH...\n",
       "2      [https://tse4.mm.bing.net/th/id/OIP.XXR_GJvU-Q...\n",
       "3      [https://tse4.mm.bing.net/th/id/OIP.KJ4pGZVypJ...\n",
       "4      [https://tse1.mm.bing.net/th/id/OIP.sZHXzdrQPC...\n",
       "                             ...                        \n",
       "195    [https://tse2.mm.bing.net/th/id/OIP.Ya1H2mDIVT...\n",
       "196    [https://tse4.mm.bing.net/th/id/OIP.E8qz7UNfsm...\n",
       "197    [https://tse2.mm.bing.net/th/id/OIP.EEj6QxM4Rw...\n",
       "198    [https://tse4.mm.bing.net/th/id/OIP.LejKuJkJ0R...\n",
       "199    [https://tse4.mm.bing.net/th/id/OIP.lL7Twd59KL...\n",
       "Name: urls, Length: 200, dtype: object"
      ]
     },
     "execution_count": 17,
     "metadata": {},
     "output_type": "execute_result"
    }
   ],
   "source": [
    "df['urls']"
   ]
  },
  {
   "cell_type": "code",
   "execution_count": 18,
   "id": "570bae8a",
   "metadata": {},
   "outputs": [
    {
     "data": {
      "application/vnd.jupyter.widget-view+json": {
       "model_id": "a55c657d9a7649b0ad6f4f3153a5a3d7",
       "version_major": 2,
       "version_minor": 0
      },
      "text/plain": [
       "Downloading images for Aaron Taylor-Johnson:   0%|          | 0/50 [00:00<?, ?it/s]"
      ]
     },
     "metadata": {},
     "output_type": "display_data"
    },
    {
     "data": {
      "application/vnd.jupyter.widget-view+json": {
       "model_id": "9bc2abb742244269b6880f3b829dd3b7",
       "version_major": 2,
       "version_minor": 0
      },
      "text/plain": [
       "Downloading images for Adam Levine:   0%|          | 0/50 [00:00<?, ?it/s]"
      ]
     },
     "metadata": {},
     "output_type": "display_data"
    },
    {
     "data": {
      "application/vnd.jupyter.widget-view+json": {
       "model_id": "299f85fb39af43bbb432c140c64d8d51",
       "version_major": 2,
       "version_minor": 0
      },
      "text/plain": [
       "Downloading images for Adrian Brody:   0%|          | 0/50 [00:00<?, ?it/s]"
      ]
     },
     "metadata": {},
     "output_type": "display_data"
    },
    {
     "data": {
      "application/vnd.jupyter.widget-view+json": {
       "model_id": "538c6e978a2f42c29363acb2ce044468",
       "version_major": 2,
       "version_minor": 0
      },
      "text/plain": [
       "Downloading images for Aiden Turner:   0%|          | 0/50 [00:00<?, ?it/s]"
      ]
     },
     "metadata": {},
     "output_type": "display_data"
    },
    {
     "data": {
      "application/vnd.jupyter.widget-view+json": {
       "model_id": "9d5502dd65f744e98040ebeca9519b04",
       "version_major": 2,
       "version_minor": 0
      },
      "text/plain": [
       "Downloading images for Alexander Skarsgård:   0%|          | 0/50 [00:00<?, ?it/s]"
      ]
     },
     "metadata": {},
     "output_type": "display_data"
    },
    {
     "data": {
      "application/vnd.jupyter.widget-view+json": {
       "model_id": "2974994022ec4b439e9460d1e2d46f8f",
       "version_major": 2,
       "version_minor": 0
      },
      "text/plain": [
       "Downloading images for Andrew Garfield:   0%|          | 0/50 [00:00<?, ?it/s]"
      ]
     },
     "metadata": {},
     "output_type": "display_data"
    },
    {
     "data": {
      "application/vnd.jupyter.widget-view+json": {
       "model_id": "fe286e3ecd16415d9b2353083a91002e",
       "version_major": 2,
       "version_minor": 0
      },
      "text/plain": [
       "Downloading images for Anthony Mackie:   0%|          | 0/50 [00:00<?, ?it/s]"
      ]
     },
     "metadata": {},
     "output_type": "display_data"
    },
    {
     "data": {
      "application/vnd.jupyter.widget-view+json": {
       "model_id": "15839d6835114d43853fc5366f2761cd",
       "version_major": 2,
       "version_minor": 0
      },
      "text/plain": [
       "Downloading images for Arthur Conan Doyle:   0%|          | 0/50 [00:00<?, ?it/s]"
      ]
     },
     "metadata": {},
     "output_type": "display_data"
    },
    {
     "data": {
      "application/vnd.jupyter.widget-view+json": {
       "model_id": "d1883496d50c47c78efe3aaeca84a64d",
       "version_major": 2,
       "version_minor": 0
      },
      "text/plain": [
       "Downloading images for Austin Butler:   0%|          | 0/50 [00:00<?, ?it/s]"
      ]
     },
     "metadata": {},
     "output_type": "display_data"
    },
    {
     "data": {
      "application/vnd.jupyter.widget-view+json": {
       "model_id": "9af198e7d27f48a6aec6b45f279a10a2",
       "version_major": 2,
       "version_minor": 0
      },
      "text/plain": [
       "Downloading images for Barrett Wilbert Weed:   0%|          | 0/50 [00:00<?, ?it/s]"
      ]
     },
     "metadata": {},
     "output_type": "display_data"
    },
    {
     "data": {
      "application/vnd.jupyter.widget-view+json": {
       "model_id": "df9c6df4e3ff47aea7dee4b3f5b52177",
       "version_major": 2,
       "version_minor": 0
      },
      "text/plain": [
       "Downloading images for Benjamin Bratt:   0%|          | 0/50 [00:00<?, ?it/s]"
      ]
     },
     "metadata": {},
     "output_type": "display_data"
    },
    {
     "data": {
      "application/vnd.jupyter.widget-view+json": {
       "model_id": "dfa3eeeae08e44c8a523dea8c5f87902",
       "version_major": 2,
       "version_minor": 0
      },
      "text/plain": [
       "Downloading images for Blake Lively:   0%|          | 0/50 [00:00<?, ?it/s]"
      ]
     },
     "metadata": {},
     "output_type": "display_data"
    },
    {
     "data": {
      "application/vnd.jupyter.widget-view+json": {
       "model_id": "43fbe6a52a884c9da7ce57e304c896cd",
       "version_major": 2,
       "version_minor": 0
      },
      "text/plain": [
       "Downloading images for Bradley Cooper:   0%|          | 0/50 [00:00<?, ?it/s]"
      ]
     },
     "metadata": {},
     "output_type": "display_data"
    },
    {
     "data": {
      "application/vnd.jupyter.widget-view+json": {
       "model_id": "9b895121ed454d61ab360bdb4d394413",
       "version_major": 2,
       "version_minor": 0
      },
      "text/plain": [
       "Downloading images for Brandon Flynn:   0%|          | 0/50 [00:00<?, ?it/s]"
      ]
     },
     "metadata": {},
     "output_type": "display_data"
    },
    {
     "data": {
      "application/vnd.jupyter.widget-view+json": {
       "model_id": "2079b28a18c14d4096fbdd97625a7556",
       "version_major": 2,
       "version_minor": 0
      },
      "text/plain": [
       "Downloading images for Brenton Thwaites:   0%|          | 0/50 [00:00<?, ?it/s]"
      ]
     },
     "metadata": {},
     "output_type": "display_data"
    },
    {
     "data": {
      "application/vnd.jupyter.widget-view+json": {
       "model_id": "3e60d146579947888e0242c900b64add",
       "version_major": 2,
       "version_minor": 0
      },
      "text/plain": [
       "Downloading images for Brian Cox:   0%|          | 0/50 [00:00<?, ?it/s]"
      ]
     },
     "metadata": {},
     "output_type": "display_data"
    },
    {
     "data": {
      "application/vnd.jupyter.widget-view+json": {
       "model_id": "388e2bb0cc964a61b2780100531e7f5b",
       "version_major": 2,
       "version_minor": 0
      },
      "text/plain": [
       "Downloading images for Brock O'Hurn:   0%|          | 0/50 [00:00<?, ?it/s]"
      ]
     },
     "metadata": {},
     "output_type": "display_data"
    },
    {
     "data": {
      "application/vnd.jupyter.widget-view+json": {
       "model_id": "d68d7d2988ce4a9caf7dfe358babf0a3",
       "version_major": 2,
       "version_minor": 0
      },
      "text/plain": [
       "Downloading images for Bryce Dallas Howard:   0%|          | 0/50 [00:00<?, ?it/s]"
      ]
     },
     "metadata": {},
     "output_type": "display_data"
    },
    {
     "data": {
      "application/vnd.jupyter.widget-view+json": {
       "model_id": "0f716069834a41fd9b95f1b377d60ee8",
       "version_major": 2,
       "version_minor": 0
      },
      "text/plain": [
       "Downloading images for Caleb Landry Jones:   0%|          | 0/50 [00:00<?, ?it/s]"
      ]
     },
     "metadata": {},
     "output_type": "display_data"
    },
    {
     "data": {
      "application/vnd.jupyter.widget-view+json": {
       "model_id": "86588917f7c84ba8898b1207cfc7f6a8",
       "version_major": 2,
       "version_minor": 0
      },
      "text/plain": [
       "Downloading images for Cameron Monaghan:   0%|          | 0/50 [00:00<?, ?it/s]"
      ]
     },
     "metadata": {},
     "output_type": "display_data"
    },
    {
     "data": {
      "application/vnd.jupyter.widget-view+json": {
       "model_id": "0dffe19ad8fb41bc8f8eab21090b1cce",
       "version_major": 2,
       "version_minor": 0
      },
      "text/plain": [
       "Downloading images for Carl Weathers:   0%|          | 0/50 [00:00<?, ?it/s]"
      ]
     },
     "metadata": {},
     "output_type": "display_data"
    },
    {
     "data": {
      "application/vnd.jupyter.widget-view+json": {
       "model_id": "46043327559a47afa99f626842793055",
       "version_major": 2,
       "version_minor": 0
      },
      "text/plain": [
       "Downloading images for Carter Reum:   0%|          | 0/50 [00:00<?, ?it/s]"
      ]
     },
     "metadata": {},
     "output_type": "display_data"
    },
    {
     "data": {
      "application/vnd.jupyter.widget-view+json": {
       "model_id": "e6265cca45374a9caed8f40bf3443fb0",
       "version_major": 2,
       "version_minor": 0
      },
      "text/plain": [
       "Downloading images for Charles Leclerc:   0%|          | 0/50 [00:00<?, ?it/s]"
      ]
     },
     "metadata": {},
     "output_type": "display_data"
    },
    {
     "data": {
      "application/vnd.jupyter.widget-view+json": {
       "model_id": "a291bd923ff748d2ad4f5fbb6169fca0",
       "version_major": 2,
       "version_minor": 0
      },
      "text/plain": [
       "Downloading images for Christian Bale:   0%|          | 0/50 [00:00<?, ?it/s]"
      ]
     },
     "metadata": {},
     "output_type": "display_data"
    },
    {
     "data": {
      "application/vnd.jupyter.widget-view+json": {
       "model_id": "89910e39de9847f394e075a650e5df71",
       "version_major": 2,
       "version_minor": 0
      },
      "text/plain": [
       "Downloading images for Christopher Nolan:   0%|          | 0/50 [00:00<?, ?it/s]"
      ]
     },
     "metadata": {},
     "output_type": "display_data"
    },
    {
     "data": {
      "application/vnd.jupyter.widget-view+json": {
       "model_id": "270b798adc2548efa8b7c4ed02a8c194",
       "version_major": 2,
       "version_minor": 0
      },
      "text/plain": [
       "Downloading images for Colin Farrell:   0%|          | 0/50 [00:00<?, ?it/s]"
      ]
     },
     "metadata": {},
     "output_type": "display_data"
    },
    {
     "data": {
      "application/vnd.jupyter.widget-view+json": {
       "model_id": "dd37fb5d9e41475e9797a2320a573f4b",
       "version_major": 2,
       "version_minor": 0
      },
      "text/plain": [
       "Downloading images for Connor Jessup:   0%|          | 0/50 [00:00<?, ?it/s]"
      ]
     },
     "metadata": {},
     "output_type": "display_data"
    },
    {
     "data": {
      "application/vnd.jupyter.widget-view+json": {
       "model_id": "d2e525b005ad4a07a7b472c497f444a0",
       "version_major": 2,
       "version_minor": 0
      },
      "text/plain": [
       "Downloading images for Daniel Radcliffe:   0%|          | 0/50 [00:00<?, ?it/s]"
      ]
     },
     "metadata": {},
     "output_type": "display_data"
    },
    {
     "data": {
      "application/vnd.jupyter.widget-view+json": {
       "model_id": "d4140d0cc0884cb0a2cc153e0301b7b5",
       "version_major": 2,
       "version_minor": 0
      },
      "text/plain": [
       "Downloading images for David Beckham:   0%|          | 0/50 [00:00<?, ?it/s]"
      ]
     },
     "metadata": {},
     "output_type": "display_data"
    },
    {
     "data": {
      "application/vnd.jupyter.widget-view+json": {
       "model_id": "49ce12a747654067a8c7fbd630614204",
       "version_major": 2,
       "version_minor": 0
      },
      "text/plain": [
       "Downloading images for Derek Hough:   0%|          | 0/50 [00:00<?, ?it/s]"
      ]
     },
     "metadata": {},
     "output_type": "display_data"
    },
    {
     "data": {
      "application/vnd.jupyter.widget-view+json": {
       "model_id": "bc88076100054e3f9ba6035c7dc77c5a",
       "version_major": 2,
       "version_minor": 0
      },
      "text/plain": [
       "Downloading images for Dylan O'Brien:   0%|          | 0/50 [00:00<?, ?it/s]"
      ]
     },
     "metadata": {},
     "output_type": "display_data"
    },
    {
     "data": {
      "application/vnd.jupyter.widget-view+json": {
       "model_id": "bebf2b2b26ba4d02b88eaf94099f32ea",
       "version_major": 2,
       "version_minor": 0
      },
      "text/plain": [
       "Downloading images for Edward Norton:   0%|          | 0/50 [00:00<?, ?it/s]"
      ]
     },
     "metadata": {},
     "output_type": "display_data"
    },
    {
     "data": {
      "application/vnd.jupyter.widget-view+json": {
       "model_id": "24d73a644dd9431e8efe483c85447197",
       "version_major": 2,
       "version_minor": 0
      },
      "text/plain": [
       "Downloading images for Elijah Wood:   0%|          | 0/50 [00:00<?, ?it/s]"
      ]
     },
     "metadata": {},
     "output_type": "display_data"
    },
    {
     "data": {
      "application/vnd.jupyter.widget-view+json": {
       "model_id": "3661adb489444c91b4b9e8fa84c39b5c",
       "version_major": 2,
       "version_minor": 0
      },
      "text/plain": [
       "Downloading images for Eric Bana:   0%|          | 0/50 [00:00<?, ?it/s]"
      ]
     },
     "metadata": {},
     "output_type": "display_data"
    },
    {
     "data": {
      "application/vnd.jupyter.widget-view+json": {
       "model_id": "bd1a56011ccf4bf683436eac99d0cb21",
       "version_major": 2,
       "version_minor": 0
      },
      "text/plain": [
       "Downloading images for Ethan Hawke:   0%|          | 0/50 [00:00<?, ?it/s]"
      ]
     },
     "metadata": {},
     "output_type": "display_data"
    },
    {
     "data": {
      "application/vnd.jupyter.widget-view+json": {
       "model_id": "db20de8393174cb58d415812f55efad0",
       "version_major": 2,
       "version_minor": 0
      },
      "text/plain": [
       "Downloading images for Evan Peters:   0%|          | 0/50 [00:00<?, ?it/s]"
      ]
     },
     "metadata": {},
     "output_type": "display_data"
    },
    {
     "data": {
      "application/vnd.jupyter.widget-view+json": {
       "model_id": "9b9caa0832634bc7a71bbb27eafc6a10",
       "version_major": 2,
       "version_minor": 0
      },
      "text/plain": [
       "Downloading images for Gabriel Macht:   0%|          | 0/50 [00:00<?, ?it/s]"
      ]
     },
     "metadata": {},
     "output_type": "display_data"
    },
    {
     "data": {
      "application/vnd.jupyter.widget-view+json": {
       "model_id": "554cba0ffc64430babc20f335906b02f",
       "version_major": 2,
       "version_minor": 0
      },
      "text/plain": [
       "Downloading images for Garrett Hedlund:   0%|          | 0/50 [00:00<?, ?it/s]"
      ]
     },
     "metadata": {},
     "output_type": "display_data"
    },
    {
     "data": {
      "application/vnd.jupyter.widget-view+json": {
       "model_id": "b6246ebaa5fe46739dff2da378f5be4f",
       "version_major": 2,
       "version_minor": 0
      },
      "text/plain": [
       "Downloading images for Gavin Rossdale:   0%|          | 0/50 [00:00<?, ?it/s]"
      ]
     },
     "metadata": {},
     "output_type": "display_data"
    },
    {
     "data": {
      "application/vnd.jupyter.widget-view+json": {
       "model_id": "70a0b678e1214e6d9d7a1b699e25ba0a",
       "version_major": 2,
       "version_minor": 0
      },
      "text/plain": [
       "Downloading images for George Clooney:   0%|          | 0/50 [00:00<?, ?it/s]"
      ]
     },
     "metadata": {},
     "output_type": "display_data"
    },
    {
     "data": {
      "application/vnd.jupyter.widget-view+json": {
       "model_id": "70f086515d3940c39853663c22654ced",
       "version_major": 2,
       "version_minor": 0
      },
      "text/plain": [
       "Downloading images for Grant Gustin:   0%|          | 0/50 [00:00<?, ?it/s]"
      ]
     },
     "metadata": {},
     "output_type": "display_data"
    },
    {
     "data": {
      "application/vnd.jupyter.widget-view+json": {
       "model_id": "67d737a1cf0b4015be83adb4f81f6fc3",
       "version_major": 2,
       "version_minor": 0
      },
      "text/plain": [
       "Downloading images for Gregory Peck:   0%|          | 0/50 [00:00<?, ?it/s]"
      ]
     },
     "metadata": {},
     "output_type": "display_data"
    },
    {
     "data": {
      "application/vnd.jupyter.widget-view+json": {
       "model_id": "b9025d957abe4612bc8801fd55eb865a",
       "version_major": 2,
       "version_minor": 0
      },
      "text/plain": [
       "Downloading images for Hayden Christensen:   0%|          | 0/50 [00:00<?, ?it/s]"
      ]
     },
     "metadata": {},
     "output_type": "display_data"
    },
    {
     "data": {
      "application/vnd.jupyter.widget-view+json": {
       "model_id": "6632ee26fe12497fbef6c03793e64330",
       "version_major": 2,
       "version_minor": 0
      },
      "text/plain": [
       "Downloading images for Hunter Schafer:   0%|          | 0/50 [00:00<?, ?it/s]"
      ]
     },
     "metadata": {},
     "output_type": "display_data"
    },
    {
     "data": {
      "application/vnd.jupyter.widget-view+json": {
       "model_id": "d70a4357758f4ebda2f20e07d5c40bf7",
       "version_major": 2,
       "version_minor": 0
      },
      "text/plain": [
       "Downloading images for Ian Somerhalder:   0%|          | 0/50 [00:00<?, ?it/s]"
      ]
     },
     "metadata": {},
     "output_type": "display_data"
    },
    {
     "data": {
      "application/vnd.jupyter.widget-view+json": {
       "model_id": "c1c14da9deb24162a2c6cb7324ae4602",
       "version_major": 2,
       "version_minor": 0
      },
      "text/plain": [
       "Downloading images for Isaac Hempstead Wright:   0%|          | 0/50 [00:00<?, ?it/s]"
      ]
     },
     "metadata": {},
     "output_type": "display_data"
    },
    {
     "data": {
      "application/vnd.jupyter.widget-view+json": {
       "model_id": "43da583bd4e94323b8fb854a29a3504b",
       "version_major": 2,
       "version_minor": 0
      },
      "text/plain": [
       "Downloading images for Jacob Elordi:   0%|          | 0/50 [00:00<?, ?it/s]"
      ]
     },
     "metadata": {},
     "output_type": "display_data"
    },
    {
     "data": {
      "application/vnd.jupyter.widget-view+json": {
       "model_id": "06b8e29f9aa24d3dab95fb277c06ac61",
       "version_major": 2,
       "version_minor": 0
      },
      "text/plain": [
       "Downloading images for James McAvoy:   0%|          | 0/50 [00:00<?, ?it/s]"
      ]
     },
     "metadata": {},
     "output_type": "display_data"
    },
    {
     "data": {
      "application/vnd.jupyter.widget-view+json": {
       "model_id": "aed644fbdce94d84b4a05114eb507728",
       "version_major": 2,
       "version_minor": 0
      },
      "text/plain": [
       "Downloading images for Jason Momoa:   0%|          | 0/50 [00:00<?, ?it/s]"
      ]
     },
     "metadata": {},
     "output_type": "display_data"
    },
    {
     "data": {
      "application/vnd.jupyter.widget-view+json": {
       "model_id": "06fe15b788d744469f1bd357227aec85",
       "version_major": 2,
       "version_minor": 0
      },
      "text/plain": [
       "Downloading images for Jared Leto:   0%|          | 0/50 [00:00<?, ?it/s]"
      ]
     },
     "metadata": {},
     "output_type": "display_data"
    },
    {
     "data": {
      "application/vnd.jupyter.widget-view+json": {
       "model_id": "7d4d5a55a54546e0aad1cc723e201a6d",
       "version_major": 2,
       "version_minor": 0
      },
      "text/plain": [
       "Downloading images for Jeremy Renner:   0%|          | 0/50 [00:00<?, ?it/s]"
      ]
     },
     "metadata": {},
     "output_type": "display_data"
    },
    {
     "data": {
      "application/vnd.jupyter.widget-view+json": {
       "model_id": "7eb55c69c3384701945f85550d7bf5d7",
       "version_major": 2,
       "version_minor": 0
      },
      "text/plain": [
       "Downloading images for Jesse Eisenberg:   0%|          | 0/50 [00:00<?, ?it/s]"
      ]
     },
     "metadata": {},
     "output_type": "display_data"
    },
    {
     "data": {
      "application/vnd.jupyter.widget-view+json": {
       "model_id": "5a72199c93fc43e7b94a79a430b4c7c4",
       "version_major": 2,
       "version_minor": 0
      },
      "text/plain": [
       "Downloading images for John Krasinski:   0%|          | 0/50 [00:00<?, ?it/s]"
      ]
     },
     "metadata": {},
     "output_type": "display_data"
    },
    {
     "data": {
      "application/vnd.jupyter.widget-view+json": {
       "model_id": "914b27f3299f4026b8ae20841c6f56b1",
       "version_major": 2,
       "version_minor": 0
      },
      "text/plain": [
       "Downloading images for Jonathan Majors:   0%|          | 0/50 [00:00<?, ?it/s]"
      ]
     },
     "metadata": {},
     "output_type": "display_data"
    },
    {
     "data": {
      "application/vnd.jupyter.widget-view+json": {
       "model_id": "69a94acfa0e44c63b5d702987a2871bd",
       "version_major": 2,
       "version_minor": 0
      },
      "text/plain": [
       "Downloading images for Jordan Fisher:   0%|          | 0/50 [00:00<?, ?it/s]"
      ]
     },
     "metadata": {},
     "output_type": "display_data"
    },
    {
     "data": {
      "application/vnd.jupyter.widget-view+json": {
       "model_id": "83cc0091411f4924b618b87bd4dfe375",
       "version_major": 2,
       "version_minor": 0
      },
      "text/plain": [
       "Downloading images for Joseph Gordon-Levitt:   0%|          | 0/50 [00:00<?, ?it/s]"
      ]
     },
     "metadata": {},
     "output_type": "display_data"
    },
    {
     "data": {
      "application/vnd.jupyter.widget-view+json": {
       "model_id": "4a5a219af8634f3c9c769aae3b1e1ff8",
       "version_major": 2,
       "version_minor": 0
      },
      "text/plain": [
       "Downloading images for Joshua Bassett:   0%|          | 0/50 [00:00<?, ?it/s]"
      ]
     },
     "metadata": {},
     "output_type": "display_data"
    },
    {
     "data": {
      "application/vnd.jupyter.widget-view+json": {
       "model_id": "4a491d5bcd93494eb9f78abefc42de06",
       "version_major": 2,
       "version_minor": 0
      },
      "text/plain": [
       "Downloading images for Julian Dennison:   0%|          | 0/50 [00:00<?, ?it/s]"
      ]
     },
     "metadata": {},
     "output_type": "display_data"
    },
    {
     "data": {
      "application/vnd.jupyter.widget-view+json": {
       "model_id": "a7cb3e41d458415db53c2c98dd54c4ef",
       "version_major": 2,
       "version_minor": 0
      },
      "text/plain": [
       "Downloading images for Justin Timberlake:   0%|          | 0/50 [00:00<?, ?it/s]"
      ]
     },
     "metadata": {},
     "output_type": "display_data"
    },
    {
     "data": {
      "application/vnd.jupyter.widget-view+json": {
       "model_id": "888c0eabe8a74d28be2640a63714f4ef",
       "version_major": 2,
       "version_minor": 0
      },
      "text/plain": [
       "Downloading images for Keith Urban:   0%|          | 0/50 [00:00<?, ?it/s]"
      ]
     },
     "metadata": {},
     "output_type": "display_data"
    },
    {
     "data": {
      "application/vnd.jupyter.widget-view+json": {
       "model_id": "a7bd2fecff7b4abb97b40b02c013cb91",
       "version_major": 2,
       "version_minor": 0
      },
      "text/plain": [
       "Downloading images for Kevin Hart:   0%|          | 0/50 [00:00<?, ?it/s]"
      ]
     },
     "metadata": {},
     "output_type": "display_data"
    },
    {
     "data": {
      "application/vnd.jupyter.widget-view+json": {
       "model_id": "206e6e581c78489fad518e9c3b3c2590",
       "version_major": 2,
       "version_minor": 0
      },
      "text/plain": [
       "Downloading images for Kieran Culkin:   0%|          | 0/50 [00:00<?, ?it/s]"
      ]
     },
     "metadata": {},
     "output_type": "display_data"
    },
    {
     "data": {
      "application/vnd.jupyter.widget-view+json": {
       "model_id": "77dce688dc4c472ea253b5f757a0e2ca",
       "version_major": 2,
       "version_minor": 0
      },
      "text/plain": [
       "Downloading images for Kyle Chandler:   0%|          | 0/50 [00:00<?, ?it/s]"
      ]
     },
     "metadata": {},
     "output_type": "display_data"
    },
    {
     "data": {
      "application/vnd.jupyter.widget-view+json": {
       "model_id": "4799e09cec404748b2601a9f4a87718b",
       "version_major": 2,
       "version_minor": 0
      },
      "text/plain": [
       "Downloading images for Landon Barker:   0%|          | 0/50 [00:00<?, ?it/s]"
      ]
     },
     "metadata": {},
     "output_type": "display_data"
    },
    {
     "data": {
      "application/vnd.jupyter.widget-view+json": {
       "model_id": "7ef3ff1a54cc4a2091ea090a2f7f6d04",
       "version_major": 2,
       "version_minor": 0
      },
      "text/plain": [
       "Downloading images for Logan Lerman:   0%|          | 0/50 [00:00<?, ?it/s]"
      ]
     },
     "metadata": {},
     "output_type": "display_data"
    },
    {
     "data": {
      "application/vnd.jupyter.widget-view+json": {
       "model_id": "1ac0a19b9afa465cb859e0a6fa4511bf",
       "version_major": 2,
       "version_minor": 0
      },
      "text/plain": [
       "Downloading images for Luke Combs:   0%|          | 0/50 [00:00<?, ?it/s]"
      ]
     },
     "metadata": {},
     "output_type": "display_data"
    },
    {
     "data": {
      "application/vnd.jupyter.widget-view+json": {
       "model_id": "06971aae28a34034b53b484d66e47551",
       "version_major": 2,
       "version_minor": 0
      },
      "text/plain": [
       "Downloading images for Mark Ruffalo:   0%|          | 0/50 [00:00<?, ?it/s]"
      ]
     },
     "metadata": {},
     "output_type": "display_data"
    },
    {
     "data": {
      "application/vnd.jupyter.widget-view+json": {
       "model_id": "4422a77f310e4ebbae0c678f7f431351",
       "version_major": 2,
       "version_minor": 0
      },
      "text/plain": [
       "Downloading images for Mason Mount:   0%|          | 0/50 [00:00<?, ?it/s]"
      ]
     },
     "metadata": {},
     "output_type": "display_data"
    },
    {
     "data": {
      "application/vnd.jupyter.widget-view+json": {
       "model_id": "994763eda50048a9a9afc5e02a5ebf8c",
       "version_major": 2,
       "version_minor": 0
      },
      "text/plain": [
       "Downloading images for Matthew McConaughey:   0%|          | 0/50 [00:00<?, ?it/s]"
      ]
     },
     "metadata": {},
     "output_type": "display_data"
    },
    {
     "data": {
      "application/vnd.jupyter.widget-view+json": {
       "model_id": "d14a286a86ae4d1facdbd6f7e702ed93",
       "version_major": 2,
       "version_minor": 0
      },
      "text/plain": [
       "Downloading images for Michael B. Jordan:   0%|          | 0/50 [00:00<?, ?it/s]"
      ]
     },
     "metadata": {},
     "output_type": "display_data"
    },
    {
     "data": {
      "application/vnd.jupyter.widget-view+json": {
       "model_id": "1b78037856234bb9a3799d0b640f68eb",
       "version_major": 2,
       "version_minor": 0
      },
      "text/plain": [
       "Downloading images for Mitchell Hope:   0%|          | 0/50 [00:00<?, ?it/s]"
      ]
     },
     "metadata": {},
     "output_type": "display_data"
    },
    {
     "data": {
      "application/vnd.jupyter.widget-view+json": {
       "model_id": "52f67bc702a04d9d86f0355c60d5274b",
       "version_major": 2,
       "version_minor": 0
      },
      "text/plain": [
       "Downloading images for Nathan Fillion:   0%|          | 0/50 [00:00<?, ?it/s]"
      ]
     },
     "metadata": {},
     "output_type": "display_data"
    },
    {
     "data": {
      "application/vnd.jupyter.widget-view+json": {
       "model_id": "604c3e6580464916ac64b065dac3e824",
       "version_major": 2,
       "version_minor": 0
      },
      "text/plain": [
       "Downloading images for Nicholas Hoult:   0%|          | 0/50 [00:00<?, ?it/s]"
      ]
     },
     "metadata": {},
     "output_type": "display_data"
    },
    {
     "data": {
      "application/vnd.jupyter.widget-view+json": {
       "model_id": "dd4cd0ca43d24d7cac07bb0dfe0fb09a",
       "version_major": 2,
       "version_minor": 0
      },
      "text/plain": [
       "Downloading images for Noah Centineo:   0%|          | 0/50 [00:00<?, ?it/s]"
      ]
     },
     "metadata": {},
     "output_type": "display_data"
    },
    {
     "data": {
      "application/vnd.jupyter.widget-view+json": {
       "model_id": "9f31dec7d1a440fca110357cc12661ff",
       "version_major": 2,
       "version_minor": 0
      },
      "text/plain": [
       "Downloading images for Oliver Jackson-Cohen:   0%|          | 0/50 [00:00<?, ?it/s]"
      ]
     },
     "metadata": {},
     "output_type": "display_data"
    },
    {
     "data": {
      "application/vnd.jupyter.widget-view+json": {
       "model_id": "d0256181c350453183f10ed5da3ddb7c",
       "version_major": 2,
       "version_minor": 0
      },
      "text/plain": [
       "Downloading images for Owen Wilson:   0%|          | 0/50 [00:00<?, ?it/s]"
      ]
     },
     "metadata": {},
     "output_type": "display_data"
    },
    {
     "data": {
      "application/vnd.jupyter.widget-view+json": {
       "model_id": "570d72ae91f84a5f81a105f993dfe42c",
       "version_major": 2,
       "version_minor": 0
      },
      "text/plain": [
       "Downloading images for Patrick Dempsey:   0%|          | 0/50 [00:00<?, ?it/s]"
      ]
     },
     "metadata": {},
     "output_type": "display_data"
    },
    {
     "data": {
      "application/vnd.jupyter.widget-view+json": {
       "model_id": "68c4174f5ae44055b8f89422f87cc22d",
       "version_major": 2,
       "version_minor": 0
      },
      "text/plain": [
       "Downloading images for Paul Rudd:   0%|          | 0/50 [00:00<?, ?it/s]"
      ]
     },
     "metadata": {},
     "output_type": "display_data"
    },
    {
     "data": {
      "application/vnd.jupyter.widget-view+json": {
       "model_id": "b4f019d10af54347b98b44d60ac13b55",
       "version_major": 2,
       "version_minor": 0
      },
      "text/plain": [
       "Downloading images for Peter Dinklage:   0%|          | 0/50 [00:00<?, ?it/s]"
      ]
     },
     "metadata": {},
     "output_type": "display_data"
    },
    {
     "data": {
      "application/vnd.jupyter.widget-view+json": {
       "model_id": "03b3e56cefcf46c0838065cb4daac7a2",
       "version_major": 2,
       "version_minor": 0
      },
      "text/plain": [
       "Downloading images for Philip Seymour Hoffman:   0%|          | 0/50 [00:00<?, ?it/s]"
      ]
     },
     "metadata": {},
     "output_type": "display_data"
    },
    {
     "data": {
      "application/vnd.jupyter.widget-view+json": {
       "model_id": "28b2b2cba7324aa39bc3963d26b0a790",
       "version_major": 2,
       "version_minor": 0
      },
      "text/plain": [
       "Downloading images for Raymond Reddington:   0%|          | 0/50 [00:00<?, ?it/s]"
      ]
     },
     "metadata": {},
     "output_type": "display_data"
    },
    {
     "data": {
      "application/vnd.jupyter.widget-view+json": {
       "model_id": "25551b8db0e443caab90fb60f11ebcf4",
       "version_major": 2,
       "version_minor": 0
      },
      "text/plain": [
       "Downloading images for Richard Madden:   0%|          | 0/50 [00:00<?, ?it/s]"
      ]
     },
     "metadata": {},
     "output_type": "display_data"
    },
    {
     "data": {
      "application/vnd.jupyter.widget-view+json": {
       "model_id": "331b7f04dd5943df9edf572a8d1cfdf5",
       "version_major": 2,
       "version_minor": 0
      },
      "text/plain": [
       "Downloading images for Robert Pattinson:   0%|          | 0/50 [00:00<?, ?it/s]"
      ]
     },
     "metadata": {},
     "output_type": "display_data"
    },
    {
     "data": {
      "application/vnd.jupyter.widget-view+json": {
       "model_id": "e1d9ffe67c584e6389ef998b298a10b6",
       "version_major": 2,
       "version_minor": 0
      },
      "text/plain": [
       "Downloading images for Ryan Reynolds:   0%|          | 0/50 [00:00<?, ?it/s]"
      ]
     },
     "metadata": {},
     "output_type": "display_data"
    },
    {
     "data": {
      "application/vnd.jupyter.widget-view+json": {
       "model_id": "e0b5cfb6dbe14a4f94dbdd2304a14c25",
       "version_major": 2,
       "version_minor": 0
      },
      "text/plain": [
       "Downloading images for Samuel L. Jackson:   0%|          | 0/50 [00:00<?, ?it/s]"
      ]
     },
     "metadata": {},
     "output_type": "display_data"
    },
    {
     "data": {
      "application/vnd.jupyter.widget-view+json": {
       "model_id": "4d3aae26a5c64f1b83ffd62fa44209a0",
       "version_major": 2,
       "version_minor": 0
      },
      "text/plain": [
       "Downloading images for Sean Penn:   0%|          | 0/50 [00:00<?, ?it/s]"
      ]
     },
     "metadata": {},
     "output_type": "display_data"
    },
    {
     "data": {
      "application/vnd.jupyter.widget-view+json": {
       "model_id": "278757af7b8b4946a98d451f9db4b44c",
       "version_major": 2,
       "version_minor": 0
      },
      "text/plain": [
       "Downloading images for Seth Rogen:   0%|          | 0/50 [00:00<?, ?it/s]"
      ]
     },
     "metadata": {},
     "output_type": "display_data"
    },
    {
     "data": {
      "application/vnd.jupyter.widget-view+json": {
       "model_id": "79cb48fb3d384b5ea44d2290ba548a48",
       "version_major": 2,
       "version_minor": 0
      },
      "text/plain": [
       "Downloading images for Steven Yeun:   0%|          | 0/50 [00:00<?, ?it/s]"
      ]
     },
     "metadata": {},
     "output_type": "display_data"
    },
    {
     "data": {
      "application/vnd.jupyter.widget-view+json": {
       "model_id": "345eeecb38d9421ca1811751fffe7ad0",
       "version_major": 2,
       "version_minor": 0
      },
      "text/plain": [
       "Downloading images for Thomas Brodie-Sangster:   0%|          | 0/50 [00:00<?, ?it/s]"
      ]
     },
     "metadata": {},
     "output_type": "display_data"
    },
    {
     "data": {
      "application/vnd.jupyter.widget-view+json": {
       "model_id": "b6d286427f15484594965dd05696da3b",
       "version_major": 2,
       "version_minor": 0
      },
      "text/plain": [
       "Downloading images for Timothy Chalamet:   0%|          | 0/50 [00:00<?, ?it/s]"
      ]
     },
     "metadata": {},
     "output_type": "display_data"
    },
    {
     "data": {
      "application/vnd.jupyter.widget-view+json": {
       "model_id": "2275355bf3ee40d08a04e6dd0878b387",
       "version_major": 2,
       "version_minor": 0
      },
      "text/plain": [
       "Downloading images for Tyler Posey:   0%|          | 0/50 [00:00<?, ?it/s]"
      ]
     },
     "metadata": {},
     "output_type": "display_data"
    },
    {
     "data": {
      "application/vnd.jupyter.widget-view+json": {
       "model_id": "87bee44a0f5d46ffb514c59e20731429",
       "version_major": 2,
       "version_minor": 0
      },
      "text/plain": [
       "Downloading images for Victor Krum:   0%|          | 0/50 [00:00<?, ?it/s]"
      ]
     },
     "metadata": {},
     "output_type": "display_data"
    },
    {
     "data": {
      "application/vnd.jupyter.widget-view+json": {
       "model_id": "16e202d3c8ac4b6ba1da4c9ef07fe83e",
       "version_major": 2,
       "version_minor": 0
      },
      "text/plain": [
       "Downloading images for Vincent D'Onofrio:   0%|          | 0/50 [00:00<?, ?it/s]"
      ]
     },
     "metadata": {},
     "output_type": "display_data"
    },
    {
     "data": {
      "application/vnd.jupyter.widget-view+json": {
       "model_id": "47e905b69bd744d3a21164a5932d7d4d",
       "version_major": 2,
       "version_minor": 0
      },
      "text/plain": [
       "Downloading images for Walter White:   0%|          | 0/50 [00:00<?, ?it/s]"
      ]
     },
     "metadata": {},
     "output_type": "display_data"
    },
    {
     "data": {
      "application/vnd.jupyter.widget-view+json": {
       "model_id": "89beaa34130b401fb824b3d79ef0553c",
       "version_major": 2,
       "version_minor": 0
      },
      "text/plain": [
       "Downloading images for William Levy:   0%|          | 0/50 [00:00<?, ?it/s]"
      ]
     },
     "metadata": {},
     "output_type": "display_data"
    },
    {
     "data": {
      "application/vnd.jupyter.widget-view+json": {
       "model_id": "8d9081f3db2244da9ff75bde39ac3c2b",
       "version_major": 2,
       "version_minor": 0
      },
      "text/plain": [
       "Downloading images for Zachary Levi:   0%|          | 0/50 [00:00<?, ?it/s]"
      ]
     },
     "metadata": {},
     "output_type": "display_data"
    },
    {
     "data": {
      "application/vnd.jupyter.widget-view+json": {
       "model_id": "2d2c98bf6e374a548a9031c14604b6c7",
       "version_major": 2,
       "version_minor": 0
      },
      "text/plain": [
       "Downloading images for Alex Pettyfer:   0%|          | 0/50 [00:00<?, ?it/s]"
      ]
     },
     "metadata": {},
     "output_type": "display_data"
    },
    {
     "data": {
      "application/vnd.jupyter.widget-view+json": {
       "model_id": "296a1b06c2b642d1b947869d8b0d4bce",
       "version_major": 2,
       "version_minor": 0
      },
      "text/plain": [
       "Downloading images for Ben Affleck:   0%|          | 0/50 [00:00<?, ?it/s]"
      ]
     },
     "metadata": {},
     "output_type": "display_data"
    },
    {
     "data": {
      "application/vnd.jupyter.widget-view+json": {
       "model_id": "64ff10982f4c4a0190901a2d84370db5",
       "version_major": 2,
       "version_minor": 0
      },
      "text/plain": [
       "Downloading images for Chris Evans:   0%|          | 0/50 [00:00<?, ?it/s]"
      ]
     },
     "metadata": {},
     "output_type": "display_data"
    },
    {
     "data": {
      "application/vnd.jupyter.widget-view+json": {
       "model_id": "df402f2ca7b6486385c02d74091c902f",
       "version_major": 2,
       "version_minor": 0
      },
      "text/plain": [
       "Downloading images for Dan Levy:   0%|          | 0/50 [00:00<?, ?it/s]"
      ]
     },
     "metadata": {},
     "output_type": "display_data"
    },
    {
     "data": {
      "application/vnd.jupyter.widget-view+json": {
       "model_id": "c64893a5a7354c6fbd7f412f8c8e087a",
       "version_major": 2,
       "version_minor": 0
      },
      "text/plain": [
       "Downloading images for Abigail Cowen:   0%|          | 0/50 [00:00<?, ?it/s]"
      ]
     },
     "metadata": {},
     "output_type": "display_data"
    },
    {
     "data": {
      "application/vnd.jupyter.widget-view+json": {
       "model_id": "79c14bf7543c4b919b855ebfb3ddfe9b",
       "version_major": 2,
       "version_minor": 0
      },
      "text/plain": [
       "Downloading images for Alexandra Daddario:   0%|          | 0/50 [00:00<?, ?it/s]"
      ]
     },
     "metadata": {},
     "output_type": "display_data"
    },
    {
     "data": {
      "application/vnd.jupyter.widget-view+json": {
       "model_id": "9024e56ef39849f69ea240708da4f943",
       "version_major": 2,
       "version_minor": 0
      },
      "text/plain": [
       "Downloading images for Alice Eve:   0%|          | 0/50 [00:00<?, ?it/s]"
      ]
     },
     "metadata": {},
     "output_type": "display_data"
    },
    {
     "data": {
      "application/vnd.jupyter.widget-view+json": {
       "model_id": "977887574248468084ac425b2223ebc5",
       "version_major": 2,
       "version_minor": 0
      },
      "text/plain": [
       "Downloading images for Alyssa Milano:   0%|          | 0/50 [00:00<?, ?it/s]"
      ]
     },
     "metadata": {},
     "output_type": "display_data"
    },
    {
     "data": {
      "application/vnd.jupyter.widget-view+json": {
       "model_id": "492b79c910d543d18b99c926c07915f0",
       "version_major": 2,
       "version_minor": 0
      },
      "text/plain": [
       "Downloading images for Amanda Seyfried:   0%|          | 0/50 [00:00<?, ?it/s]"
      ]
     },
     "metadata": {},
     "output_type": "display_data"
    },
    {
     "data": {
      "application/vnd.jupyter.widget-view+json": {
       "model_id": "fd4f8da84def426987ffcd4f8e7d3bea",
       "version_major": 2,
       "version_minor": 0
      },
      "text/plain": [
       "Downloading images for Amelia Gray Hamlin:   0%|          | 0/50 [00:00<?, ?it/s]"
      ]
     },
     "metadata": {},
     "output_type": "display_data"
    },
    {
     "data": {
      "application/vnd.jupyter.widget-view+json": {
       "model_id": "20d0c06436d149919348b6c4caccfb96",
       "version_major": 2,
       "version_minor": 0
      },
      "text/plain": [
       "Downloading images for Andrea Riseborough:   0%|          | 0/50 [00:00<?, ?it/s]"
      ]
     },
     "metadata": {},
     "output_type": "display_data"
    },
    {
     "data": {
      "application/vnd.jupyter.widget-view+json": {
       "model_id": "caf385e64afe46e68806fd2311344f69",
       "version_major": 2,
       "version_minor": 0
      },
      "text/plain": [
       "Downloading images for Angela Bassett:   0%|          | 0/50 [00:00<?, ?it/s]"
      ]
     },
     "metadata": {},
     "output_type": "display_data"
    },
    {
     "data": {
      "application/vnd.jupyter.widget-view+json": {
       "model_id": "dbbc7adc01d34ecea33959f709bd8d6b",
       "version_major": 2,
       "version_minor": 0
      },
      "text/plain": [
       "Downloading images for Anna Kendrick:   0%|          | 0/50 [00:00<?, ?it/s]"
      ]
     },
     "metadata": {},
     "output_type": "display_data"
    },
    {
     "data": {
      "application/vnd.jupyter.widget-view+json": {
       "model_id": "b367f3d3adbb4c709436bcbcf58c44b9",
       "version_major": 2,
       "version_minor": 0
      },
      "text/plain": [
       "Downloading images for Ashley Benson:   0%|          | 0/50 [00:00<?, ?it/s]"
      ]
     },
     "metadata": {},
     "output_type": "display_data"
    },
    {
     "data": {
      "application/vnd.jupyter.widget-view+json": {
       "model_id": "fb7f6120b1194aedaa2a3d90a420bfda",
       "version_major": 2,
       "version_minor": 0
      },
      "text/plain": [
       "Downloading images for Audrey Hepburn:   0%|          | 0/50 [00:00<?, ?it/s]"
      ]
     },
     "metadata": {},
     "output_type": "display_data"
    },
    {
     "data": {
      "application/vnd.jupyter.widget-view+json": {
       "model_id": "28ac263a8ccf444d9c2db18afc501b1c",
       "version_major": 2,
       "version_minor": 0
      },
      "text/plain": [
       "Downloading images for Ava Phillippe:   0%|          | 0/50 [00:00<?, ?it/s]"
      ]
     },
     "metadata": {},
     "output_type": "display_data"
    },
    {
     "data": {
      "application/vnd.jupyter.widget-view+json": {
       "model_id": "25ff78d5502f43f0904f968561870a38",
       "version_major": 2,
       "version_minor": 0
      },
      "text/plain": [
       "Downloading images for Barbara Palvin:   0%|          | 0/50 [00:00<?, ?it/s]"
      ]
     },
     "metadata": {},
     "output_type": "display_data"
    },
    {
     "data": {
      "application/vnd.jupyter.widget-view+json": {
       "model_id": "faadccf04a4f47a1af90910d10e5fc77",
       "version_major": 2,
       "version_minor": 0
      },
      "text/plain": [
       "Downloading images for Beatrice Borromeo:   0%|          | 0/50 [00:00<?, ?it/s]"
      ]
     },
     "metadata": {},
     "output_type": "display_data"
    },
    {
     "data": {
      "application/vnd.jupyter.widget-view+json": {
       "model_id": "77b5ee23cb374f6d87136d4c6f054a35",
       "version_major": 2,
       "version_minor": 0
      },
      "text/plain": [
       "Downloading images for Bella Hadid:   0%|          | 0/50 [00:00<?, ?it/s]"
      ]
     },
     "metadata": {},
     "output_type": "display_data"
    },
    {
     "data": {
      "application/vnd.jupyter.widget-view+json": {
       "model_id": "5b2e72993c2f44e4a2b659ae053cb775",
       "version_major": 2,
       "version_minor": 0
      },
      "text/plain": [
       "Downloading images for Brenda Song:   0%|          | 0/50 [00:00<?, ?it/s]"
      ]
     },
     "metadata": {},
     "output_type": "display_data"
    },
    {
     "data": {
      "application/vnd.jupyter.widget-view+json": {
       "model_id": "910db31660b34313ba10516e006497e9",
       "version_major": 2,
       "version_minor": 0
      },
      "text/plain": [
       "Downloading images for Briana DeJesus:   0%|          | 0/50 [00:00<?, ?it/s]"
      ]
     },
     "metadata": {},
     "output_type": "display_data"
    },
    {
     "data": {
      "application/vnd.jupyter.widget-view+json": {
       "model_id": "b9c231af4a6d46fbbcc129a750dcdc1c",
       "version_major": 2,
       "version_minor": 0
      },
      "text/plain": [
       "Downloading images for Brittany Snow:   0%|          | 0/50 [00:00<?, ?it/s]"
      ]
     },
     "metadata": {},
     "output_type": "display_data"
    },
    {
     "data": {
      "application/vnd.jupyter.widget-view+json": {
       "model_id": "b2b100048d9f4e98a14709b83d56377d",
       "version_major": 2,
       "version_minor": 0
      },
      "text/plain": [
       "Downloading images for Brooke Shields:   0%|          | 0/50 [00:00<?, ?it/s]"
      ]
     },
     "metadata": {},
     "output_type": "display_data"
    },
    {
     "data": {
      "application/vnd.jupyter.widget-view+json": {
       "model_id": "042d32c8423042e3be49e2944e9ebef5",
       "version_major": 2,
       "version_minor": 0
      },
      "text/plain": [
       "Downloading images for Caitlin Jenner:   0%|          | 0/50 [00:00<?, ?it/s]"
      ]
     },
     "metadata": {},
     "output_type": "display_data"
    },
    {
     "data": {
      "application/vnd.jupyter.widget-view+json": {
       "model_id": "cdda30cfc0de44e2b9a00b8808dbdd61",
       "version_major": 2,
       "version_minor": 0
      },
      "text/plain": [
       "Downloading images for Carla Gugino:   0%|          | 0/50 [00:00<?, ?it/s]"
      ]
     },
     "metadata": {},
     "output_type": "display_data"
    },
    {
     "data": {
      "application/vnd.jupyter.widget-view+json": {
       "model_id": "effe3c6cdca04c5ebd90647da0a724fc",
       "version_major": 2,
       "version_minor": 0
      },
      "text/plain": [
       "Downloading images for Carla Bruni:   0%|          | 0/50 [00:00<?, ?it/s]"
      ]
     },
     "metadata": {},
     "output_type": "display_data"
    },
    {
     "data": {
      "application/vnd.jupyter.widget-view+json": {
       "model_id": "ca178f8ef96b45fa9b003ecb455a48c7",
       "version_major": 2,
       "version_minor": 0
      },
      "text/plain": [
       "Downloading images for Caroline Wozniacki:   0%|          | 0/50 [00:00<?, ?it/s]"
      ]
     },
     "metadata": {},
     "output_type": "display_data"
    },
    {
     "data": {
      "application/vnd.jupyter.widget-view+json": {
       "model_id": "b286a07ddefb4336b8f11d07fb26a9b2",
       "version_major": 2,
       "version_minor": 0
      },
      "text/plain": [
       "Downloading images for Cassandra Peterson:   0%|          | 0/50 [00:00<?, ?it/s]"
      ]
     },
     "metadata": {},
     "output_type": "display_data"
    },
    {
     "data": {
      "application/vnd.jupyter.widget-view+json": {
       "model_id": "6e479cd4aeb340f7b76f6006b9297f4e",
       "version_major": 2,
       "version_minor": 0
      },
      "text/plain": [
       "Downloading images for Catherine Zeta-Jones:   0%|          | 0/50 [00:00<?, ?it/s]"
      ]
     },
     "metadata": {},
     "output_type": "display_data"
    },
    {
     "data": {
      "application/vnd.jupyter.widget-view+json": {
       "model_id": "8af50f1a4c2e42c6869afd2f00ff2f3a",
       "version_major": 2,
       "version_minor": 0
      },
      "text/plain": [
       "Downloading images for Cecilia Cheung:   0%|          | 0/50 [00:00<?, ?it/s]"
      ]
     },
     "metadata": {},
     "output_type": "display_data"
    },
    {
     "data": {
      "application/vnd.jupyter.widget-view+json": {
       "model_id": "f82a4e2aedb643f1aacb6cac8be27c8f",
       "version_major": 2,
       "version_minor": 0
      },
      "text/plain": [
       "Downloading images for Charlotte Le Bon:   0%|          | 0/50 [00:00<?, ?it/s]"
      ]
     },
     "metadata": {},
     "output_type": "display_data"
    },
    {
     "data": {
      "application/vnd.jupyter.widget-view+json": {
       "model_id": "a64ebb286bf74b70a9a0dc98bc3d4c3d",
       "version_major": 2,
       "version_minor": 0
      },
      "text/plain": [
       "Downloading images for Chloe Grace Moretz:   0%|          | 0/50 [00:00<?, ?it/s]"
      ]
     },
     "metadata": {},
     "output_type": "display_data"
    },
    {
     "data": {
      "application/vnd.jupyter.widget-view+json": {
       "model_id": "3c36f792556b4c7bbbbcd92fbb66d205",
       "version_major": 2,
       "version_minor": 0
      },
      "text/plain": [
       "Downloading images for Christina Ricci:   0%|          | 0/50 [00:00<?, ?it/s]"
      ]
     },
     "metadata": {},
     "output_type": "display_data"
    },
    {
     "data": {
      "application/vnd.jupyter.widget-view+json": {
       "model_id": "51fc0fa30ab543ef8fe2e8ea9a8b2ad4",
       "version_major": 2,
       "version_minor": 0
      },
      "text/plain": [
       "Downloading images for Christine Baranski:   0%|          | 0/50 [00:00<?, ?it/s]"
      ]
     },
     "metadata": {},
     "output_type": "display_data"
    },
    {
     "data": {
      "application/vnd.jupyter.widget-view+json": {
       "model_id": "4481d44379d0475da5496444438239ff",
       "version_major": 2,
       "version_minor": 0
      },
      "text/plain": [
       "Downloading images for Claire Danes:   0%|          | 0/50 [00:00<?, ?it/s]"
      ]
     },
     "metadata": {},
     "output_type": "display_data"
    },
    {
     "data": {
      "application/vnd.jupyter.widget-view+json": {
       "model_id": "3b6e95bff150429385a3d66a63c871ad",
       "version_major": 2,
       "version_minor": 0
      },
      "text/plain": [
       "Downloading images for Clara Luciani:   0%|          | 0/50 [00:00<?, ?it/s]"
      ]
     },
     "metadata": {},
     "output_type": "display_data"
    },
    {
     "data": {
      "application/vnd.jupyter.widget-view+json": {
       "model_id": "fb2242d266614d04987b58331cc4379c",
       "version_major": 2,
       "version_minor": 0
      },
      "text/plain": [
       "Downloading images for Claudia Schiffer:   0%|          | 0/50 [00:00<?, ?it/s]"
      ]
     },
     "metadata": {},
     "output_type": "display_data"
    },
    {
     "data": {
      "application/vnd.jupyter.widget-view+json": {
       "model_id": "afab6a37453f47d49aa3ce251becec80",
       "version_major": 2,
       "version_minor": 0
      },
      "text/plain": [
       "Downloading images for Colleen Ballinger:   0%|          | 0/50 [00:00<?, ?it/s]"
      ]
     },
     "metadata": {},
     "output_type": "display_data"
    },
    {
     "data": {
      "application/vnd.jupyter.widget-view+json": {
       "model_id": "03be4db074c144299bd8f2aee17100da",
       "version_major": 2,
       "version_minor": 0
      },
      "text/plain": [
       "Downloading images for Courtney Cox:   0%|          | 0/50 [00:00<?, ?it/s]"
      ]
     },
     "metadata": {},
     "output_type": "display_data"
    },
    {
     "data": {
      "application/vnd.jupyter.widget-view+json": {
       "model_id": "128ed677fd86455c9e0eea061911d68e",
       "version_major": 2,
       "version_minor": 0
      },
      "text/plain": [
       "Downloading images for Cynthia Erivo:   0%|          | 0/50 [00:00<?, ?it/s]"
      ]
     },
     "metadata": {},
     "output_type": "display_data"
    },
    {
     "data": {
      "application/vnd.jupyter.widget-view+json": {
       "model_id": "0ca313942b9148ee96c080d076d61d40",
       "version_major": 2,
       "version_minor": 0
      },
      "text/plain": [
       "Downloading images for Daisy Ridley:   0%|          | 0/50 [00:00<?, ?it/s]"
      ]
     },
     "metadata": {},
     "output_type": "display_data"
    },
    {
     "data": {
      "application/vnd.jupyter.widget-view+json": {
       "model_id": "aaf908a8a02d40e09bf4a042ce75bb1a",
       "version_major": 2,
       "version_minor": 0
      },
      "text/plain": [
       "Downloading images for Danielle Rose Russell:   0%|          | 0/50 [00:00<?, ?it/s]"
      ]
     },
     "metadata": {},
     "output_type": "display_data"
    },
    {
     "data": {
      "application/vnd.jupyter.widget-view+json": {
       "model_id": "b9ad0cb8c6f8494d8d2f82dbcadaf4ee",
       "version_major": 2,
       "version_minor": 0
      },
      "text/plain": [
       "Downloading images for Deborah Ann Woll:   0%|          | 0/50 [00:00<?, ?it/s]"
      ]
     },
     "metadata": {},
     "output_type": "display_data"
    },
    {
     "data": {
      "application/vnd.jupyter.widget-view+json": {
       "model_id": "e76f5649a6cd49bbb7ed1a707295f170",
       "version_major": 2,
       "version_minor": 0
      },
      "text/plain": [
       "Downloading images for Debra Messing:   0%|          | 0/50 [00:00<?, ?it/s]"
      ]
     },
     "metadata": {},
     "output_type": "display_data"
    },
    {
     "data": {
      "application/vnd.jupyter.widget-view+json": {
       "model_id": "419478a0ccea4cf6a936e9b841db2116",
       "version_major": 2,
       "version_minor": 0
      },
      "text/plain": [
       "Downloading images for Denise Richards:   0%|          | 0/50 [00:00<?, ?it/s]"
      ]
     },
     "metadata": {},
     "output_type": "display_data"
    },
    {
     "data": {
      "application/vnd.jupyter.widget-view+json": {
       "model_id": "7f9b242211264e898e02592217114fbe",
       "version_major": 2,
       "version_minor": 0
      },
      "text/plain": [
       "Downloading images for Diana Ross:   0%|          | 0/50 [00:00<?, ?it/s]"
      ]
     },
     "metadata": {},
     "output_type": "display_data"
    },
    {
     "data": {
      "application/vnd.jupyter.widget-view+json": {
       "model_id": "45d8fa84c2944dd0be5777d78178e4c8",
       "version_major": 2,
       "version_minor": 0
      },
      "text/plain": [
       "Downloading images for Donna Mills:   0%|          | 0/50 [00:00<?, ?it/s]"
      ]
     },
     "metadata": {},
     "output_type": "display_data"
    },
    {
     "data": {
      "application/vnd.jupyter.widget-view+json": {
       "model_id": "7a66334a37db49a7bbb58539c7bcc698",
       "version_major": 2,
       "version_minor": 0
      },
      "text/plain": [
       "Downloading images for Doris Day:   0%|          | 0/50 [00:00<?, ?it/s]"
      ]
     },
     "metadata": {},
     "output_type": "display_data"
    },
    {
     "data": {
      "application/vnd.jupyter.widget-view+json": {
       "model_id": "780425eeffb24be984f71645d82731dc",
       "version_major": 2,
       "version_minor": 0
      },
      "text/plain": [
       "Downloading images for Dorothy Dandridge:   0%|          | 0/50 [00:00<?, ?it/s]"
      ]
     },
     "metadata": {},
     "output_type": "display_data"
    },
    {
     "data": {
      "application/vnd.jupyter.widget-view+json": {
       "model_id": "cea0c81b65e74f4095bbbbfc27ed6c07",
       "version_major": 2,
       "version_minor": 0
      },
      "text/plain": [
       "Downloading images for Edith Piaf:   0%|          | 0/50 [00:00<?, ?it/s]"
      ]
     },
     "metadata": {},
     "output_type": "display_data"
    },
    {
     "data": {
      "application/vnd.jupyter.widget-view+json": {
       "model_id": "39722660e4a1411a8da6f939b09a7056",
       "version_major": 2,
       "version_minor": 0
      },
      "text/plain": [
       "Downloading images for Eleanor Tomlinson:   0%|          | 0/50 [00:00<?, ?it/s]"
      ]
     },
     "metadata": {},
     "output_type": "display_data"
    },
    {
     "data": {
      "application/vnd.jupyter.widget-view+json": {
       "model_id": "c0bd65ea98e646ec8a14f3e24099cb48",
       "version_major": 2,
       "version_minor": 0
      },
      "text/plain": [
       "Downloading images for Elizabeth Olsen:   0%|          | 0/50 [00:00<?, ?it/s]"
      ]
     },
     "metadata": {},
     "output_type": "display_data"
    },
    {
     "data": {
      "application/vnd.jupyter.widget-view+json": {
       "model_id": "6da6f5710fc243fdb7fa26cf0f02ba18",
       "version_major": 2,
       "version_minor": 0
      },
      "text/plain": [
       "Downloading images for Ella Balinska:   0%|          | 0/50 [00:00<?, ?it/s]"
      ]
     },
     "metadata": {},
     "output_type": "display_data"
    },
    {
     "data": {
      "application/vnd.jupyter.widget-view+json": {
       "model_id": "cf95bb57674445fa8a588c787818a0b0",
       "version_major": 2,
       "version_minor": 0
      },
      "text/plain": [
       "Downloading images for Emily Blunt:   0%|          | 0/50 [00:00<?, ?it/s]"
      ]
     },
     "metadata": {},
     "output_type": "display_data"
    },
    {
     "data": {
      "application/vnd.jupyter.widget-view+json": {
       "model_id": "a1087864ffdd42028ab077df49417c85",
       "version_major": 2,
       "version_minor": 0
      },
      "text/plain": [
       "Downloading images for Emma Stone:   0%|          | 0/50 [00:00<?, ?it/s]"
      ]
     },
     "metadata": {},
     "output_type": "display_data"
    },
    {
     "data": {
      "application/vnd.jupyter.widget-view+json": {
       "model_id": "5c88e2e0816f49a2a2305eb637dd9468",
       "version_major": 2,
       "version_minor": 0
      },
      "text/plain": [
       "Downloading images for Erica Durance:   0%|          | 0/50 [00:00<?, ?it/s]"
      ]
     },
     "metadata": {},
     "output_type": "display_data"
    },
    {
     "data": {
      "application/vnd.jupyter.widget-view+json": {
       "model_id": "0f25649f5da64aa1bf62f63c1c8bb4d0",
       "version_major": 2,
       "version_minor": 0
      },
      "text/plain": [
       "Downloading images for Erin Moriarty:   0%|          | 0/50 [00:00<?, ?it/s]"
      ]
     },
     "metadata": {},
     "output_type": "display_data"
    },
    {
     "data": {
      "application/vnd.jupyter.widget-view+json": {
       "model_id": "f7e5fbd9cafc42ceae87467b26a85f00",
       "version_major": 2,
       "version_minor": 0
      },
      "text/plain": [
       "Downloading images for Esther Williams:   0%|          | 0/50 [00:00<?, ?it/s]"
      ]
     },
     "metadata": {},
     "output_type": "display_data"
    },
    {
     "data": {
      "application/vnd.jupyter.widget-view+json": {
       "model_id": "b5075a4a84054d408c4ba4fc60821ec6",
       "version_major": 2,
       "version_minor": 0
      },
      "text/plain": [
       "Downloading images for Eva Mendes:   0%|          | 0/50 [00:00<?, ?it/s]"
      ]
     },
     "metadata": {},
     "output_type": "display_data"
    },
    {
     "data": {
      "application/vnd.jupyter.widget-view+json": {
       "model_id": "a5d8c912d72e4050b7529b2ed883b333",
       "version_major": 2,
       "version_minor": 0
      },
      "text/plain": [
       "Downloading images for Evelyn Hugo:   0%|          | 0/50 [00:00<?, ?it/s]"
      ]
     },
     "metadata": {},
     "output_type": "display_data"
    },
    {
     "data": {
      "application/vnd.jupyter.widget-view+json": {
       "model_id": "8288bb94fca24ca0ab5d4a82775488d9",
       "version_major": 2,
       "version_minor": 0
      },
      "text/plain": [
       "Downloading images for Faith Hill:   0%|          | 0/50 [00:00<?, ?it/s]"
      ]
     },
     "metadata": {},
     "output_type": "display_data"
    },
    {
     "data": {
      "application/vnd.jupyter.widget-view+json": {
       "model_id": "4967c6d37f2e4d1dadf522bf7b6eee3e",
       "version_major": 2,
       "version_minor": 0
      },
      "text/plain": [
       "Downloading images for Felicity Jones:   0%|          | 0/50 [00:00<?, ?it/s]"
      ]
     },
     "metadata": {},
     "output_type": "display_data"
    },
    {
     "data": {
      "application/vnd.jupyter.widget-view+json": {
       "model_id": "90f377419c034ec29f4ec167297d93e6",
       "version_major": 2,
       "version_minor": 0
      },
      "text/plain": [
       "Downloading images for Fiona Apple:   0%|          | 0/50 [00:00<?, ?it/s]"
      ]
     },
     "metadata": {},
     "output_type": "display_data"
    },
    {
     "data": {
      "application/vnd.jupyter.widget-view+json": {
       "model_id": "a696c15e0f1b41fe9e2d09c576370deb",
       "version_major": 2,
       "version_minor": 0
      },
      "text/plain": [
       "Downloading images for Gabrielle Union:   0%|          | 0/50 [00:00<?, ?it/s]"
      ]
     },
     "metadata": {},
     "output_type": "display_data"
    },
    {
     "data": {
      "application/vnd.jupyter.widget-view+json": {
       "model_id": "03e2d8b8d045463fa79ee8ba08efb0a1",
       "version_major": 2,
       "version_minor": 0
      },
      "text/plain": [
       "Downloading images for Grace Kelly:   0%|          | 0/50 [00:00<?, ?it/s]"
      ]
     },
     "metadata": {},
     "output_type": "display_data"
    },
    {
     "data": {
      "application/vnd.jupyter.widget-view+json": {
       "model_id": "01430665f202484ba2c7159bc0e5ec75",
       "version_major": 2,
       "version_minor": 0
      },
      "text/plain": [
       "Downloading images for Hannah Simone:   0%|          | 0/50 [00:00<?, ?it/s]"
      ]
     },
     "metadata": {},
     "output_type": "display_data"
    },
    {
     "data": {
      "application/vnd.jupyter.widget-view+json": {
       "model_id": "df362b70e7084fa3addf6bcbe19b2995",
       "version_major": 2,
       "version_minor": 0
      },
      "text/plain": [
       "Downloading images for Heather Graham:   0%|          | 0/50 [00:00<?, ?it/s]"
      ]
     },
     "metadata": {},
     "output_type": "display_data"
    },
    {
     "data": {
      "application/vnd.jupyter.widget-view+json": {
       "model_id": "96938774723b4841866b84ee25b03846",
       "version_major": 2,
       "version_minor": 0
      },
      "text/plain": [
       "Downloading images for Helen Mirren:   0%|          | 0/50 [00:00<?, ?it/s]"
      ]
     },
     "metadata": {},
     "output_type": "display_data"
    },
    {
     "data": {
      "application/vnd.jupyter.widget-view+json": {
       "model_id": "4a0490c94d4b4e68ad5a09aa2dc5f07e",
       "version_major": 2,
       "version_minor": 0
      },
      "text/plain": [
       "Downloading images for Irene Cara:   0%|          | 0/50 [00:00<?, ?it/s]"
      ]
     },
     "metadata": {},
     "output_type": "display_data"
    },
    {
     "data": {
      "application/vnd.jupyter.widget-view+json": {
       "model_id": "9a9ad42eff4e44dfb88c6ef026ca0664",
       "version_major": 2,
       "version_minor": 0
      },
      "text/plain": [
       "Downloading images for Iris Law:   0%|          | 0/50 [00:00<?, ?it/s]"
      ]
     },
     "metadata": {},
     "output_type": "display_data"
    },
    {
     "data": {
      "application/vnd.jupyter.widget-view+json": {
       "model_id": "52a0741e0c3b4e84aaa9d30c58150e21",
       "version_major": 2,
       "version_minor": 0
      },
      "text/plain": [
       "Downloading images for Isabella Rossellini:   0%|          | 0/50 [00:00<?, ?it/s]"
      ]
     },
     "metadata": {},
     "output_type": "display_data"
    },
    {
     "data": {
      "application/vnd.jupyter.widget-view+json": {
       "model_id": "249d33e8ea724363a88d9526f61b549c",
       "version_major": 2,
       "version_minor": 0
      },
      "text/plain": [
       "Downloading images for Jacqueline Kennedy Onassis:   0%|          | 0/50 [00:00<?, ?it/s]"
      ]
     },
     "metadata": {},
     "output_type": "display_data"
    },
    {
     "data": {
      "application/vnd.jupyter.widget-view+json": {
       "model_id": "510822145c6b4a08b78486e7021dfe77",
       "version_major": 2,
       "version_minor": 0
      },
      "text/plain": [
       "Downloading images for Jane Fonda:   0%|          | 0/50 [00:00<?, ?it/s]"
      ]
     },
     "metadata": {},
     "output_type": "display_data"
    },
    {
     "data": {
      "application/vnd.jupyter.widget-view+json": {
       "model_id": "84773aff91f84bdd833948ace524bd67",
       "version_major": 2,
       "version_minor": 0
      },
      "text/plain": [
       "Downloading images for Jasmine Tookes:   0%|          | 0/50 [00:00<?, ?it/s]"
      ]
     },
     "metadata": {},
     "output_type": "display_data"
    },
    {
     "name": "stdout",
     "output_type": "stream",
     "text": [
      "An error occurred: ('Connection aborted.', ConnectionResetError(10054, 'An existing connection was forcibly closed by the remote host', None, 10054, None))\n"
     ]
    },
    {
     "data": {
      "application/vnd.jupyter.widget-view+json": {
       "model_id": "a09a287980b94d82a8a5e6ba8586cec6",
       "version_major": 2,
       "version_minor": 0
      },
      "text/plain": [
       "Downloading images for Jennifer Lawrence:   0%|          | 0/50 [00:00<?, ?it/s]"
      ]
     },
     "metadata": {},
     "output_type": "display_data"
    },
    {
     "data": {
      "application/vnd.jupyter.widget-view+json": {
       "model_id": "b3349b6281894ecd9ef7d40dea87209e",
       "version_major": 2,
       "version_minor": 0
      },
      "text/plain": [
       "Downloading images for Jessica Alba:   0%|          | 0/50 [00:00<?, ?it/s]"
      ]
     },
     "metadata": {},
     "output_type": "display_data"
    },
    {
     "data": {
      "application/vnd.jupyter.widget-view+json": {
       "model_id": "84503fd831154e40a608c5ab4283e1b3",
       "version_major": 2,
       "version_minor": 0
      },
      "text/plain": [
       "Downloading images for Joan Collins:   0%|          | 0/50 [00:00<?, ?it/s]"
      ]
     },
     "metadata": {},
     "output_type": "display_data"
    },
    {
     "data": {
      "application/vnd.jupyter.widget-view+json": {
       "model_id": "5fcc0e8d778843799d0ef40850cbaa26",
       "version_major": 2,
       "version_minor": 0
      },
      "text/plain": [
       "Downloading images for Joanne Froggatt:   0%|          | 0/50 [00:00<?, ?it/s]"
      ]
     },
     "metadata": {},
     "output_type": "display_data"
    },
    {
     "data": {
      "application/vnd.jupyter.widget-view+json": {
       "model_id": "49eb910b47a142f0be0dfc18e269a875",
       "version_major": 2,
       "version_minor": 0
      },
      "text/plain": [
       "Downloading images for Jodi Lyn O'Keefe:   0%|          | 0/50 [00:00<?, ?it/s]"
      ]
     },
     "metadata": {},
     "output_type": "display_data"
    },
    {
     "data": {
      "application/vnd.jupyter.widget-view+json": {
       "model_id": "19bba2873a284b8f80a772a7afbbfc9b",
       "version_major": 2,
       "version_minor": 0
      },
      "text/plain": [
       "Downloading images for Judy Garland:   0%|          | 0/50 [00:00<?, ?it/s]"
      ]
     },
     "metadata": {},
     "output_type": "display_data"
    },
    {
     "data": {
      "application/vnd.jupyter.widget-view+json": {
       "model_id": "19cd1bc1ec0c4a5e93e7a9bbd660df0b",
       "version_major": 2,
       "version_minor": 0
      },
      "text/plain": [
       "Downloading images for Julia Roberts:   0%|          | 0/50 [00:00<?, ?it/s]"
      ]
     },
     "metadata": {},
     "output_type": "display_data"
    },
    {
     "data": {
      "application/vnd.jupyter.widget-view+json": {
       "model_id": "03526e867663427581c351e63cae6579",
       "version_major": 2,
       "version_minor": 0
      },
      "text/plain": [
       "Downloading images for Julie Andrews:   0%|          | 0/50 [00:00<?, ?it/s]"
      ]
     },
     "metadata": {},
     "output_type": "display_data"
    },
    {
     "data": {
      "application/vnd.jupyter.widget-view+json": {
       "model_id": "a6855bec1fd6466badc1de30fdd7997d",
       "version_major": 2,
       "version_minor": 0
      },
      "text/plain": [
       "Downloading images for Karen Gillan:   0%|          | 0/50 [00:00<?, ?it/s]"
      ]
     },
     "metadata": {},
     "output_type": "display_data"
    },
    {
     "data": {
      "application/vnd.jupyter.widget-view+json": {
       "model_id": "82543e3f39f64d3f98448b4cab716eae",
       "version_major": 2,
       "version_minor": 0
      },
      "text/plain": [
       "Downloading images for Katherine Langford:   0%|          | 0/50 [00:00<?, ?it/s]"
      ]
     },
     "metadata": {},
     "output_type": "display_data"
    },
    {
     "data": {
      "application/vnd.jupyter.widget-view+json": {
       "model_id": "6e539465a1934bed8708215e09f63e87",
       "version_major": 2,
       "version_minor": 0
      },
      "text/plain": [
       "Downloading images for Kathleen Turner:   0%|          | 0/50 [00:00<?, ?it/s]"
      ]
     },
     "metadata": {},
     "output_type": "display_data"
    },
    {
     "data": {
      "application/vnd.jupyter.widget-view+json": {
       "model_id": "40579bf7c7af47428f4e93eaebb08224",
       "version_major": 2,
       "version_minor": 0
      },
      "text/plain": [
       "Downloading images for Katie Holmes:   0%|          | 0/50 [00:00<?, ?it/s]"
      ]
     },
     "metadata": {},
     "output_type": "display_data"
    },
    {
     "data": {
      "application/vnd.jupyter.widget-view+json": {
       "model_id": "8aaf71bab9de428a9e3aec2c0c10819b",
       "version_major": 2,
       "version_minor": 0
      },
      "text/plain": [
       "Downloading images for Kimberly Williams-Paisley:   0%|          | 0/50 [00:00<?, ?it/s]"
      ]
     },
     "metadata": {},
     "output_type": "display_data"
    },
    {
     "data": {
      "application/vnd.jupyter.widget-view+json": {
       "model_id": "044c21900a4e48bc9609624c1885f8c1",
       "version_major": 2,
       "version_minor": 0
      },
      "text/plain": [
       "Downloading images for Laura Dern:   0%|          | 0/50 [00:00<?, ?it/s]"
      ]
     },
     "metadata": {},
     "output_type": "display_data"
    },
    {
     "data": {
      "application/vnd.jupyter.widget-view+json": {
       "model_id": "f4300f1f36b54126bb534cec3dabeec7",
       "version_major": 2,
       "version_minor": 0
      },
      "text/plain": [
       "Downloading images for Lauren Graham:   0%|          | 0/50 [00:00<?, ?it/s]"
      ]
     },
     "metadata": {},
     "output_type": "display_data"
    },
    {
     "data": {
      "application/vnd.jupyter.widget-view+json": {
       "model_id": "f37516fd1aec4c3cac303c81e3d6d081",
       "version_major": 2,
       "version_minor": 0
      },
      "text/plain": [
       "Downloading images for Lena Headey:   0%|          | 0/50 [00:00<?, ?it/s]"
      ]
     },
     "metadata": {},
     "output_type": "display_data"
    },
    {
     "data": {
      "application/vnd.jupyter.widget-view+json": {
       "model_id": "3f7c4ccc1c2b44c780b79760d7c034c0",
       "version_major": 2,
       "version_minor": 0
      },
      "text/plain": [
       "Downloading images for Linda Evangelista:   0%|          | 0/50 [00:00<?, ?it/s]"
      ]
     },
     "metadata": {},
     "output_type": "display_data"
    },
    {
     "data": {
      "application/vnd.jupyter.widget-view+json": {
       "model_id": "c1ad22859af347c48e5a21da37295fbd",
       "version_major": 2,
       "version_minor": 0
      },
      "text/plain": [
       "Downloading images for Lisa Kudrow:   0%|          | 0/50 [00:00<?, ?it/s]"
      ]
     },
     "metadata": {},
     "output_type": "display_data"
    },
    {
     "data": {
      "application/vnd.jupyter.widget-view+json": {
       "model_id": "78ccfa38b6c24d338e9487a7bf1f3ea6",
       "version_major": 2,
       "version_minor": 0
      },
      "text/plain": [
       "Downloading images for Lori Loughlin:   0%|          | 0/50 [00:00<?, ?it/s]"
      ]
     },
     "metadata": {},
     "output_type": "display_data"
    },
    {
     "data": {
      "application/vnd.jupyter.widget-view+json": {
       "model_id": "f5585f1df7cb44ca848e59767e4940a8",
       "version_major": 2,
       "version_minor": 0
      },
      "text/plain": [
       "Downloading images for Louise Bourgoin:   0%|          | 0/50 [00:00<?, ?it/s]"
      ]
     },
     "metadata": {},
     "output_type": "display_data"
    },
    {
     "data": {
      "application/vnd.jupyter.widget-view+json": {
       "model_id": "06bb4ae3335e4c4086ffb81900d69db2",
       "version_major": 2,
       "version_minor": 0
      },
      "text/plain": [
       "Downloading images for Lucy Hale:   0%|          | 0/50 [00:00<?, ?it/s]"
      ]
     },
     "metadata": {},
     "output_type": "display_data"
    },
    {
     "data": {
      "application/vnd.jupyter.widget-view+json": {
       "model_id": "615694dcab2d4ad9a1cd86ea341d6239",
       "version_major": 2,
       "version_minor": 0
      },
      "text/plain": [
       "Downloading images for Lydia Hearst:   0%|          | 0/50 [00:00<?, ?it/s]"
      ]
     },
     "metadata": {},
     "output_type": "display_data"
    },
    {
     "data": {
      "application/vnd.jupyter.widget-view+json": {
       "model_id": "30b1c40049ec46c69f9a6eecf1dc667a",
       "version_major": 2,
       "version_minor": 0
      },
      "text/plain": [
       "Downloading images for Madeleine Mantock:   0%|          | 0/50 [00:00<?, ?it/s]"
      ]
     },
     "metadata": {},
     "output_type": "display_data"
    },
    {
     "data": {
      "application/vnd.jupyter.widget-view+json": {
       "model_id": "5d7007f84de84e918d5bb1ff2b181d44",
       "version_major": 2,
       "version_minor": 0
      },
      "text/plain": [
       "Downloading images for Maggie Smith:   0%|          | 0/50 [00:00<?, ?it/s]"
      ]
     },
     "metadata": {},
     "output_type": "display_data"
    },
    {
     "data": {
      "application/vnd.jupyter.widget-view+json": {
       "model_id": "a403f3fb327d44efa7685d88f7aa266b",
       "version_major": 2,
       "version_minor": 0
      },
      "text/plain": [
       "Downloading images for Margaret Qualley:   0%|          | 0/50 [00:00<?, ?it/s]"
      ]
     },
     "metadata": {},
     "output_type": "display_data"
    },
    {
     "data": {
      "application/vnd.jupyter.widget-view+json": {
       "model_id": "d12a9f51939148e1a57c120cbb661c30",
       "version_major": 2,
       "version_minor": 0
      },
      "text/plain": [
       "Downloading images for Maria Sharapova:   0%|          | 0/50 [00:00<?, ?it/s]"
      ]
     },
     "metadata": {},
     "output_type": "display_data"
    },
    {
     "data": {
      "application/vnd.jupyter.widget-view+json": {
       "model_id": "69524f7e17334b529905f7374685d248",
       "version_major": 2,
       "version_minor": 0
      },
      "text/plain": [
       "Downloading images for Marie Curie:   0%|          | 0/50 [00:00<?, ?it/s]"
      ]
     },
     "metadata": {},
     "output_type": "display_data"
    },
    {
     "data": {
      "application/vnd.jupyter.widget-view+json": {
       "model_id": "e14b44d55d1f4a79a83493b3764e477c",
       "version_major": 2,
       "version_minor": 0
      },
      "text/plain": [
       "Downloading images for Marilyn Monroe:   0%|          | 0/50 [00:00<?, ?it/s]"
      ]
     },
     "metadata": {},
     "output_type": "display_data"
    },
    {
     "data": {
      "application/vnd.jupyter.widget-view+json": {
       "model_id": "af2220df34f24faab31e87d47cd014c5",
       "version_major": 2,
       "version_minor": 0
      },
      "text/plain": [
       "Downloading images for Martha Stewart:   0%|          | 0/50 [00:00<?, ?it/s]"
      ]
     },
     "metadata": {},
     "output_type": "display_data"
    },
    {
     "data": {
      "application/vnd.jupyter.widget-view+json": {
       "model_id": "c37e5d0f084449e99ed0d08bd0696ac2",
       "version_major": 2,
       "version_minor": 0
      },
      "text/plain": [
       "Downloading images for Mary-Kate Olsen:   0%|          | 0/50 [00:00<?, ?it/s]"
      ]
     },
     "metadata": {},
     "output_type": "display_data"
    }
   ],
   "source": [
    "import os\n",
    "import requests\n",
    "from tqdm.auto import tqdm\n",
    "\n",
    "# Base directory where character folders will be created\n",
    "base_dir = 'character_images'\n",
    "\n",
    "# Ensure the base directory exists\n",
    "if not os.path.exists(base_dir):\n",
    "    os.makedirs(base_dir)\n",
    "\n",
    "# Function to download an image from a URL\n",
    "def download_image(url, folder_path, image_number):\n",
    "    try:\n",
    "        response = requests.get(url, stream=True)\n",
    "        if response.status_code == 200:\n",
    "            # Create a valid filename from the image number\n",
    "            filename = f'image_{image_number:03}.jpg'\n",
    "            filepath = os.path.join(folder_path, filename)\n",
    "            with open(filepath, 'wb') as f:\n",
    "                for chunk in response.iter_content(1024):\n",
    "                    f.write(chunk)\n",
    "            return True\n",
    "    except Exception as e:\n",
    "        print(f\"An error occurred: {e}\")\n",
    "    return False\n",
    "\n",
    "# Iterate over the DataFrame rows and download images\n",
    "for index, row in df.iterrows():\n",
    "    character = row['Character']\n",
    "    # Make a valid directory name for the character\n",
    "    character_dir = os.path.join(base_dir, character.replace(' ', '_'))\n",
    "    # Ensure the character's directory exists\n",
    "    if not os.path.exists(character_dir):\n",
    "        os.makedirs(character_dir)\n",
    "    \n",
    "    # Download each image from the 'urls' list\n",
    "    for image_number, url in enumerate(tqdm(row['urls'], desc=f\"Downloading images for {character}\")):\n",
    "        download_image(url, character_dir, image_number)\n"
   ]
  },
  {
   "cell_type": "code",
   "execution_count": 24,
   "id": "0ddff406",
   "metadata": {},
   "outputs": [
    {
     "data": {
      "application/vnd.jupyter.widget-view+json": {
       "model_id": "6d8686206aa347e0b113633028e1a9b0",
       "version_major": 2,
       "version_minor": 0
      },
      "text/plain": [
       "Downloading images for SOLDIER: 76:   0%|          | 0/50 [00:00<?, ?it/s]"
      ]
     },
     "metadata": {},
     "output_type": "display_data"
    },
    {
     "data": {
      "application/vnd.jupyter.widget-view+json": {
       "model_id": "954dae00e17648dbbb83832818e3e700",
       "version_major": 2,
       "version_minor": 0
      },
      "text/plain": [
       "Downloading images for SOMBRA:   0%|          | 0/50 [00:00<?, ?it/s]"
      ]
     },
     "metadata": {},
     "output_type": "display_data"
    },
    {
     "data": {
      "application/vnd.jupyter.widget-view+json": {
       "model_id": "5f5fe35ce4b5498cbe6f80b56f03ada6",
       "version_major": 2,
       "version_minor": 0
      },
      "text/plain": [
       "Downloading images for SYMMETRA:   0%|          | 0/50 [00:00<?, ?it/s]"
      ]
     },
     "metadata": {},
     "output_type": "display_data"
    },
    {
     "data": {
      "application/vnd.jupyter.widget-view+json": {
       "model_id": "4095fe1d4829465c95f3930578f75697",
       "version_major": 2,
       "version_minor": 0
      },
      "text/plain": [
       "Downloading images for TORBJÖRN:   0%|          | 0/50 [00:00<?, ?it/s]"
      ]
     },
     "metadata": {},
     "output_type": "display_data"
    },
    {
     "data": {
      "application/vnd.jupyter.widget-view+json": {
       "model_id": "965b65e052ff4330ab115169f56aad85",
       "version_major": 2,
       "version_minor": 0
      },
      "text/plain": [
       "Downloading images for TRACER:   0%|          | 0/50 [00:00<?, ?it/s]"
      ]
     },
     "metadata": {},
     "output_type": "display_data"
    },
    {
     "data": {
      "application/vnd.jupyter.widget-view+json": {
       "model_id": "a8a5bfc9c44b496aa935adae1f0e754b",
       "version_major": 2,
       "version_minor": 0
      },
      "text/plain": [
       "Downloading images for WIDOWMAKER:   0%|          | 0/50 [00:00<?, ?it/s]"
      ]
     },
     "metadata": {},
     "output_type": "display_data"
    },
    {
     "data": {
      "application/vnd.jupyter.widget-view+json": {
       "model_id": "d3cdd51cb03b4265aaed179fe9544dfc",
       "version_major": 2,
       "version_minor": 0
      },
      "text/plain": [
       "Downloading images for WINSTON:   0%|          | 0/50 [00:00<?, ?it/s]"
      ]
     },
     "metadata": {},
     "output_type": "display_data"
    },
    {
     "data": {
      "application/vnd.jupyter.widget-view+json": {
       "model_id": "5948ed3f98954c1e93f3a1ac1e759df3",
       "version_major": 2,
       "version_minor": 0
      },
      "text/plain": [
       "Downloading images for WRECKING BALL:   0%|          | 0/50 [00:00<?, ?it/s]"
      ]
     },
     "metadata": {},
     "output_type": "display_data"
    },
    {
     "data": {
      "application/vnd.jupyter.widget-view+json": {
       "model_id": "beeebb4ab523461fb818466f4e6e64de",
       "version_major": 2,
       "version_minor": 0
      },
      "text/plain": [
       "Downloading images for ZARYA:   0%|          | 0/50 [00:00<?, ?it/s]"
      ]
     },
     "metadata": {},
     "output_type": "display_data"
    },
    {
     "data": {
      "application/vnd.jupyter.widget-view+json": {
       "model_id": "f69b031c91124cf3a6b5dd968dbdcbf8",
       "version_major": 2,
       "version_minor": 0
      },
      "text/plain": [
       "Downloading images for ZENYATTA:   0%|          | 0/50 [00:00<?, ?it/s]"
      ]
     },
     "metadata": {},
     "output_type": "display_data"
    },
    {
     "data": {
      "application/vnd.jupyter.widget-view+json": {
       "model_id": "eacf7a91020d476faa39ab75418bddf3",
       "version_major": 2,
       "version_minor": 0
      },
      "text/plain": [
       "Downloading images for Abaddon:   0%|          | 0/50 [00:00<?, ?it/s]"
      ]
     },
     "metadata": {},
     "output_type": "display_data"
    },
    {
     "data": {
      "application/vnd.jupyter.widget-view+json": {
       "model_id": "a8b68e10826b41ceaf6ff93edede3c74",
       "version_major": 2,
       "version_minor": 0
      },
      "text/plain": [
       "Downloading images for Alchemist:   0%|          | 0/50 [00:00<?, ?it/s]"
      ]
     },
     "metadata": {},
     "output_type": "display_data"
    },
    {
     "data": {
      "application/vnd.jupyter.widget-view+json": {
       "model_id": "80d32c1eefdb4a9b82a14db294f71eca",
       "version_major": 2,
       "version_minor": 0
      },
      "text/plain": [
       "Downloading images for Ancient Apparition:   0%|          | 0/50 [00:00<?, ?it/s]"
      ]
     },
     "metadata": {},
     "output_type": "display_data"
    },
    {
     "data": {
      "application/vnd.jupyter.widget-view+json": {
       "model_id": "7c255c7ed5094365a09cd3e00865e98a",
       "version_major": 2,
       "version_minor": 0
      },
      "text/plain": [
       "Downloading images for Anti-Mage:   0%|          | 0/50 [00:00<?, ?it/s]"
      ]
     },
     "metadata": {},
     "output_type": "display_data"
    },
    {
     "data": {
      "application/vnd.jupyter.widget-view+json": {
       "model_id": "03e972cc92e84dc3a13601087dac662a",
       "version_major": 2,
       "version_minor": 0
      },
      "text/plain": [
       "Downloading images for Arc Warden:   0%|          | 0/50 [00:00<?, ?it/s]"
      ]
     },
     "metadata": {},
     "output_type": "display_data"
    },
    {
     "data": {
      "application/vnd.jupyter.widget-view+json": {
       "model_id": "15c3c45ee77e44aebb81a4277b2d0f1a",
       "version_major": 2,
       "version_minor": 0
      },
      "text/plain": [
       "Downloading images for Axe:   0%|          | 0/50 [00:00<?, ?it/s]"
      ]
     },
     "metadata": {},
     "output_type": "display_data"
    },
    {
     "data": {
      "application/vnd.jupyter.widget-view+json": {
       "model_id": "95e08824013743f1983deb9397a43890",
       "version_major": 2,
       "version_minor": 0
      },
      "text/plain": [
       "Downloading images for Bane:   0%|          | 0/50 [00:00<?, ?it/s]"
      ]
     },
     "metadata": {},
     "output_type": "display_data"
    },
    {
     "data": {
      "application/vnd.jupyter.widget-view+json": {
       "model_id": "b7968952159f49298ba6d931a3e74a43",
       "version_major": 2,
       "version_minor": 0
      },
      "text/plain": [
       "Downloading images for Batrider:   0%|          | 0/50 [00:00<?, ?it/s]"
      ]
     },
     "metadata": {},
     "output_type": "display_data"
    },
    {
     "data": {
      "application/vnd.jupyter.widget-view+json": {
       "model_id": "adf5ff8b7fe2497ebfcfeb61fe65934e",
       "version_major": 2,
       "version_minor": 0
      },
      "text/plain": [
       "Downloading images for Beastmaster:   0%|          | 0/50 [00:00<?, ?it/s]"
      ]
     },
     "metadata": {},
     "output_type": "display_data"
    },
    {
     "data": {
      "application/vnd.jupyter.widget-view+json": {
       "model_id": "c6dda55f557647d79e6a3090abf76bed",
       "version_major": 2,
       "version_minor": 0
      },
      "text/plain": [
       "Downloading images for Bloodseeker:   0%|          | 0/50 [00:00<?, ?it/s]"
      ]
     },
     "metadata": {},
     "output_type": "display_data"
    },
    {
     "data": {
      "application/vnd.jupyter.widget-view+json": {
       "model_id": "67cba4b1c5024b60b0007c37f68d3f7b",
       "version_major": 2,
       "version_minor": 0
      },
      "text/plain": [
       "Downloading images for Bounty Hunter:   0%|          | 0/50 [00:00<?, ?it/s]"
      ]
     },
     "metadata": {},
     "output_type": "display_data"
    },
    {
     "data": {
      "application/vnd.jupyter.widget-view+json": {
       "model_id": "fce2908ea9194a388b5c03708953e004",
       "version_major": 2,
       "version_minor": 0
      },
      "text/plain": [
       "Downloading images for Brewmaster:   0%|          | 0/50 [00:00<?, ?it/s]"
      ]
     },
     "metadata": {},
     "output_type": "display_data"
    },
    {
     "data": {
      "application/vnd.jupyter.widget-view+json": {
       "model_id": "f40bff9d28a04b47aef098469fb301e4",
       "version_major": 2,
       "version_minor": 0
      },
      "text/plain": [
       "Downloading images for Bristleback:   0%|          | 0/50 [00:00<?, ?it/s]"
      ]
     },
     "metadata": {},
     "output_type": "display_data"
    },
    {
     "data": {
      "application/vnd.jupyter.widget-view+json": {
       "model_id": "47b9e0675ce94e74bf1ddeb557ec4578",
       "version_major": 2,
       "version_minor": 0
      },
      "text/plain": [
       "Downloading images for Broodmother:   0%|          | 0/50 [00:00<?, ?it/s]"
      ]
     },
     "metadata": {},
     "output_type": "display_data"
    },
    {
     "data": {
      "application/vnd.jupyter.widget-view+json": {
       "model_id": "0a4e7d355bab42c4a21555e1b0a53297",
       "version_major": 2,
       "version_minor": 0
      },
      "text/plain": [
       "Downloading images for Centaur Warrunner:   0%|          | 0/50 [00:00<?, ?it/s]"
      ]
     },
     "metadata": {},
     "output_type": "display_data"
    },
    {
     "data": {
      "application/vnd.jupyter.widget-view+json": {
       "model_id": "297fb2b5ba6142a0992341b0b74ac3bd",
       "version_major": 2,
       "version_minor": 0
      },
      "text/plain": [
       "Downloading images for Chaos Knight:   0%|          | 0/50 [00:00<?, ?it/s]"
      ]
     },
     "metadata": {},
     "output_type": "display_data"
    },
    {
     "data": {
      "application/vnd.jupyter.widget-view+json": {
       "model_id": "aeac8409cbbd403899591a0f3cc0d3ab",
       "version_major": 2,
       "version_minor": 0
      },
      "text/plain": [
       "Downloading images for Chen:   0%|          | 0/50 [00:00<?, ?it/s]"
      ]
     },
     "metadata": {},
     "output_type": "display_data"
    },
    {
     "data": {
      "application/vnd.jupyter.widget-view+json": {
       "model_id": "345425a80abe44839182a8759fc65d8b",
       "version_major": 2,
       "version_minor": 0
      },
      "text/plain": [
       "Downloading images for Clinkz:   0%|          | 0/50 [00:00<?, ?it/s]"
      ]
     },
     "metadata": {},
     "output_type": "display_data"
    },
    {
     "data": {
      "application/vnd.jupyter.widget-view+json": {
       "model_id": "f61f096728124894a00673c1f706da66",
       "version_major": 2,
       "version_minor": 0
      },
      "text/plain": [
       "Downloading images for Clockwerk:   0%|          | 0/50 [00:00<?, ?it/s]"
      ]
     },
     "metadata": {},
     "output_type": "display_data"
    },
    {
     "data": {
      "application/vnd.jupyter.widget-view+json": {
       "model_id": "7b072c3e8c9b42ef823fdebde7d11b11",
       "version_major": 2,
       "version_minor": 0
      },
      "text/plain": [
       "Downloading images for Crystal Maiden:   0%|          | 0/50 [00:00<?, ?it/s]"
      ]
     },
     "metadata": {},
     "output_type": "display_data"
    },
    {
     "data": {
      "application/vnd.jupyter.widget-view+json": {
       "model_id": "33e71311ac6c45baa7ed06df80ae1e62",
       "version_major": 2,
       "version_minor": 0
      },
      "text/plain": [
       "Downloading images for Dark Seer:   0%|          | 0/50 [00:00<?, ?it/s]"
      ]
     },
     "metadata": {},
     "output_type": "display_data"
    },
    {
     "data": {
      "application/vnd.jupyter.widget-view+json": {
       "model_id": "1aad7580ffa24c7f8f293a55d3dacd43",
       "version_major": 2,
       "version_minor": 0
      },
      "text/plain": [
       "Downloading images for Dark Willow:   0%|          | 0/50 [00:00<?, ?it/s]"
      ]
     },
     "metadata": {},
     "output_type": "display_data"
    },
    {
     "data": {
      "application/vnd.jupyter.widget-view+json": {
       "model_id": "7df64fce0acb4880b52a892da9502297",
       "version_major": 2,
       "version_minor": 0
      },
      "text/plain": [
       "Downloading images for Dawnbreaker:   0%|          | 0/50 [00:00<?, ?it/s]"
      ]
     },
     "metadata": {},
     "output_type": "display_data"
    },
    {
     "data": {
      "application/vnd.jupyter.widget-view+json": {
       "model_id": "e0731c66a60b41ce939fd68834dd3e74",
       "version_major": 2,
       "version_minor": 0
      },
      "text/plain": [
       "Downloading images for Dazzle:   0%|          | 0/50 [00:00<?, ?it/s]"
      ]
     },
     "metadata": {},
     "output_type": "display_data"
    },
    {
     "data": {
      "application/vnd.jupyter.widget-view+json": {
       "model_id": "f01b4296e1ba48d089ac739d1149ebe5",
       "version_major": 2,
       "version_minor": 0
      },
      "text/plain": [
       "Downloading images for Death Prophet:   0%|          | 0/50 [00:00<?, ?it/s]"
      ]
     },
     "metadata": {},
     "output_type": "display_data"
    },
    {
     "data": {
      "application/vnd.jupyter.widget-view+json": {
       "model_id": "4d02ec68c01644a98f540af0c1dc3859",
       "version_major": 2,
       "version_minor": 0
      },
      "text/plain": [
       "Downloading images for Disruptor:   0%|          | 0/50 [00:00<?, ?it/s]"
      ]
     },
     "metadata": {},
     "output_type": "display_data"
    },
    {
     "data": {
      "application/vnd.jupyter.widget-view+json": {
       "model_id": "0c46bfedc9404b1183d7f4504d0a1c0d",
       "version_major": 2,
       "version_minor": 0
      },
      "text/plain": [
       "Downloading images for Doom:   0%|          | 0/50 [00:00<?, ?it/s]"
      ]
     },
     "metadata": {},
     "output_type": "display_data"
    },
    {
     "data": {
      "application/vnd.jupyter.widget-view+json": {
       "model_id": "7942dec92b5b4ca0baf50c3b107a0c8e",
       "version_major": 2,
       "version_minor": 0
      },
      "text/plain": [
       "Downloading images for Dragon Knight:   0%|          | 0/50 [00:00<?, ?it/s]"
      ]
     },
     "metadata": {},
     "output_type": "display_data"
    },
    {
     "data": {
      "application/vnd.jupyter.widget-view+json": {
       "model_id": "7d207b9235154ae9b8b2ab5487a9ba7a",
       "version_major": 2,
       "version_minor": 0
      },
      "text/plain": [
       "Downloading images for Drow Ranger:   0%|          | 0/50 [00:00<?, ?it/s]"
      ]
     },
     "metadata": {},
     "output_type": "display_data"
    },
    {
     "data": {
      "application/vnd.jupyter.widget-view+json": {
       "model_id": "1742fcc164d342e98e0a627c318af95f",
       "version_major": 2,
       "version_minor": 0
      },
      "text/plain": [
       "Downloading images for Earth Spirit:   0%|          | 0/50 [00:00<?, ?it/s]"
      ]
     },
     "metadata": {},
     "output_type": "display_data"
    },
    {
     "data": {
      "application/vnd.jupyter.widget-view+json": {
       "model_id": "17b9880638a24a81a0808b7d911e4ab5",
       "version_major": 2,
       "version_minor": 0
      },
      "text/plain": [
       "Downloading images for Earthshaker:   0%|          | 0/50 [00:00<?, ?it/s]"
      ]
     },
     "metadata": {},
     "output_type": "display_data"
    },
    {
     "data": {
      "application/vnd.jupyter.widget-view+json": {
       "model_id": "31341c64de9d437aa2d0878daf4caca3",
       "version_major": 2,
       "version_minor": 0
      },
      "text/plain": [
       "Downloading images for Elder Titan:   0%|          | 0/50 [00:00<?, ?it/s]"
      ]
     },
     "metadata": {},
     "output_type": "display_data"
    },
    {
     "data": {
      "application/vnd.jupyter.widget-view+json": {
       "model_id": "9ecbd4ed404448e4b6f77083d4d096b0",
       "version_major": 2,
       "version_minor": 0
      },
      "text/plain": [
       "Downloading images for Ember Spirit:   0%|          | 0/50 [00:00<?, ?it/s]"
      ]
     },
     "metadata": {},
     "output_type": "display_data"
    },
    {
     "data": {
      "application/vnd.jupyter.widget-view+json": {
       "model_id": "fc269f0ed1414aeca1d89546fe4c5fd7",
       "version_major": 2,
       "version_minor": 0
      },
      "text/plain": [
       "Downloading images for Enchantress:   0%|          | 0/50 [00:00<?, ?it/s]"
      ]
     },
     "metadata": {},
     "output_type": "display_data"
    },
    {
     "data": {
      "application/vnd.jupyter.widget-view+json": {
       "model_id": "aaba0c05aab643cca8b6d731208a8751",
       "version_major": 2,
       "version_minor": 0
      },
      "text/plain": [
       "Downloading images for Enigma:   0%|          | 0/50 [00:00<?, ?it/s]"
      ]
     },
     "metadata": {},
     "output_type": "display_data"
    },
    {
     "data": {
      "application/vnd.jupyter.widget-view+json": {
       "model_id": "1a197409ede0449b8511d9f740ac2de1",
       "version_major": 2,
       "version_minor": 0
      },
      "text/plain": [
       "Downloading images for Faceless Void:   0%|          | 0/50 [00:00<?, ?it/s]"
      ]
     },
     "metadata": {},
     "output_type": "display_data"
    },
    {
     "data": {
      "application/vnd.jupyter.widget-view+json": {
       "model_id": "790e2b10d2874410b8c021e66623a604",
       "version_major": 2,
       "version_minor": 0
      },
      "text/plain": [
       "Downloading images for Grimstroke:   0%|          | 0/50 [00:00<?, ?it/s]"
      ]
     },
     "metadata": {},
     "output_type": "display_data"
    },
    {
     "data": {
      "application/vnd.jupyter.widget-view+json": {
       "model_id": "bfb1c6182b384fa6b41bf8d50eb621fe",
       "version_major": 2,
       "version_minor": 0
      },
      "text/plain": [
       "Downloading images for Gyrocopter:   0%|          | 0/50 [00:00<?, ?it/s]"
      ]
     },
     "metadata": {},
     "output_type": "display_data"
    },
    {
     "data": {
      "application/vnd.jupyter.widget-view+json": {
       "model_id": "8522a8cad7db4324bcde58747c6baaa9",
       "version_major": 2,
       "version_minor": 0
      },
      "text/plain": [
       "Downloading images for Hoodwink:   0%|          | 0/50 [00:00<?, ?it/s]"
      ]
     },
     "metadata": {},
     "output_type": "display_data"
    },
    {
     "data": {
      "application/vnd.jupyter.widget-view+json": {
       "model_id": "c702694fb79d4fc5a0e57da6f4e86ab7",
       "version_major": 2,
       "version_minor": 0
      },
      "text/plain": [
       "Downloading images for Huskar:   0%|          | 0/50 [00:00<?, ?it/s]"
      ]
     },
     "metadata": {},
     "output_type": "display_data"
    },
    {
     "data": {
      "application/vnd.jupyter.widget-view+json": {
       "model_id": "ad7d00749b99418b991074e3c52ae987",
       "version_major": 2,
       "version_minor": 0
      },
      "text/plain": [
       "Downloading images for Invoker:   0%|          | 0/50 [00:00<?, ?it/s]"
      ]
     },
     "metadata": {},
     "output_type": "display_data"
    },
    {
     "data": {
      "application/vnd.jupyter.widget-view+json": {
       "model_id": "fa830ce3c2664216b3ad62bd2490b9a2",
       "version_major": 2,
       "version_minor": 0
      },
      "text/plain": [
       "Downloading images for Io:   0%|          | 0/50 [00:00<?, ?it/s]"
      ]
     },
     "metadata": {},
     "output_type": "display_data"
    },
    {
     "data": {
      "application/vnd.jupyter.widget-view+json": {
       "model_id": "2925296ad0dc43209767b2e89a0e44e3",
       "version_major": 2,
       "version_minor": 0
      },
      "text/plain": [
       "Downloading images for Jakiro:   0%|          | 0/50 [00:00<?, ?it/s]"
      ]
     },
     "metadata": {},
     "output_type": "display_data"
    },
    {
     "data": {
      "application/vnd.jupyter.widget-view+json": {
       "model_id": "2f081a3f562641499ad608d60c76ecc6",
       "version_major": 2,
       "version_minor": 0
      },
      "text/plain": [
       "Downloading images for Juggernaut:   0%|          | 0/50 [00:00<?, ?it/s]"
      ]
     },
     "metadata": {},
     "output_type": "display_data"
    },
    {
     "data": {
      "application/vnd.jupyter.widget-view+json": {
       "model_id": "cd8f1547cd1c4525840df6935a4e3f7d",
       "version_major": 2,
       "version_minor": 0
      },
      "text/plain": [
       "Downloading images for Keeper of the Light:   0%|          | 0/50 [00:00<?, ?it/s]"
      ]
     },
     "metadata": {},
     "output_type": "display_data"
    },
    {
     "data": {
      "application/vnd.jupyter.widget-view+json": {
       "model_id": "50ea2028cb1c40f2a2e7e4a26c23e3e2",
       "version_major": 2,
       "version_minor": 0
      },
      "text/plain": [
       "Downloading images for Kunkka:   0%|          | 0/50 [00:00<?, ?it/s]"
      ]
     },
     "metadata": {},
     "output_type": "display_data"
    },
    {
     "data": {
      "application/vnd.jupyter.widget-view+json": {
       "model_id": "8277c7b96e1e404b8b7f9f1266ab50c2",
       "version_major": 2,
       "version_minor": 0
      },
      "text/plain": [
       "Downloading images for Legion Commander:   0%|          | 0/50 [00:00<?, ?it/s]"
      ]
     },
     "metadata": {},
     "output_type": "display_data"
    },
    {
     "data": {
      "application/vnd.jupyter.widget-view+json": {
       "model_id": "8f1bde3c830a47d9876b2d804ab9c840",
       "version_major": 2,
       "version_minor": 0
      },
      "text/plain": [
       "Downloading images for Leshrac:   0%|          | 0/50 [00:00<?, ?it/s]"
      ]
     },
     "metadata": {},
     "output_type": "display_data"
    },
    {
     "data": {
      "application/vnd.jupyter.widget-view+json": {
       "model_id": "fdeb5898be194de3a940f84602bd51db",
       "version_major": 2,
       "version_minor": 0
      },
      "text/plain": [
       "Downloading images for Lich:   0%|          | 0/50 [00:00<?, ?it/s]"
      ]
     },
     "metadata": {},
     "output_type": "display_data"
    },
    {
     "data": {
      "application/vnd.jupyter.widget-view+json": {
       "model_id": "e304ddcb28ca4b2e8000e6b6d6789dd0",
       "version_major": 2,
       "version_minor": 0
      },
      "text/plain": [
       "Downloading images for Lifestealer:   0%|          | 0/50 [00:00<?, ?it/s]"
      ]
     },
     "metadata": {},
     "output_type": "display_data"
    },
    {
     "data": {
      "application/vnd.jupyter.widget-view+json": {
       "model_id": "086a906591774d54a3ec497ccf75c41c",
       "version_major": 2,
       "version_minor": 0
      },
      "text/plain": [
       "Downloading images for Lina:   0%|          | 0/50 [00:00<?, ?it/s]"
      ]
     },
     "metadata": {},
     "output_type": "display_data"
    },
    {
     "data": {
      "application/vnd.jupyter.widget-view+json": {
       "model_id": "813c5432df4f48afbf6eb70936bad4df",
       "version_major": 2,
       "version_minor": 0
      },
      "text/plain": [
       "Downloading images for Lion:   0%|          | 0/50 [00:00<?, ?it/s]"
      ]
     },
     "metadata": {},
     "output_type": "display_data"
    },
    {
     "data": {
      "application/vnd.jupyter.widget-view+json": {
       "model_id": "14d77e2ab7274804a7a5093987abde79",
       "version_major": 2,
       "version_minor": 0
      },
      "text/plain": [
       "Downloading images for Lone Druid:   0%|          | 0/50 [00:00<?, ?it/s]"
      ]
     },
     "metadata": {},
     "output_type": "display_data"
    },
    {
     "data": {
      "application/vnd.jupyter.widget-view+json": {
       "model_id": "37438c4466c74f85825eef899c902e7c",
       "version_major": 2,
       "version_minor": 0
      },
      "text/plain": [
       "Downloading images for Luna:   0%|          | 0/50 [00:00<?, ?it/s]"
      ]
     },
     "metadata": {},
     "output_type": "display_data"
    },
    {
     "data": {
      "application/vnd.jupyter.widget-view+json": {
       "model_id": "6b83cba32b914817bebd489e416b80c3",
       "version_major": 2,
       "version_minor": 0
      },
      "text/plain": [
       "Downloading images for Lycan:   0%|          | 0/50 [00:00<?, ?it/s]"
      ]
     },
     "metadata": {},
     "output_type": "display_data"
    },
    {
     "data": {
      "application/vnd.jupyter.widget-view+json": {
       "model_id": "99ec008b59174f2a80a085ee30b6011b",
       "version_major": 2,
       "version_minor": 0
      },
      "text/plain": [
       "Downloading images for Magnus:   0%|          | 0/50 [00:00<?, ?it/s]"
      ]
     },
     "metadata": {},
     "output_type": "display_data"
    },
    {
     "data": {
      "application/vnd.jupyter.widget-view+json": {
       "model_id": "4b5bb746aaf441d6ac0440888986e447",
       "version_major": 2,
       "version_minor": 0
      },
      "text/plain": [
       "Downloading images for Marci:   0%|          | 0/50 [00:00<?, ?it/s]"
      ]
     },
     "metadata": {},
     "output_type": "display_data"
    },
    {
     "data": {
      "application/vnd.jupyter.widget-view+json": {
       "model_id": "2098ff2289444d7595cb778f4e2e4338",
       "version_major": 2,
       "version_minor": 0
      },
      "text/plain": [
       "Downloading images for Mars:   0%|          | 0/50 [00:00<?, ?it/s]"
      ]
     },
     "metadata": {},
     "output_type": "display_data"
    },
    {
     "data": {
      "application/vnd.jupyter.widget-view+json": {
       "model_id": "b13b46dd87754591afc8a64cfdd48fca",
       "version_major": 2,
       "version_minor": 0
      },
      "text/plain": [
       "Downloading images for Medusa:   0%|          | 0/50 [00:00<?, ?it/s]"
      ]
     },
     "metadata": {},
     "output_type": "display_data"
    },
    {
     "data": {
      "application/vnd.jupyter.widget-view+json": {
       "model_id": "bfa934a321b243d1aaa93fefe516db19",
       "version_major": 2,
       "version_minor": 0
      },
      "text/plain": [
       "Downloading images for Meepo:   0%|          | 0/50 [00:00<?, ?it/s]"
      ]
     },
     "metadata": {},
     "output_type": "display_data"
    },
    {
     "data": {
      "application/vnd.jupyter.widget-view+json": {
       "model_id": "d5902294462c4b85922ad78478fb3ffa",
       "version_major": 2,
       "version_minor": 0
      },
      "text/plain": [
       "Downloading images for Mirana:   0%|          | 0/50 [00:00<?, ?it/s]"
      ]
     },
     "metadata": {},
     "output_type": "display_data"
    },
    {
     "data": {
      "application/vnd.jupyter.widget-view+json": {
       "model_id": "4d7eafca452f4ce7adf1c38d2d7e1f2e",
       "version_major": 2,
       "version_minor": 0
      },
      "text/plain": [
       "Downloading images for Monkey King:   0%|          | 0/50 [00:00<?, ?it/s]"
      ]
     },
     "metadata": {},
     "output_type": "display_data"
    },
    {
     "data": {
      "application/vnd.jupyter.widget-view+json": {
       "model_id": "d3f75a5c413f4d88901653eac2657f58",
       "version_major": 2,
       "version_minor": 0
      },
      "text/plain": [
       "Downloading images for Morphling:   0%|          | 0/50 [00:00<?, ?it/s]"
      ]
     },
     "metadata": {},
     "output_type": "display_data"
    },
    {
     "data": {
      "application/vnd.jupyter.widget-view+json": {
       "model_id": "3290c84673244c8eb0f685e1f9c11238",
       "version_major": 2,
       "version_minor": 0
      },
      "text/plain": [
       "Downloading images for Muerta:   0%|          | 0/50 [00:00<?, ?it/s]"
      ]
     },
     "metadata": {},
     "output_type": "display_data"
    },
    {
     "data": {
      "application/vnd.jupyter.widget-view+json": {
       "model_id": "0986ca7ff4df4eae9f97cca8b035202a",
       "version_major": 2,
       "version_minor": 0
      },
      "text/plain": [
       "Downloading images for Naga Siren:   0%|          | 0/50 [00:00<?, ?it/s]"
      ]
     },
     "metadata": {},
     "output_type": "display_data"
    },
    {
     "data": {
      "application/vnd.jupyter.widget-view+json": {
       "model_id": "24966c59eb724810b5c37a07290b630c",
       "version_major": 2,
       "version_minor": 0
      },
      "text/plain": [
       "Downloading images for Nature's Prophet:   0%|          | 0/50 [00:00<?, ?it/s]"
      ]
     },
     "metadata": {},
     "output_type": "display_data"
    },
    {
     "data": {
      "application/vnd.jupyter.widget-view+json": {
       "model_id": "dc830f4537184f9a9175420ef43cece7",
       "version_major": 2,
       "version_minor": 0
      },
      "text/plain": [
       "Downloading images for Necrophos:   0%|          | 0/50 [00:00<?, ?it/s]"
      ]
     },
     "metadata": {},
     "output_type": "display_data"
    },
    {
     "data": {
      "application/vnd.jupyter.widget-view+json": {
       "model_id": "9e4179616dc64fe58db0f98505cd6f6e",
       "version_major": 2,
       "version_minor": 0
      },
      "text/plain": [
       "Downloading images for Night Stalker:   0%|          | 0/50 [00:00<?, ?it/s]"
      ]
     },
     "metadata": {},
     "output_type": "display_data"
    },
    {
     "data": {
      "application/vnd.jupyter.widget-view+json": {
       "model_id": "a0fecec0f1984308943824d2a8d91be6",
       "version_major": 2,
       "version_minor": 0
      },
      "text/plain": [
       "Downloading images for Nyx Assassin:   0%|          | 0/50 [00:00<?, ?it/s]"
      ]
     },
     "metadata": {},
     "output_type": "display_data"
    },
    {
     "data": {
      "application/vnd.jupyter.widget-view+json": {
       "model_id": "f9ff82367e7545368b0aedcc1fad7b28",
       "version_major": 2,
       "version_minor": 0
      },
      "text/plain": [
       "Downloading images for Ogre Magi:   0%|          | 0/50 [00:00<?, ?it/s]"
      ]
     },
     "metadata": {},
     "output_type": "display_data"
    },
    {
     "data": {
      "application/vnd.jupyter.widget-view+json": {
       "model_id": "c23b0ba858bb45daad7b84dd36b47f55",
       "version_major": 2,
       "version_minor": 0
      },
      "text/plain": [
       "Downloading images for Omniknight:   0%|          | 0/50 [00:00<?, ?it/s]"
      ]
     },
     "metadata": {},
     "output_type": "display_data"
    },
    {
     "data": {
      "application/vnd.jupyter.widget-view+json": {
       "model_id": "14260ad605b24c0cadcc6d2318e29e93",
       "version_major": 2,
       "version_minor": 0
      },
      "text/plain": [
       "Downloading images for Oracle:   0%|          | 0/50 [00:00<?, ?it/s]"
      ]
     },
     "metadata": {},
     "output_type": "display_data"
    },
    {
     "data": {
      "application/vnd.jupyter.widget-view+json": {
       "model_id": "1a35693f70a7465ea18ea922c67b000a",
       "version_major": 2,
       "version_minor": 0
      },
      "text/plain": [
       "Downloading images for Outworld Destroyer:   0%|          | 0/50 [00:00<?, ?it/s]"
      ]
     },
     "metadata": {},
     "output_type": "display_data"
    },
    {
     "data": {
      "application/vnd.jupyter.widget-view+json": {
       "model_id": "14e24d18c35b42e5b57973a69cc15174",
       "version_major": 2,
       "version_minor": 0
      },
      "text/plain": [
       "Downloading images for Pangolier:   0%|          | 0/50 [00:00<?, ?it/s]"
      ]
     },
     "metadata": {},
     "output_type": "display_data"
    },
    {
     "data": {
      "application/vnd.jupyter.widget-view+json": {
       "model_id": "f0334b22af3448c0ad35877f7aba3d94",
       "version_major": 2,
       "version_minor": 0
      },
      "text/plain": [
       "Downloading images for Phantom Assassin:   0%|          | 0/50 [00:00<?, ?it/s]"
      ]
     },
     "metadata": {},
     "output_type": "display_data"
    },
    {
     "data": {
      "application/vnd.jupyter.widget-view+json": {
       "model_id": "b7c839d6391d4ee18f28de1ec26677ad",
       "version_major": 2,
       "version_minor": 0
      },
      "text/plain": [
       "Downloading images for Phantom Lancer:   0%|          | 0/50 [00:00<?, ?it/s]"
      ]
     },
     "metadata": {},
     "output_type": "display_data"
    },
    {
     "data": {
      "application/vnd.jupyter.widget-view+json": {
       "model_id": "123c07aa6857450292d3ca811e42326e",
       "version_major": 2,
       "version_minor": 0
      },
      "text/plain": [
       "Downloading images for Phoenix:   0%|          | 0/50 [00:00<?, ?it/s]"
      ]
     },
     "metadata": {},
     "output_type": "display_data"
    },
    {
     "data": {
      "application/vnd.jupyter.widget-view+json": {
       "model_id": "1b5321aaa46f40a09127d84e5bf37c37",
       "version_major": 2,
       "version_minor": 0
      },
      "text/plain": [
       "Downloading images for Primal Beast:   0%|          | 0/50 [00:00<?, ?it/s]"
      ]
     },
     "metadata": {},
     "output_type": "display_data"
    },
    {
     "data": {
      "application/vnd.jupyter.widget-view+json": {
       "model_id": "78bc2c9f13154ae4b7e040eaa9d146db",
       "version_major": 2,
       "version_minor": 0
      },
      "text/plain": [
       "Downloading images for Puck:   0%|          | 0/50 [00:00<?, ?it/s]"
      ]
     },
     "metadata": {},
     "output_type": "display_data"
    },
    {
     "data": {
      "application/vnd.jupyter.widget-view+json": {
       "model_id": "d3b57d7ccb3744e78f55a5c10ec7959a",
       "version_major": 2,
       "version_minor": 0
      },
      "text/plain": [
       "Downloading images for Pudge:   0%|          | 0/50 [00:00<?, ?it/s]"
      ]
     },
     "metadata": {},
     "output_type": "display_data"
    },
    {
     "data": {
      "application/vnd.jupyter.widget-view+json": {
       "model_id": "5ede1c6273fe4c67b76751265bec4512",
       "version_major": 2,
       "version_minor": 0
      },
      "text/plain": [
       "Downloading images for Pugna:   0%|          | 0/50 [00:00<?, ?it/s]"
      ]
     },
     "metadata": {},
     "output_type": "display_data"
    },
    {
     "data": {
      "application/vnd.jupyter.widget-view+json": {
       "model_id": "6c236fbdadf74f76b4c27589f220b1b9",
       "version_major": 2,
       "version_minor": 0
      },
      "text/plain": [
       "Downloading images for Queen of Pain:   0%|          | 0/50 [00:00<?, ?it/s]"
      ]
     },
     "metadata": {},
     "output_type": "display_data"
    },
    {
     "data": {
      "application/vnd.jupyter.widget-view+json": {
       "model_id": "a3bccc96a9914ae9aa45f276517f6ba6",
       "version_major": 2,
       "version_minor": 0
      },
      "text/plain": [
       "Downloading images for Razor:   0%|          | 0/50 [00:00<?, ?it/s]"
      ]
     },
     "metadata": {},
     "output_type": "display_data"
    },
    {
     "data": {
      "application/vnd.jupyter.widget-view+json": {
       "model_id": "cffc30ca5c4a47759e79b0665b843edf",
       "version_major": 2,
       "version_minor": 0
      },
      "text/plain": [
       "Downloading images for Riki:   0%|          | 0/50 [00:00<?, ?it/s]"
      ]
     },
     "metadata": {},
     "output_type": "display_data"
    },
    {
     "data": {
      "application/vnd.jupyter.widget-view+json": {
       "model_id": "fdbcd7356b434bd7b46eb3ea57321020",
       "version_major": 2,
       "version_minor": 0
      },
      "text/plain": [
       "Downloading images for Rubick:   0%|          | 0/50 [00:00<?, ?it/s]"
      ]
     },
     "metadata": {},
     "output_type": "display_data"
    },
    {
     "data": {
      "application/vnd.jupyter.widget-view+json": {
       "model_id": "547f1217450e4dc6b0dd5d5b83bdfb2a",
       "version_major": 2,
       "version_minor": 0
      },
      "text/plain": [
       "Downloading images for Sand King:   0%|          | 0/50 [00:00<?, ?it/s]"
      ]
     },
     "metadata": {},
     "output_type": "display_data"
    },
    {
     "data": {
      "application/vnd.jupyter.widget-view+json": {
       "model_id": "e8f1e8520bfa4a7e8c40037f60f420f2",
       "version_major": 2,
       "version_minor": 0
      },
      "text/plain": [
       "Downloading images for Shadow Demon:   0%|          | 0/50 [00:00<?, ?it/s]"
      ]
     },
     "metadata": {},
     "output_type": "display_data"
    },
    {
     "data": {
      "application/vnd.jupyter.widget-view+json": {
       "model_id": "c627d2ebf4944791a4d5787cbd118e3c",
       "version_major": 2,
       "version_minor": 0
      },
      "text/plain": [
       "Downloading images for Shadow Fiend:   0%|          | 0/50 [00:00<?, ?it/s]"
      ]
     },
     "metadata": {},
     "output_type": "display_data"
    },
    {
     "data": {
      "application/vnd.jupyter.widget-view+json": {
       "model_id": "d8971626148d4d5dbb77107e8506f925",
       "version_major": 2,
       "version_minor": 0
      },
      "text/plain": [
       "Downloading images for Shadow Shaman:   0%|          | 0/50 [00:00<?, ?it/s]"
      ]
     },
     "metadata": {},
     "output_type": "display_data"
    },
    {
     "data": {
      "application/vnd.jupyter.widget-view+json": {
       "model_id": "f128ee96f9bd49b48612d925a8f27196",
       "version_major": 2,
       "version_minor": 0
      },
      "text/plain": [
       "Downloading images for Silencer:   0%|          | 0/50 [00:00<?, ?it/s]"
      ]
     },
     "metadata": {},
     "output_type": "display_data"
    },
    {
     "data": {
      "application/vnd.jupyter.widget-view+json": {
       "model_id": "956bce2bc9204a72ac9743603b0eef81",
       "version_major": 2,
       "version_minor": 0
      },
      "text/plain": [
       "Downloading images for Skywrath Mage:   0%|          | 0/50 [00:00<?, ?it/s]"
      ]
     },
     "metadata": {},
     "output_type": "display_data"
    },
    {
     "data": {
      "application/vnd.jupyter.widget-view+json": {
       "model_id": "9dc6bccf5c9b4de6b55879949da230d7",
       "version_major": 2,
       "version_minor": 0
      },
      "text/plain": [
       "Downloading images for Slardar:   0%|          | 0/50 [00:00<?, ?it/s]"
      ]
     },
     "metadata": {},
     "output_type": "display_data"
    },
    {
     "data": {
      "application/vnd.jupyter.widget-view+json": {
       "model_id": "7758b82f1a3e4a779ec3181af68a649f",
       "version_major": 2,
       "version_minor": 0
      },
      "text/plain": [
       "Downloading images for Slark:   0%|          | 0/50 [00:00<?, ?it/s]"
      ]
     },
     "metadata": {},
     "output_type": "display_data"
    },
    {
     "data": {
      "application/vnd.jupyter.widget-view+json": {
       "model_id": "abb66380ddfc4f93981fa2689d525880",
       "version_major": 2,
       "version_minor": 0
      },
      "text/plain": [
       "Downloading images for Snapfire:   0%|          | 0/50 [00:00<?, ?it/s]"
      ]
     },
     "metadata": {},
     "output_type": "display_data"
    },
    {
     "data": {
      "application/vnd.jupyter.widget-view+json": {
       "model_id": "054787c34d664766b361b16464d1f5d0",
       "version_major": 2,
       "version_minor": 0
      },
      "text/plain": [
       "Downloading images for Sniper:   0%|          | 0/50 [00:00<?, ?it/s]"
      ]
     },
     "metadata": {},
     "output_type": "display_data"
    },
    {
     "data": {
      "application/vnd.jupyter.widget-view+json": {
       "model_id": "8f466065f0c04c76ab4e7029b72cb816",
       "version_major": 2,
       "version_minor": 0
      },
      "text/plain": [
       "Downloading images for Spectre:   0%|          | 0/50 [00:00<?, ?it/s]"
      ]
     },
     "metadata": {},
     "output_type": "display_data"
    },
    {
     "data": {
      "application/vnd.jupyter.widget-view+json": {
       "model_id": "128b24759d444dee9dd1e8bbcb491914",
       "version_major": 2,
       "version_minor": 0
      },
      "text/plain": [
       "Downloading images for Spirit Breaker:   0%|          | 0/50 [00:00<?, ?it/s]"
      ]
     },
     "metadata": {},
     "output_type": "display_data"
    },
    {
     "data": {
      "application/vnd.jupyter.widget-view+json": {
       "model_id": "47c10a74bff94031bdeb15c0d2cd04e5",
       "version_major": 2,
       "version_minor": 0
      },
      "text/plain": [
       "Downloading images for Storm Spirit:   0%|          | 0/50 [00:00<?, ?it/s]"
      ]
     },
     "metadata": {},
     "output_type": "display_data"
    },
    {
     "data": {
      "application/vnd.jupyter.widget-view+json": {
       "model_id": "9833db968b1541bcbe34bc399b96e490",
       "version_major": 2,
       "version_minor": 0
      },
      "text/plain": [
       "Downloading images for Sven:   0%|          | 0/50 [00:00<?, ?it/s]"
      ]
     },
     "metadata": {},
     "output_type": "display_data"
    },
    {
     "data": {
      "application/vnd.jupyter.widget-view+json": {
       "model_id": "55808f015e514b0a95c8f3b37aac213d",
       "version_major": 2,
       "version_minor": 0
      },
      "text/plain": [
       "Downloading images for Techies:   0%|          | 0/50 [00:00<?, ?it/s]"
      ]
     },
     "metadata": {},
     "output_type": "display_data"
    },
    {
     "data": {
      "application/vnd.jupyter.widget-view+json": {
       "model_id": "ee4bbc837ba643928c5456ded3d8fa08",
       "version_major": 2,
       "version_minor": 0
      },
      "text/plain": [
       "Downloading images for Templar Assassin:   0%|          | 0/50 [00:00<?, ?it/s]"
      ]
     },
     "metadata": {},
     "output_type": "display_data"
    },
    {
     "data": {
      "application/vnd.jupyter.widget-view+json": {
       "model_id": "97e97dc69c8b4669af5b333e461b4bbf",
       "version_major": 2,
       "version_minor": 0
      },
      "text/plain": [
       "Downloading images for Terrorblade:   0%|          | 0/50 [00:00<?, ?it/s]"
      ]
     },
     "metadata": {},
     "output_type": "display_data"
    },
    {
     "data": {
      "application/vnd.jupyter.widget-view+json": {
       "model_id": "a1245ad623234a3ea28a35231da30b23",
       "version_major": 2,
       "version_minor": 0
      },
      "text/plain": [
       "Downloading images for Tidehunter:   0%|          | 0/50 [00:00<?, ?it/s]"
      ]
     },
     "metadata": {},
     "output_type": "display_data"
    },
    {
     "data": {
      "application/vnd.jupyter.widget-view+json": {
       "model_id": "24af34bd98914e749c4c9dbed0bcdf20",
       "version_major": 2,
       "version_minor": 0
      },
      "text/plain": [
       "Downloading images for Timbersaw:   0%|          | 0/50 [00:00<?, ?it/s]"
      ]
     },
     "metadata": {},
     "output_type": "display_data"
    },
    {
     "data": {
      "application/vnd.jupyter.widget-view+json": {
       "model_id": "b841e02f9be0424e81f71bd8ca31b044",
       "version_major": 2,
       "version_minor": 0
      },
      "text/plain": [
       "Downloading images for Tinker:   0%|          | 0/50 [00:00<?, ?it/s]"
      ]
     },
     "metadata": {},
     "output_type": "display_data"
    },
    {
     "data": {
      "application/vnd.jupyter.widget-view+json": {
       "model_id": "bd7a80626d8b4d48931efe89b54109c0",
       "version_major": 2,
       "version_minor": 0
      },
      "text/plain": [
       "Downloading images for Tiny:   0%|          | 0/50 [00:00<?, ?it/s]"
      ]
     },
     "metadata": {},
     "output_type": "display_data"
    },
    {
     "data": {
      "application/vnd.jupyter.widget-view+json": {
       "model_id": "07ce2b640fff467594d61e2007cdf14f",
       "version_major": 2,
       "version_minor": 0
      },
      "text/plain": [
       "Downloading images for Treant Protector:   0%|          | 0/50 [00:00<?, ?it/s]"
      ]
     },
     "metadata": {},
     "output_type": "display_data"
    },
    {
     "data": {
      "application/vnd.jupyter.widget-view+json": {
       "model_id": "fe9dbd0453b043eb8dff7ccad59d3999",
       "version_major": 2,
       "version_minor": 0
      },
      "text/plain": [
       "Downloading images for Troll Warlord:   0%|          | 0/50 [00:00<?, ?it/s]"
      ]
     },
     "metadata": {},
     "output_type": "display_data"
    },
    {
     "data": {
      "application/vnd.jupyter.widget-view+json": {
       "model_id": "45f8d02da5e44fd58d7e4ed69baca5b4",
       "version_major": 2,
       "version_minor": 0
      },
      "text/plain": [
       "Downloading images for Tusk:   0%|          | 0/50 [00:00<?, ?it/s]"
      ]
     },
     "metadata": {},
     "output_type": "display_data"
    },
    {
     "data": {
      "application/vnd.jupyter.widget-view+json": {
       "model_id": "45022622dead49e58de766cf71665df6",
       "version_major": 2,
       "version_minor": 0
      },
      "text/plain": [
       "Downloading images for Underlord:   0%|          | 0/50 [00:00<?, ?it/s]"
      ]
     },
     "metadata": {},
     "output_type": "display_data"
    },
    {
     "data": {
      "application/vnd.jupyter.widget-view+json": {
       "model_id": "1f0a2a0c5b644c078674ddf7b29c502c",
       "version_major": 2,
       "version_minor": 0
      },
      "text/plain": [
       "Downloading images for Undying:   0%|          | 0/50 [00:00<?, ?it/s]"
      ]
     },
     "metadata": {},
     "output_type": "display_data"
    },
    {
     "data": {
      "application/vnd.jupyter.widget-view+json": {
       "model_id": "36b58c5311bf4734a31acd27491536d6",
       "version_major": 2,
       "version_minor": 0
      },
      "text/plain": [
       "Downloading images for Ursa:   0%|          | 0/50 [00:00<?, ?it/s]"
      ]
     },
     "metadata": {},
     "output_type": "display_data"
    },
    {
     "data": {
      "application/vnd.jupyter.widget-view+json": {
       "model_id": "b51814413e57465fb585e48982384ad2",
       "version_major": 2,
       "version_minor": 0
      },
      "text/plain": [
       "Downloading images for Vengeful Spirit:   0%|          | 0/50 [00:00<?, ?it/s]"
      ]
     },
     "metadata": {},
     "output_type": "display_data"
    },
    {
     "data": {
      "application/vnd.jupyter.widget-view+json": {
       "model_id": "3ef9c69b860544c58513a050fc860693",
       "version_major": 2,
       "version_minor": 0
      },
      "text/plain": [
       "Downloading images for Venomancer:   0%|          | 0/50 [00:00<?, ?it/s]"
      ]
     },
     "metadata": {},
     "output_type": "display_data"
    },
    {
     "data": {
      "application/vnd.jupyter.widget-view+json": {
       "model_id": "65794deb05244c61a62dc41831c9128a",
       "version_major": 2,
       "version_minor": 0
      },
      "text/plain": [
       "Downloading images for Viper:   0%|          | 0/50 [00:00<?, ?it/s]"
      ]
     },
     "metadata": {},
     "output_type": "display_data"
    },
    {
     "data": {
      "application/vnd.jupyter.widget-view+json": {
       "model_id": "2429243d1a104b27ac5d9e9f645ca8dd",
       "version_major": 2,
       "version_minor": 0
      },
      "text/plain": [
       "Downloading images for Visage:   0%|          | 0/50 [00:00<?, ?it/s]"
      ]
     },
     "metadata": {},
     "output_type": "display_data"
    },
    {
     "data": {
      "application/vnd.jupyter.widget-view+json": {
       "model_id": "7c6da5a509aa4f00807d52e9b567a0b0",
       "version_major": 2,
       "version_minor": 0
      },
      "text/plain": [
       "Downloading images for Void Spirit:   0%|          | 0/50 [00:00<?, ?it/s]"
      ]
     },
     "metadata": {},
     "output_type": "display_data"
    },
    {
     "data": {
      "application/vnd.jupyter.widget-view+json": {
       "model_id": "9bd670cca8fd4b7a915e1e697b42487c",
       "version_major": 2,
       "version_minor": 0
      },
      "text/plain": [
       "Downloading images for Warlock:   0%|          | 0/50 [00:00<?, ?it/s]"
      ]
     },
     "metadata": {},
     "output_type": "display_data"
    },
    {
     "data": {
      "application/vnd.jupyter.widget-view+json": {
       "model_id": "3db5455f43c14c5084c8908e2347d902",
       "version_major": 2,
       "version_minor": 0
      },
      "text/plain": [
       "Downloading images for Weaver:   0%|          | 0/50 [00:00<?, ?it/s]"
      ]
     },
     "metadata": {},
     "output_type": "display_data"
    },
    {
     "data": {
      "application/vnd.jupyter.widget-view+json": {
       "model_id": "d20b0aa78d0e44b89876d87f6b6cf6d7",
       "version_major": 2,
       "version_minor": 0
      },
      "text/plain": [
       "Downloading images for Windranger:   0%|          | 0/50 [00:00<?, ?it/s]"
      ]
     },
     "metadata": {},
     "output_type": "display_data"
    },
    {
     "data": {
      "application/vnd.jupyter.widget-view+json": {
       "model_id": "cc41824f34b3406a9751fe9556d0972c",
       "version_major": 2,
       "version_minor": 0
      },
      "text/plain": [
       "Downloading images for Winter Wyvern:   0%|          | 0/50 [00:00<?, ?it/s]"
      ]
     },
     "metadata": {},
     "output_type": "display_data"
    },
    {
     "data": {
      "application/vnd.jupyter.widget-view+json": {
       "model_id": "c64e59e7fa6d4f1b981069fd6b7d5565",
       "version_major": 2,
       "version_minor": 0
      },
      "text/plain": [
       "Downloading images for Witch Doctor:   0%|          | 0/50 [00:00<?, ?it/s]"
      ]
     },
     "metadata": {},
     "output_type": "display_data"
    },
    {
     "data": {
      "application/vnd.jupyter.widget-view+json": {
       "model_id": "f3e272025a0b46ac8a8ee7e9733fd7ef",
       "version_major": 2,
       "version_minor": 0
      },
      "text/plain": [
       "Downloading images for Wraith King:   0%|          | 0/50 [00:00<?, ?it/s]"
      ]
     },
     "metadata": {},
     "output_type": "display_data"
    },
    {
     "data": {
      "application/vnd.jupyter.widget-view+json": {
       "model_id": "eb272bc07370443f8b91bc87727d00d0",
       "version_major": 2,
       "version_minor": 0
      },
      "text/plain": [
       "Downloading images for Zeus:   0%|          | 0/50 [00:00<?, ?it/s]"
      ]
     },
     "metadata": {},
     "output_type": "display_data"
    },
    {
     "data": {
      "application/vnd.jupyter.widget-view+json": {
       "model_id": "9e4e8f5aa4194a0fb86a432c6043d54e",
       "version_major": 2,
       "version_minor": 0
      },
      "text/plain": [
       "Downloading images for Ash:   0%|          | 0/50 [00:00<?, ?it/s]"
      ]
     },
     "metadata": {},
     "output_type": "display_data"
    },
    {
     "data": {
      "application/vnd.jupyter.widget-view+json": {
       "model_id": "0b5956b836ca48b7bf685773f3fa6cef",
       "version_major": 2,
       "version_minor": 0
      },
      "text/plain": [
       "Downloading images for Bangalore:   0%|          | 0/50 [00:00<?, ?it/s]"
      ]
     },
     "metadata": {},
     "output_type": "display_data"
    },
    {
     "data": {
      "application/vnd.jupyter.widget-view+json": {
       "model_id": "76698933b6da4b039d8cc100bb33050e",
       "version_major": 2,
       "version_minor": 0
      },
      "text/plain": [
       "Downloading images for Fuse:   0%|          | 0/50 [00:00<?, ?it/s]"
      ]
     },
     "metadata": {},
     "output_type": "display_data"
    },
    {
     "data": {
      "application/vnd.jupyter.widget-view+json": {
       "model_id": "5e519fe75a1b4c97a8c0ab10b5a11d5e",
       "version_major": 2,
       "version_minor": 0
      },
      "text/plain": [
       "Downloading images for Horizon:   0%|          | 0/50 [00:00<?, ?it/s]"
      ]
     },
     "metadata": {},
     "output_type": "display_data"
    },
    {
     "data": {
      "application/vnd.jupyter.widget-view+json": {
       "model_id": "11b0ca1ff3704c4b83879e8bbfc459a9",
       "version_major": 2,
       "version_minor": 0
      },
      "text/plain": [
       "Downloading images for Mirage:   0%|          | 0/50 [00:00<?, ?it/s]"
      ]
     },
     "metadata": {},
     "output_type": "display_data"
    },
    {
     "data": {
      "application/vnd.jupyter.widget-view+json": {
       "model_id": "63e7fada3c544f0da7a6a4cd2e12b9fd",
       "version_major": 2,
       "version_minor": 0
      },
      "text/plain": [
       "Downloading images for Octane:   0%|          | 0/50 [00:00<?, ?it/s]"
      ]
     },
     "metadata": {},
     "output_type": "display_data"
    },
    {
     "data": {
      "application/vnd.jupyter.widget-view+json": {
       "model_id": "c6293831df1c4e22ae64d247e84ebfa9",
       "version_major": 2,
       "version_minor": 0
      },
      "text/plain": [
       "Downloading images for Revenant:   0%|          | 0/50 [00:00<?, ?it/s]"
      ]
     },
     "metadata": {},
     "output_type": "display_data"
    },
    {
     "data": {
      "application/vnd.jupyter.widget-view+json": {
       "model_id": "1219db317e6345e587964da802fd327e",
       "version_major": 2,
       "version_minor": 0
      },
      "text/plain": [
       "Downloading images for Wraith:   0%|          | 0/50 [00:00<?, ?it/s]"
      ]
     },
     "metadata": {},
     "output_type": "display_data"
    },
    {
     "data": {
      "application/vnd.jupyter.widget-view+json": {
       "model_id": "84eef7da2ef64c0092d07d0a999b1cf3",
       "version_major": 2,
       "version_minor": 0
      },
      "text/plain": [
       "Downloading images for Mad Maggie:   0%|          | 0/50 [00:00<?, ?it/s]"
      ]
     },
     "metadata": {},
     "output_type": "display_data"
    },
    {
     "data": {
      "application/vnd.jupyter.widget-view+json": {
       "model_id": "e54abb005ec34bf7ada2a40105660231",
       "version_major": 2,
       "version_minor": 0
      },
      "text/plain": [
       "Downloading images for Caustic:   0%|          | 0/50 [00:00<?, ?it/s]"
      ]
     },
     "metadata": {},
     "output_type": "display_data"
    },
    {
     "data": {
      "application/vnd.jupyter.widget-view+json": {
       "model_id": "1bbac87613be4b71b38f2e6f860a91ad",
       "version_major": 2,
       "version_minor": 0
      },
      "text/plain": [
       "Downloading images for Gibraltar:   0%|          | 0/50 [00:00<?, ?it/s]"
      ]
     },
     "metadata": {},
     "output_type": "display_data"
    },
    {
     "data": {
      "application/vnd.jupyter.widget-view+json": {
       "model_id": "31abdaf3f5b64d629ed4ee1fd2ec30bf",
       "version_major": 2,
       "version_minor": 0
      },
      "text/plain": [
       "Downloading images for Rampart:   0%|          | 0/50 [00:00<?, ?it/s]"
      ]
     },
     "metadata": {},
     "output_type": "display_data"
    },
    {
     "data": {
      "application/vnd.jupyter.widget-view+json": {
       "model_id": "ff8b36990d8e445ebc6cd7f29dd3e0cd",
       "version_major": 2,
       "version_minor": 0
      },
      "text/plain": [
       "Downloading images for Wattson:   0%|          | 0/50 [00:00<?, ?it/s]"
      ]
     },
     "metadata": {},
     "output_type": "display_data"
    },
    {
     "data": {
      "application/vnd.jupyter.widget-view+json": {
       "model_id": "ebd5e148b1e54c89a15db150eab2a0d6",
       "version_major": 2,
       "version_minor": 0
      },
      "text/plain": [
       "Downloading images for Catalyst:   0%|          | 0/50 [00:00<?, ?it/s]"
      ]
     },
     "metadata": {},
     "output_type": "display_data"
    },
    {
     "data": {
      "application/vnd.jupyter.widget-view+json": {
       "model_id": "f49f5195b99f437d8b6b0cc05acaebc2",
       "version_major": 2,
       "version_minor": 0
      },
      "text/plain": [
       "Downloading images for Lifeline:   0%|          | 0/50 [00:00<?, ?it/s]"
      ]
     },
     "metadata": {},
     "output_type": "display_data"
    },
    {
     "data": {
      "application/vnd.jupyter.widget-view+json": {
       "model_id": "0a20bcc778f94940b711df35ee5590f0",
       "version_major": 2,
       "version_minor": 0
      },
      "text/plain": [
       "Downloading images for Loba:   0%|          | 0/50 [00:00<?, ?it/s]"
      ]
     },
     "metadata": {},
     "output_type": "display_data"
    },
    {
     "data": {
      "application/vnd.jupyter.widget-view+json": {
       "model_id": "af27386485b64bb9a7c86e790988bca6",
       "version_major": 2,
       "version_minor": 0
      },
      "text/plain": [
       "Downloading images for Newcastle:   0%|          | 0/50 [00:00<?, ?it/s]"
      ]
     },
     "metadata": {},
     "output_type": "display_data"
    },
    {
     "data": {
      "application/vnd.jupyter.widget-view+json": {
       "model_id": "13adac4f9a9a4adfa0f5a034ea7f67c2",
       "version_major": 2,
       "version_minor": 0
      },
      "text/plain": [
       "Downloading images for Bloodhound:   0%|          | 0/50 [00:00<?, ?it/s]"
      ]
     },
     "metadata": {},
     "output_type": "display_data"
    },
    {
     "data": {
      "application/vnd.jupyter.widget-view+json": {
       "model_id": "1f033189223641188ca371972560c911",
       "version_major": 2,
       "version_minor": 0
      },
      "text/plain": [
       "Downloading images for Crypto:   0%|          | 0/50 [00:00<?, ?it/s]"
      ]
     },
     "metadata": {},
     "output_type": "display_data"
    },
    {
     "data": {
      "application/vnd.jupyter.widget-view+json": {
       "model_id": "67d836f8a237454eb5de000049da19aa",
       "version_major": 2,
       "version_minor": 0
      },
      "text/plain": [
       "Downloading images for Pathfinder:   0%|          | 0/50 [00:00<?, ?it/s]"
      ]
     },
     "metadata": {},
     "output_type": "display_data"
    },
    {
     "data": {
      "application/vnd.jupyter.widget-view+json": {
       "model_id": "81dbd6dab4d84f0db2f2593eeee4acb6",
       "version_major": 2,
       "version_minor": 0
      },
      "text/plain": [
       "Downloading images for Seer:   0%|          | 0/50 [00:00<?, ?it/s]"
      ]
     },
     "metadata": {},
     "output_type": "display_data"
    },
    {
     "data": {
      "application/vnd.jupyter.widget-view+json": {
       "model_id": "4dee4853f7ba447f8265a04b5902a269",
       "version_major": 2,
       "version_minor": 0
      },
      "text/plain": [
       "Downloading images for Valkyrie:   0%|          | 0/50 [00:00<?, ?it/s]"
      ]
     },
     "metadata": {},
     "output_type": "display_data"
    },
    {
     "data": {
      "application/vnd.jupyter.widget-view+json": {
       "model_id": "e5e9073c0f1c46b182e6b0f086c6f8e4",
       "version_major": 2,
       "version_minor": 0
      },
      "text/plain": [
       "Downloading images for Vantage:   0%|          | 0/50 [00:00<?, ?it/s]"
      ]
     },
     "metadata": {},
     "output_type": "display_data"
    },
    {
     "data": {
      "application/vnd.jupyter.widget-view+json": {
       "model_id": "5798eca0019c40b7af833b95e43e12b8",
       "version_major": 2,
       "version_minor": 0
      },
      "text/plain": [
       "Downloading images for RAM:   0%|          | 0/50 [00:00<?, ?it/s]"
      ]
     },
     "metadata": {},
     "output_type": "display_data"
    },
    {
     "data": {
      "application/vnd.jupyter.widget-view+json": {
       "model_id": "f12f846d61a048ccbd60607c09c15de5",
       "version_major": 2,
       "version_minor": 0
      },
      "text/plain": [
       "Downloading images for FENRIR:   0%|          | 0/50 [00:00<?, ?it/s]"
      ]
     },
     "metadata": {},
     "output_type": "display_data"
    },
    {
     "data": {
      "application/vnd.jupyter.widget-view+json": {
       "model_id": "fd2612d5bf7a4fa39bd387d8d8681514",
       "version_major": 2,
       "version_minor": 0
      },
      "text/plain": [
       "Downloading images for BRAVA:   0%|          | 0/50 [00:00<?, ?it/s]"
      ]
     },
     "metadata": {},
     "output_type": "display_data"
    },
    {
     "data": {
      "application/vnd.jupyter.widget-view+json": {
       "model_id": "e1a7cebfc64a4b9badb5e3740060405b",
       "version_major": 2,
       "version_minor": 0
      },
      "text/plain": [
       "Downloading images for SOLIS:   0%|          | 0/50 [00:00<?, ?it/s]"
      ]
     },
     "metadata": {},
     "output_type": "display_data"
    },
    {
     "data": {
      "application/vnd.jupyter.widget-view+json": {
       "model_id": "655b179430534a228a3867b74d01162f",
       "version_major": 2,
       "version_minor": 0
      },
      "text/plain": [
       "Downloading images for GRIM:   0%|          | 0/50 [00:00<?, ?it/s]"
      ]
     },
     "metadata": {},
     "output_type": "display_data"
    },
    {
     "data": {
      "application/vnd.jupyter.widget-view+json": {
       "model_id": "a6d7ca22c42a462ea9fbfd3ffc705e81",
       "version_major": 2,
       "version_minor": 0
      },
      "text/plain": [
       "Downloading images for SENS:   0%|          | 0/50 [00:00<?, ?it/s]"
      ]
     },
     "metadata": {},
     "output_type": "display_data"
    },
    {
     "data": {
      "application/vnd.jupyter.widget-view+json": {
       "model_id": "8aaf679968b3413aa488b9811742dc4f",
       "version_major": 2,
       "version_minor": 0
      },
      "text/plain": [
       "Downloading images for AZAMI:   0%|          | 0/50 [00:00<?, ?it/s]"
      ]
     },
     "metadata": {},
     "output_type": "display_data"
    },
    {
     "data": {
      "application/vnd.jupyter.widget-view+json": {
       "model_id": "3bef6cba44cc4e42af079391217688f0",
       "version_major": 2,
       "version_minor": 0
      },
      "text/plain": [
       "Downloading images for THORN:   0%|          | 0/50 [00:00<?, ?it/s]"
      ]
     },
     "metadata": {},
     "output_type": "display_data"
    },
    {
     "data": {
      "application/vnd.jupyter.widget-view+json": {
       "model_id": "6a34ee0f2e8549e2925b4da06e939534",
       "version_major": 2,
       "version_minor": 0
      },
      "text/plain": [
       "Downloading images for OSA:   0%|          | 0/50 [00:00<?, ?it/s]"
      ]
     },
     "metadata": {},
     "output_type": "display_data"
    },
    {
     "data": {
      "application/vnd.jupyter.widget-view+json": {
       "model_id": "da1c794bba6e452eba4d7692da4e488d",
       "version_major": 2,
       "version_minor": 0
      },
      "text/plain": [
       "Downloading images for THUNDERBIRD:   0%|          | 0/50 [00:00<?, ?it/s]"
      ]
     },
     "metadata": {},
     "output_type": "display_data"
    },
    {
     "data": {
      "application/vnd.jupyter.widget-view+json": {
       "model_id": "99f930e3690b41dd8b503b39daaec576",
       "version_major": 2,
       "version_minor": 0
      },
      "text/plain": [
       "Downloading images for FLORES:   0%|          | 0/50 [00:00<?, ?it/s]"
      ]
     },
     "metadata": {},
     "output_type": "display_data"
    },
    {
     "data": {
      "application/vnd.jupyter.widget-view+json": {
       "model_id": "5dbe16cdb2d14aeb8d47f8050da326bc",
       "version_major": 2,
       "version_minor": 0
      },
      "text/plain": [
       "Downloading images for ARUNI:   0%|          | 0/50 [00:00<?, ?it/s]"
      ]
     },
     "metadata": {},
     "output_type": "display_data"
    },
    {
     "data": {
      "application/vnd.jupyter.widget-view+json": {
       "model_id": "802aa98d30fa4a368d5969bd8b8e6b86",
       "version_major": 2,
       "version_minor": 0
      },
      "text/plain": [
       "Downloading images for ZERO:   0%|          | 0/50 [00:00<?, ?it/s]"
      ]
     },
     "metadata": {},
     "output_type": "display_data"
    },
    {
     "data": {
      "application/vnd.jupyter.widget-view+json": {
       "model_id": "b8e7e44c75614cc7881d5841e452267e",
       "version_major": 2,
       "version_minor": 0
      },
      "text/plain": [
       "Downloading images for ACE:   0%|          | 0/50 [00:00<?, ?it/s]"
      ]
     },
     "metadata": {},
     "output_type": "display_data"
    },
    {
     "data": {
      "application/vnd.jupyter.widget-view+json": {
       "model_id": "134b6ba25eae4b388f2e0ae89a501d9c",
       "version_major": 2,
       "version_minor": 0
      },
      "text/plain": [
       "Downloading images for MELUSI:   0%|          | 0/50 [00:00<?, ?it/s]"
      ]
     },
     "metadata": {},
     "output_type": "display_data"
    },
    {
     "data": {
      "application/vnd.jupyter.widget-view+json": {
       "model_id": "95b594473f12493bae036624f3a46d8b",
       "version_major": 2,
       "version_minor": 0
      },
      "text/plain": [
       "Downloading images for ORYX:   0%|          | 0/50 [00:00<?, ?it/s]"
      ]
     },
     "metadata": {},
     "output_type": "display_data"
    },
    {
     "data": {
      "application/vnd.jupyter.widget-view+json": {
       "model_id": "a5b100de47d142319c95195fb6b0c1d9",
       "version_major": 2,
       "version_minor": 0
      },
      "text/plain": [
       "Downloading images for IANA:   0%|          | 0/50 [00:00<?, ?it/s]"
      ]
     },
     "metadata": {},
     "output_type": "display_data"
    },
    {
     "data": {
      "application/vnd.jupyter.widget-view+json": {
       "model_id": "db670127cfa9429e90b7ade1682fc75d",
       "version_major": 2,
       "version_minor": 0
      },
      "text/plain": [
       "Downloading images for WAMAI:   0%|          | 0/50 [00:00<?, ?it/s]"
      ]
     },
     "metadata": {},
     "output_type": "display_data"
    },
    {
     "data": {
      "application/vnd.jupyter.widget-view+json": {
       "model_id": "e736cf1c4eda4fce980eae34e5b64b3e",
       "version_major": 2,
       "version_minor": 0
      },
      "text/plain": [
       "Downloading images for KALI:   0%|          | 0/50 [00:00<?, ?it/s]"
      ]
     },
     "metadata": {},
     "output_type": "display_data"
    },
    {
     "data": {
      "application/vnd.jupyter.widget-view+json": {
       "model_id": "1b1eb11d0ac04d8f859ad37498978963",
       "version_major": 2,
       "version_minor": 0
      },
      "text/plain": [
       "Downloading images for AMARU:   0%|          | 0/50 [00:00<?, ?it/s]"
      ]
     },
     "metadata": {},
     "output_type": "display_data"
    },
    {
     "data": {
      "application/vnd.jupyter.widget-view+json": {
       "model_id": "eb5c3edcc9154d619e2ae7c52f88fd20",
       "version_major": 2,
       "version_minor": 0
      },
      "text/plain": [
       "Downloading images for GOYO:   0%|          | 0/50 [00:00<?, ?it/s]"
      ]
     },
     "metadata": {},
     "output_type": "display_data"
    },
    {
     "data": {
      "application/vnd.jupyter.widget-view+json": {
       "model_id": "663675595dfa41bb997b762df221f05a",
       "version_major": 2,
       "version_minor": 0
      },
      "text/plain": [
       "Downloading images for NØKK:   0%|          | 0/50 [00:00<?, ?it/s]"
      ]
     },
     "metadata": {},
     "output_type": "display_data"
    },
    {
     "data": {
      "application/vnd.jupyter.widget-view+json": {
       "model_id": "b08b659f666e44189cfc70a4450f3fac",
       "version_major": 2,
       "version_minor": 0
      },
      "text/plain": [
       "Downloading images for WARDEN:   0%|          | 0/50 [00:00<?, ?it/s]"
      ]
     },
     "metadata": {},
     "output_type": "display_data"
    },
    {
     "data": {
      "application/vnd.jupyter.widget-view+json": {
       "model_id": "dbbe7091a56f4256b31b55934152c7cf",
       "version_major": 2,
       "version_minor": 0
      },
      "text/plain": [
       "Downloading images for MOZZIE:   0%|          | 0/50 [00:00<?, ?it/s]"
      ]
     },
     "metadata": {},
     "output_type": "display_data"
    },
    {
     "data": {
      "application/vnd.jupyter.widget-view+json": {
       "model_id": "727237f307e247409ae6b1eaa611fd25",
       "version_major": 2,
       "version_minor": 0
      },
      "text/plain": [
       "Downloading images for GRIDLOCK:   0%|          | 0/50 [00:00<?, ?it/s]"
      ]
     },
     "metadata": {},
     "output_type": "display_data"
    },
    {
     "data": {
      "application/vnd.jupyter.widget-view+json": {
       "model_id": "7637bc2d671142ecbcd01d0f70defbd8",
       "version_major": 2,
       "version_minor": 0
      },
      "text/plain": [
       "Downloading images for NOMAD:   0%|          | 0/50 [00:00<?, ?it/s]"
      ]
     },
     "metadata": {},
     "output_type": "display_data"
    },
    {
     "data": {
      "application/vnd.jupyter.widget-view+json": {
       "model_id": "e7941b6013c64b818a1651c10c7ed676",
       "version_major": 2,
       "version_minor": 0
      },
      "text/plain": [
       "Downloading images for KAID:   0%|          | 0/50 [00:00<?, ?it/s]"
      ]
     },
     "metadata": {},
     "output_type": "display_data"
    },
    {
     "data": {
      "application/vnd.jupyter.widget-view+json": {
       "model_id": "319818c9c3b54a129ff541d3e6acefe9",
       "version_major": 2,
       "version_minor": 0
      },
      "text/plain": [
       "Downloading images for CLASH:   0%|          | 0/50 [00:00<?, ?it/s]"
      ]
     },
     "metadata": {},
     "output_type": "display_data"
    },
    {
     "data": {
      "application/vnd.jupyter.widget-view+json": {
       "model_id": "527737dbcbea4f919036ca215044ccbf",
       "version_major": 2,
       "version_minor": 0
      },
      "text/plain": [
       "Downloading images for MAVERICK:   0%|          | 0/50 [00:00<?, ?it/s]"
      ]
     },
     "metadata": {},
     "output_type": "display_data"
    },
    {
     "data": {
      "application/vnd.jupyter.widget-view+json": {
       "model_id": "a09e2138bb1d4438a96cb08068ad8fa6",
       "version_major": 2,
       "version_minor": 0
      },
      "text/plain": [
       "Downloading images for MAESTRO:   0%|          | 0/50 [00:00<?, ?it/s]"
      ]
     },
     "metadata": {},
     "output_type": "display_data"
    },
    {
     "data": {
      "application/vnd.jupyter.widget-view+json": {
       "model_id": "32452f2d6e8740f58648d6c4cb586962",
       "version_major": 2,
       "version_minor": 0
      },
      "text/plain": [
       "Downloading images for ALIBI:   0%|          | 0/50 [00:00<?, ?it/s]"
      ]
     },
     "metadata": {},
     "output_type": "display_data"
    },
    {
     "data": {
      "application/vnd.jupyter.widget-view+json": {
       "model_id": "7694e73d31fa4dfa92a30bab9ed7f35f",
       "version_major": 2,
       "version_minor": 0
      },
      "text/plain": [
       "Downloading images for LION:   0%|          | 0/50 [00:00<?, ?it/s]"
      ]
     },
     "metadata": {},
     "output_type": "display_data"
    },
    {
     "data": {
      "application/vnd.jupyter.widget-view+json": {
       "model_id": "a0cab3a730764c159db6b69016f9f97f",
       "version_major": 2,
       "version_minor": 0
      },
      "text/plain": [
       "Downloading images for FINKA:   0%|          | 0/50 [00:00<?, ?it/s]"
      ]
     },
     "metadata": {},
     "output_type": "display_data"
    },
    {
     "data": {
      "application/vnd.jupyter.widget-view+json": {
       "model_id": "896429025d0f411ca2b69e53613fc942",
       "version_major": 2,
       "version_minor": 0
      },
      "text/plain": [
       "Downloading images for VIGIL:   0%|          | 0/50 [00:00<?, ?it/s]"
      ]
     },
     "metadata": {},
     "output_type": "display_data"
    },
    {
     "data": {
      "application/vnd.jupyter.widget-view+json": {
       "model_id": "d32b12878342491486bcf55a64eeae58",
       "version_major": 2,
       "version_minor": 0
      },
      "text/plain": [
       "Downloading images for DOKKAEBI:   0%|          | 0/50 [00:00<?, ?it/s]"
      ]
     },
     "metadata": {},
     "output_type": "display_data"
    },
    {
     "data": {
      "application/vnd.jupyter.widget-view+json": {
       "model_id": "5d5b688ef3aa4ed4b240d36108a97adf",
       "version_major": 2,
       "version_minor": 0
      },
      "text/plain": [
       "Downloading images for ZOFIA:   0%|          | 0/50 [00:00<?, ?it/s]"
      ]
     },
     "metadata": {},
     "output_type": "display_data"
    },
    {
     "data": {
      "application/vnd.jupyter.widget-view+json": {
       "model_id": "f0373740bb80432187394aa7877f5de2",
       "version_major": 2,
       "version_minor": 0
      },
      "text/plain": [
       "Downloading images for ELA:   0%|          | 0/50 [00:00<?, ?it/s]"
      ]
     },
     "metadata": {},
     "output_type": "display_data"
    },
    {
     "data": {
      "application/vnd.jupyter.widget-view+json": {
       "model_id": "5ede6d3620d041afbc2810706ba2637c",
       "version_major": 2,
       "version_minor": 0
      },
      "text/plain": [
       "Downloading images for YING:   0%|          | 0/50 [00:00<?, ?it/s]"
      ]
     },
     "metadata": {},
     "output_type": "display_data"
    },
    {
     "data": {
      "application/vnd.jupyter.widget-view+json": {
       "model_id": "d0d40086f6de4105a2059a6c8f45f223",
       "version_major": 2,
       "version_minor": 0
      },
      "text/plain": [
       "Downloading images for LESION:   0%|          | 0/50 [00:00<?, ?it/s]"
      ]
     },
     "metadata": {},
     "output_type": "display_data"
    },
    {
     "data": {
      "application/vnd.jupyter.widget-view+json": {
       "model_id": "8628a31b193e4cce9eff16e900cd2239",
       "version_major": 2,
       "version_minor": 0
      },
      "text/plain": [
       "Downloading images for MIRA:   0%|          | 0/50 [00:00<?, ?it/s]"
      ]
     },
     "metadata": {},
     "output_type": "display_data"
    },
    {
     "data": {
      "application/vnd.jupyter.widget-view+json": {
       "model_id": "1428a90d70be437cb073a2d86a91b205",
       "version_major": 2,
       "version_minor": 0
      },
      "text/plain": [
       "Downloading images for JACKAL:   0%|          | 0/50 [00:00<?, ?it/s]"
      ]
     },
     "metadata": {},
     "output_type": "display_data"
    },
    {
     "data": {
      "application/vnd.jupyter.widget-view+json": {
       "model_id": "92c22488916d46b9860e543bd9fdea60",
       "version_major": 2,
       "version_minor": 0
      },
      "text/plain": [
       "Downloading images for HIBANA:   0%|          | 0/50 [00:00<?, ?it/s]"
      ]
     },
     "metadata": {},
     "output_type": "display_data"
    },
    {
     "data": {
      "application/vnd.jupyter.widget-view+json": {
       "model_id": "742d3a9356f345e1b690d45d5c040e8a",
       "version_major": 2,
       "version_minor": 0
      },
      "text/plain": [
       "Downloading images for ECHO:   0%|          | 0/50 [00:00<?, ?it/s]"
      ]
     },
     "metadata": {},
     "output_type": "display_data"
    },
    {
     "data": {
      "application/vnd.jupyter.widget-view+json": {
       "model_id": "4d0dcee47d314205ba2f39affdb7f4e5",
       "version_major": 2,
       "version_minor": 0
      },
      "text/plain": [
       "Downloading images for CAVEIRA:   0%|          | 0/50 [00:00<?, ?it/s]"
      ]
     },
     "metadata": {},
     "output_type": "display_data"
    },
    {
     "data": {
      "application/vnd.jupyter.widget-view+json": {
       "model_id": "952e6793672e4b90b5c43d61a8de2952",
       "version_major": 2,
       "version_minor": 0
      },
      "text/plain": [
       "Downloading images for CAPITÃO:   0%|          | 0/50 [00:00<?, ?it/s]"
      ]
     },
     "metadata": {},
     "output_type": "display_data"
    },
    {
     "data": {
      "application/vnd.jupyter.widget-view+json": {
       "model_id": "8e69b4e2538147148f8fb693e10ddda4",
       "version_major": 2,
       "version_minor": 0
      },
      "text/plain": [
       "Downloading images for BLACKBEARD:   0%|          | 0/50 [00:00<?, ?it/s]"
      ]
     },
     "metadata": {},
     "output_type": "display_data"
    },
    {
     "data": {
      "application/vnd.jupyter.widget-view+json": {
       "model_id": "e4f5dbe9f42749a280ea1662e4906287",
       "version_major": 2,
       "version_minor": 0
      },
      "text/plain": [
       "Downloading images for VALKYRIE:   0%|          | 0/50 [00:00<?, ?it/s]"
      ]
     },
     "metadata": {},
     "output_type": "display_data"
    },
    {
     "data": {
      "application/vnd.jupyter.widget-view+json": {
       "model_id": "78dc357ad79e4c35a59b849cfcd491fe",
       "version_major": 2,
       "version_minor": 0
      },
      "text/plain": [
       "Downloading images for BUCK:   0%|          | 0/50 [00:00<?, ?it/s]"
      ]
     },
     "metadata": {},
     "output_type": "display_data"
    },
    {
     "data": {
      "application/vnd.jupyter.widget-view+json": {
       "model_id": "fabb916bb8d644ff9f52fec361a2da76",
       "version_major": 2,
       "version_minor": 0
      },
      "text/plain": [
       "Downloading images for FROST:   0%|          | 0/50 [00:00<?, ?it/s]"
      ]
     },
     "metadata": {},
     "output_type": "display_data"
    },
    {
     "data": {
      "application/vnd.jupyter.widget-view+json": {
       "model_id": "e4655698262448d194e3c2b19af2791f",
       "version_major": 2,
       "version_minor": 0
      },
      "text/plain": [
       "Downloading images for MUTE:   0%|          | 0/50 [00:00<?, ?it/s]"
      ]
     },
     "metadata": {},
     "output_type": "display_data"
    },
    {
     "data": {
      "application/vnd.jupyter.widget-view+json": {
       "model_id": "e5fc49735b794ded8b9378f9b2933532",
       "version_major": 2,
       "version_minor": 0
      },
      "text/plain": [
       "Downloading images for SLEDGE:   0%|          | 0/50 [00:00<?, ?it/s]"
      ]
     },
     "metadata": {},
     "output_type": "display_data"
    },
    {
     "data": {
      "application/vnd.jupyter.widget-view+json": {
       "model_id": "2306aa4d21424bb1b2e01cf142fda509",
       "version_major": 2,
       "version_minor": 0
      },
      "text/plain": [
       "Downloading images for SMOKE:   0%|          | 0/50 [00:00<?, ?it/s]"
      ]
     },
     "metadata": {},
     "output_type": "display_data"
    },
    {
     "data": {
      "application/vnd.jupyter.widget-view+json": {
       "model_id": "65a8f3652e1e48e29fba84835351c59e",
       "version_major": 2,
       "version_minor": 0
      },
      "text/plain": [
       "Downloading images for THATCHER:   0%|          | 0/50 [00:00<?, ?it/s]"
      ]
     },
     "metadata": {},
     "output_type": "display_data"
    },
    {
     "data": {
      "application/vnd.jupyter.widget-view+json": {
       "model_id": "55db9ed7169944cea50857998f629d14",
       "version_major": 2,
       "version_minor": 0
      },
      "text/plain": [
       "Downloading images for ASH:   0%|          | 0/50 [00:00<?, ?it/s]"
      ]
     },
     "metadata": {},
     "output_type": "display_data"
    },
    {
     "data": {
      "application/vnd.jupyter.widget-view+json": {
       "model_id": "e61e672c94a947309d4411bafadfd78e",
       "version_major": 2,
       "version_minor": 0
      },
      "text/plain": [
       "Downloading images for CASTLE:   0%|          | 0/50 [00:00<?, ?it/s]"
      ]
     },
     "metadata": {},
     "output_type": "display_data"
    },
    {
     "data": {
      "application/vnd.jupyter.widget-view+json": {
       "model_id": "e004acbd007f454b9a40f58e0888391b",
       "version_major": 2,
       "version_minor": 0
      },
      "text/plain": [
       "Downloading images for PULSE:   0%|          | 0/50 [00:00<?, ?it/s]"
      ]
     },
     "metadata": {},
     "output_type": "display_data"
    },
    {
     "data": {
      "application/vnd.jupyter.widget-view+json": {
       "model_id": "56407aaaa87845c4a0da884c7ddec119",
       "version_major": 2,
       "version_minor": 0
      },
      "text/plain": [
       "Downloading images for THERMITE:   0%|          | 0/50 [00:00<?, ?it/s]"
      ]
     },
     "metadata": {},
     "output_type": "display_data"
    },
    {
     "data": {
      "application/vnd.jupyter.widget-view+json": {
       "model_id": "2b04cc7419a74b28a47a9792746f4b6e",
       "version_major": 2,
       "version_minor": 0
      },
      "text/plain": [
       "Downloading images for MONTAGNE:   0%|          | 0/50 [00:00<?, ?it/s]"
      ]
     },
     "metadata": {},
     "output_type": "display_data"
    },
    {
     "data": {
      "application/vnd.jupyter.widget-view+json": {
       "model_id": "f53683eb9b1846029801f24a3ae34609",
       "version_major": 2,
       "version_minor": 0
      },
      "text/plain": [
       "Downloading images for TWITCH:   0%|          | 0/50 [00:00<?, ?it/s]"
      ]
     },
     "metadata": {},
     "output_type": "display_data"
    },
    {
     "data": {
      "application/vnd.jupyter.widget-view+json": {
       "model_id": "707685ece58b4453af5f2326b9e29914",
       "version_major": 2,
       "version_minor": 0
      },
      "text/plain": [
       "Downloading images for DOC:   0%|          | 0/50 [00:00<?, ?it/s]"
      ]
     },
     "metadata": {},
     "output_type": "display_data"
    },
    {
     "data": {
      "application/vnd.jupyter.widget-view+json": {
       "model_id": "f398e1afdb134e71bade5d81c4103ff1",
       "version_major": 2,
       "version_minor": 0
      },
      "text/plain": [
       "Downloading images for ROOK:   0%|          | 0/50 [00:00<?, ?it/s]"
      ]
     },
     "metadata": {},
     "output_type": "display_data"
    },
    {
     "data": {
      "application/vnd.jupyter.widget-view+json": {
       "model_id": "56bf3de010be4b35bc20e27eb583fb1b",
       "version_major": 2,
       "version_minor": 0
      },
      "text/plain": [
       "Downloading images for JÄGER:   0%|          | 0/50 [00:00<?, ?it/s]"
      ]
     },
     "metadata": {},
     "output_type": "display_data"
    },
    {
     "data": {
      "application/vnd.jupyter.widget-view+json": {
       "model_id": "f156ba8f877b48ed8b814fe0143af054",
       "version_major": 2,
       "version_minor": 0
      },
      "text/plain": [
       "Downloading images for BANDIT:   0%|          | 0/50 [00:00<?, ?it/s]"
      ]
     },
     "metadata": {},
     "output_type": "display_data"
    },
    {
     "data": {
      "application/vnd.jupyter.widget-view+json": {
       "model_id": "7b87e94c0fee45c18e3254955848a629",
       "version_major": 2,
       "version_minor": 0
      },
      "text/plain": [
       "Downloading images for BLITZ:   0%|          | 0/50 [00:00<?, ?it/s]"
      ]
     },
     "metadata": {},
     "output_type": "display_data"
    },
    {
     "data": {
      "application/vnd.jupyter.widget-view+json": {
       "model_id": "da229a5ec750435e804e03fcb6f49679",
       "version_major": 2,
       "version_minor": 0
      },
      "text/plain": [
       "Downloading images for IQ:   0%|          | 0/50 [00:00<?, ?it/s]"
      ]
     },
     "metadata": {},
     "output_type": "display_data"
    },
    {
     "data": {
      "application/vnd.jupyter.widget-view+json": {
       "model_id": "37ad720508144f758a1d60d5f4b77d27",
       "version_major": 2,
       "version_minor": 0
      },
      "text/plain": [
       "Downloading images for FUZE:   0%|          | 0/50 [00:00<?, ?it/s]"
      ]
     },
     "metadata": {},
     "output_type": "display_data"
    },
    {
     "data": {
      "application/vnd.jupyter.widget-view+json": {
       "model_id": "c850c4d21a194f64bfa5662f134c88be",
       "version_major": 2,
       "version_minor": 0
      },
      "text/plain": [
       "Downloading images for GLAZ:   0%|          | 0/50 [00:00<?, ?it/s]"
      ]
     },
     "metadata": {},
     "output_type": "display_data"
    },
    {
     "data": {
      "application/vnd.jupyter.widget-view+json": {
       "model_id": "ec3535764dce449980f8c9ada959352e",
       "version_major": 2,
       "version_minor": 0
      },
      "text/plain": [
       "Downloading images for TACHANKA:   0%|          | 0/50 [00:00<?, ?it/s]"
      ]
     },
     "metadata": {},
     "output_type": "display_data"
    },
    {
     "data": {
      "application/vnd.jupyter.widget-view+json": {
       "model_id": "83ab75407983418f9913106e54381388",
       "version_major": 2,
       "version_minor": 0
      },
      "text/plain": [
       "Downloading images for KAPKAN:   0%|          | 0/50 [00:00<?, ?it/s]"
      ]
     },
     "metadata": {},
     "output_type": "display_data"
    },
    {
     "data": {
      "application/vnd.jupyter.widget-view+json": {
       "model_id": "6bedb6fe06cc43ab8c55d9db8ef789c5",
       "version_major": 2,
       "version_minor": 0
      },
      "text/plain": [
       "Downloading images for Albedo:   0%|          | 0/50 [00:00<?, ?it/s]"
      ]
     },
     "metadata": {},
     "output_type": "display_data"
    },
    {
     "data": {
      "application/vnd.jupyter.widget-view+json": {
       "model_id": "586f3c01b5ea41aa99c3ebf0e9a27fa3",
       "version_major": 2,
       "version_minor": 0
      },
      "text/plain": [
       "Downloading images for Alhaitham:   0%|          | 0/50 [00:00<?, ?it/s]"
      ]
     },
     "metadata": {},
     "output_type": "display_data"
    },
    {
     "data": {
      "application/vnd.jupyter.widget-view+json": {
       "model_id": "e6e5521ed4a0472296f9136e2d82e974",
       "version_major": 2,
       "version_minor": 0
      },
      "text/plain": [
       "Downloading images for Aloy:   0%|          | 0/50 [00:00<?, ?it/s]"
      ]
     },
     "metadata": {},
     "output_type": "display_data"
    },
    {
     "data": {
      "application/vnd.jupyter.widget-view+json": {
       "model_id": "946cb8283e644dce8ba6b6c0c09bdf60",
       "version_major": 2,
       "version_minor": 0
      },
      "text/plain": [
       "Downloading images for Amber:   0%|          | 0/50 [00:00<?, ?it/s]"
      ]
     },
     "metadata": {},
     "output_type": "display_data"
    },
    {
     "data": {
      "application/vnd.jupyter.widget-view+json": {
       "model_id": "6e4bb6c32b6a434e92fa66604b88507d",
       "version_major": 2,
       "version_minor": 0
      },
      "text/plain": [
       "Downloading images for Arataki Itto:   0%|          | 0/50 [00:00<?, ?it/s]"
      ]
     },
     "metadata": {},
     "output_type": "display_data"
    },
    {
     "data": {
      "application/vnd.jupyter.widget-view+json": {
       "model_id": "1291928c138a47bf8ef5393e5b611f9b",
       "version_major": 2,
       "version_minor": 0
      },
      "text/plain": [
       "Downloading images for Barbara:   0%|          | 0/50 [00:00<?, ?it/s]"
      ]
     },
     "metadata": {},
     "output_type": "display_data"
    },
    {
     "data": {
      "application/vnd.jupyter.widget-view+json": {
       "model_id": "82a583a0d5204214a9e903b91be6145e",
       "version_major": 2,
       "version_minor": 0
      },
      "text/plain": [
       "Downloading images for Beidou:   0%|          | 0/50 [00:00<?, ?it/s]"
      ]
     },
     "metadata": {},
     "output_type": "display_data"
    },
    {
     "data": {
      "application/vnd.jupyter.widget-view+json": {
       "model_id": "eb6a4587e769433482f549c5d4d621cb",
       "version_major": 2,
       "version_minor": 0
      },
      "text/plain": [
       "Downloading images for Bennett:   0%|          | 0/50 [00:00<?, ?it/s]"
      ]
     },
     "metadata": {},
     "output_type": "display_data"
    },
    {
     "data": {
      "application/vnd.jupyter.widget-view+json": {
       "model_id": "2ae368cc60f7490a9768d87b28af8563",
       "version_major": 2,
       "version_minor": 0
      },
      "text/plain": [
       "Downloading images for Candace:   0%|          | 0/50 [00:00<?, ?it/s]"
      ]
     },
     "metadata": {},
     "output_type": "display_data"
    },
    {
     "data": {
      "application/vnd.jupyter.widget-view+json": {
       "model_id": "13b93bef6a404c8ead43a620e77d2485",
       "version_major": 2,
       "version_minor": 0
      },
      "text/plain": [
       "Downloading images for Chongyun:   0%|          | 0/50 [00:00<?, ?it/s]"
      ]
     },
     "metadata": {},
     "output_type": "display_data"
    },
    {
     "data": {
      "application/vnd.jupyter.widget-view+json": {
       "model_id": "e454ad525bbd41bf8a1f168cecc73860",
       "version_major": 2,
       "version_minor": 0
      },
      "text/plain": [
       "Downloading images for Collei:   0%|          | 0/50 [00:00<?, ?it/s]"
      ]
     },
     "metadata": {},
     "output_type": "display_data"
    },
    {
     "data": {
      "application/vnd.jupyter.widget-view+json": {
       "model_id": "c63f29ef4b434cca92ff081c9009012c",
       "version_major": 2,
       "version_minor": 0
      },
      "text/plain": [
       "Downloading images for Cyno:   0%|          | 0/50 [00:00<?, ?it/s]"
      ]
     },
     "metadata": {},
     "output_type": "display_data"
    },
    {
     "data": {
      "application/vnd.jupyter.widget-view+json": {
       "model_id": "5bf08cae13e64f32baa22d756c6e77b3",
       "version_major": 2,
       "version_minor": 0
      },
      "text/plain": [
       "Downloading images for Diluc:   0%|          | 0/50 [00:00<?, ?it/s]"
      ]
     },
     "metadata": {},
     "output_type": "display_data"
    },
    {
     "data": {
      "application/vnd.jupyter.widget-view+json": {
       "model_id": "a2560262a09c4a2d85b97df133e213fa",
       "version_major": 2,
       "version_minor": 0
      },
      "text/plain": [
       "Downloading images for Diona:   0%|          | 0/50 [00:00<?, ?it/s]"
      ]
     },
     "metadata": {},
     "output_type": "display_data"
    },
    {
     "data": {
      "application/vnd.jupyter.widget-view+json": {
       "model_id": "57c5a5aaa42640fd9daf6fda5a1f7ac9",
       "version_major": 2,
       "version_minor": 0
      },
      "text/plain": [
       "Downloading images for Dori:   0%|          | 0/50 [00:00<?, ?it/s]"
      ]
     },
     "metadata": {},
     "output_type": "display_data"
    },
    {
     "data": {
      "application/vnd.jupyter.widget-view+json": {
       "model_id": "2d51de6a670e4efb909f96ffbe086586",
       "version_major": 2,
       "version_minor": 0
      },
      "text/plain": [
       "Downloading images for Eula:   0%|          | 0/50 [00:00<?, ?it/s]"
      ]
     },
     "metadata": {},
     "output_type": "display_data"
    },
    {
     "data": {
      "application/vnd.jupyter.widget-view+json": {
       "model_id": "3e51f0b9f4f4477b9cc9d2559834d584",
       "version_major": 2,
       "version_minor": 0
      },
      "text/plain": [
       "Downloading images for Faruzan:   0%|          | 0/50 [00:00<?, ?it/s]"
      ]
     },
     "metadata": {},
     "output_type": "display_data"
    },
    {
     "data": {
      "application/vnd.jupyter.widget-view+json": {
       "model_id": "48951368f453423c8c7693e1625c0a8a",
       "version_major": 2,
       "version_minor": 0
      },
      "text/plain": [
       "Downloading images for Fischl:   0%|          | 0/50 [00:00<?, ?it/s]"
      ]
     },
     "metadata": {},
     "output_type": "display_data"
    },
    {
     "data": {
      "application/vnd.jupyter.widget-view+json": {
       "model_id": "8b4c0d631a144a44a0a7a35148e12b1d",
       "version_major": 2,
       "version_minor": 0
      },
      "text/plain": [
       "Downloading images for Ganyu:   0%|          | 0/50 [00:00<?, ?it/s]"
      ]
     },
     "metadata": {},
     "output_type": "display_data"
    },
    {
     "data": {
      "application/vnd.jupyter.widget-view+json": {
       "model_id": "efa1e527f14f401ba076b6e3e0178066",
       "version_major": 2,
       "version_minor": 0
      },
      "text/plain": [
       "Downloading images for Gorou:   0%|          | 0/50 [00:00<?, ?it/s]"
      ]
     },
     "metadata": {},
     "output_type": "display_data"
    },
    {
     "data": {
      "application/vnd.jupyter.widget-view+json": {
       "model_id": "6b186790517f487a8152570d62c7d469",
       "version_major": 2,
       "version_minor": 0
      },
      "text/plain": [
       "Downloading images for Hu Tao:   0%|          | 0/50 [00:00<?, ?it/s]"
      ]
     },
     "metadata": {},
     "output_type": "display_data"
    },
    {
     "data": {
      "application/vnd.jupyter.widget-view+json": {
       "model_id": "13c27c5aa97441e8a9b58ba4f64c696e",
       "version_major": 2,
       "version_minor": 0
      },
      "text/plain": [
       "Downloading images for Jean:   0%|          | 0/50 [00:00<?, ?it/s]"
      ]
     },
     "metadata": {},
     "output_type": "display_data"
    },
    {
     "data": {
      "application/vnd.jupyter.widget-view+json": {
       "model_id": "63061dc477424f7a83f190ff4a1565b7",
       "version_major": 2,
       "version_minor": 0
      },
      "text/plain": [
       "Downloading images for Kaedehara Kazuha:   0%|          | 0/50 [00:00<?, ?it/s]"
      ]
     },
     "metadata": {},
     "output_type": "display_data"
    },
    {
     "data": {
      "application/vnd.jupyter.widget-view+json": {
       "model_id": "7173fb3939334669b5f6be0331333e3f",
       "version_major": 2,
       "version_minor": 0
      },
      "text/plain": [
       "Downloading images for Kaeya:   0%|          | 0/50 [00:00<?, ?it/s]"
      ]
     },
     "metadata": {},
     "output_type": "display_data"
    },
    {
     "data": {
      "application/vnd.jupyter.widget-view+json": {
       "model_id": "12ee0003b505452bbaf6a05669cd1577",
       "version_major": 2,
       "version_minor": 0
      },
      "text/plain": [
       "Downloading images for Kamisato Ayaka:   0%|          | 0/50 [00:00<?, ?it/s]"
      ]
     },
     "metadata": {},
     "output_type": "display_data"
    },
    {
     "data": {
      "application/vnd.jupyter.widget-view+json": {
       "model_id": "35ec43a67acf4c079868b6efa90fc379",
       "version_major": 2,
       "version_minor": 0
      },
      "text/plain": [
       "Downloading images for Kamisato Ayato:   0%|          | 0/50 [00:00<?, ?it/s]"
      ]
     },
     "metadata": {},
     "output_type": "display_data"
    },
    {
     "data": {
      "application/vnd.jupyter.widget-view+json": {
       "model_id": "34bb89218c50478fa078174fdbd86872",
       "version_major": 2,
       "version_minor": 0
      },
      "text/plain": [
       "Downloading images for Keqing:   0%|          | 0/50 [00:00<?, ?it/s]"
      ]
     },
     "metadata": {},
     "output_type": "display_data"
    },
    {
     "data": {
      "application/vnd.jupyter.widget-view+json": {
       "model_id": "4bd02227927942559677ba88fd475be5",
       "version_major": 2,
       "version_minor": 0
      },
      "text/plain": [
       "Downloading images for Klee:   0%|          | 0/50 [00:00<?, ?it/s]"
      ]
     },
     "metadata": {},
     "output_type": "display_data"
    },
    {
     "data": {
      "application/vnd.jupyter.widget-view+json": {
       "model_id": "081908004a24439990deb0c2dafa7a27",
       "version_major": 2,
       "version_minor": 0
      },
      "text/plain": [
       "Downloading images for Kujou Sara:   0%|          | 0/50 [00:00<?, ?it/s]"
      ]
     },
     "metadata": {},
     "output_type": "display_data"
    },
    {
     "data": {
      "application/vnd.jupyter.widget-view+json": {
       "model_id": "c7d89e718839464baa95019a51767055",
       "version_major": 2,
       "version_minor": 0
      },
      "text/plain": [
       "Downloading images for Kuki Shinobu:   0%|          | 0/50 [00:00<?, ?it/s]"
      ]
     },
     "metadata": {},
     "output_type": "display_data"
    },
    {
     "data": {
      "application/vnd.jupyter.widget-view+json": {
       "model_id": "1bd9eb18435046d8b64c159d9c8d90e0",
       "version_major": 2,
       "version_minor": 0
      },
      "text/plain": [
       "Downloading images for Layla:   0%|          | 0/50 [00:00<?, ?it/s]"
      ]
     },
     "metadata": {},
     "output_type": "display_data"
    },
    {
     "data": {
      "application/vnd.jupyter.widget-view+json": {
       "model_id": "e5f7b898d3824f0dbe5da2476efa8b49",
       "version_major": 2,
       "version_minor": 0
      },
      "text/plain": [
       "Downloading images for Lisa:   0%|          | 0/50 [00:00<?, ?it/s]"
      ]
     },
     "metadata": {},
     "output_type": "display_data"
    },
    {
     "data": {
      "application/vnd.jupyter.widget-view+json": {
       "model_id": "4600d984050b4cd493dc6da37551b55e",
       "version_major": 2,
       "version_minor": 0
      },
      "text/plain": [
       "Downloading images for Mona:   0%|          | 0/50 [00:00<?, ?it/s]"
      ]
     },
     "metadata": {},
     "output_type": "display_data"
    },
    {
     "data": {
      "application/vnd.jupyter.widget-view+json": {
       "model_id": "3144427c38d343a89bf09c5276255a16",
       "version_major": 2,
       "version_minor": 0
      },
      "text/plain": [
       "Downloading images for Nahida:   0%|          | 0/50 [00:00<?, ?it/s]"
      ]
     },
     "metadata": {},
     "output_type": "display_data"
    },
    {
     "data": {
      "application/vnd.jupyter.widget-view+json": {
       "model_id": "280fda9ec56440f3ade28af597296313",
       "version_major": 2,
       "version_minor": 0
      },
      "text/plain": [
       "Downloading images for Nilou:   0%|          | 0/50 [00:00<?, ?it/s]"
      ]
     },
     "metadata": {},
     "output_type": "display_data"
    },
    {
     "data": {
      "application/vnd.jupyter.widget-view+json": {
       "model_id": "a0f42d1639f8423ea9e97d5bcc456d51",
       "version_major": 2,
       "version_minor": 0
      },
      "text/plain": [
       "Downloading images for Ningguang:   0%|          | 0/50 [00:00<?, ?it/s]"
      ]
     },
     "metadata": {},
     "output_type": "display_data"
    },
    {
     "data": {
      "application/vnd.jupyter.widget-view+json": {
       "model_id": "ebb47630e2564f51b6deec751bf0a02d",
       "version_major": 2,
       "version_minor": 0
      },
      "text/plain": [
       "Downloading images for Noelle:   0%|          | 0/50 [00:00<?, ?it/s]"
      ]
     },
     "metadata": {},
     "output_type": "display_data"
    },
    {
     "data": {
      "application/vnd.jupyter.widget-view+json": {
       "model_id": "ef0a86bdd1d64ee6bbe9fc334933c55e",
       "version_major": 2,
       "version_minor": 0
      },
      "text/plain": [
       "Downloading images for Qiqi:   0%|          | 0/50 [00:00<?, ?it/s]"
      ]
     },
     "metadata": {},
     "output_type": "display_data"
    },
    {
     "data": {
      "application/vnd.jupyter.widget-view+json": {
       "model_id": "a08aecf6c98e47e6bacdf24341418d5d",
       "version_major": 2,
       "version_minor": 0
      },
      "text/plain": [
       "Downloading images for Raiden Shogun:   0%|          | 0/50 [00:00<?, ?it/s]"
      ]
     },
     "metadata": {},
     "output_type": "display_data"
    },
    {
     "data": {
      "application/vnd.jupyter.widget-view+json": {
       "model_id": "7c757fbc713840ca98eb916bc9d5612a",
       "version_major": 2,
       "version_minor": 0
      },
      "text/plain": [
       "Downloading images for Razor:   0%|          | 0/50 [00:00<?, ?it/s]"
      ]
     },
     "metadata": {},
     "output_type": "display_data"
    },
    {
     "data": {
      "application/vnd.jupyter.widget-view+json": {
       "model_id": "d07b34f4ddba465b8989a90314332ebe",
       "version_major": 2,
       "version_minor": 0
      },
      "text/plain": [
       "Downloading images for Rosaria:   0%|          | 0/50 [00:00<?, ?it/s]"
      ]
     },
     "metadata": {},
     "output_type": "display_data"
    },
    {
     "data": {
      "application/vnd.jupyter.widget-view+json": {
       "model_id": "d7e1554b4e2141019fe5fd6fde9ee2af",
       "version_major": 2,
       "version_minor": 0
      },
      "text/plain": [
       "Downloading images for Sangonomiya Kokomi:   0%|          | 0/50 [00:00<?, ?it/s]"
      ]
     },
     "metadata": {},
     "output_type": "display_data"
    },
    {
     "data": {
      "application/vnd.jupyter.widget-view+json": {
       "model_id": "2048438d14d946568aaf1a78ed746c60",
       "version_major": 2,
       "version_minor": 0
      },
      "text/plain": [
       "Downloading images for Sayu:   0%|          | 0/50 [00:00<?, ?it/s]"
      ]
     },
     "metadata": {},
     "output_type": "display_data"
    },
    {
     "data": {
      "application/vnd.jupyter.widget-view+json": {
       "model_id": "85d387fb9ced4dacbadf1fc730b946a6",
       "version_major": 2,
       "version_minor": 0
      },
      "text/plain": [
       "Downloading images for Shenhe:   0%|          | 0/50 [00:00<?, ?it/s]"
      ]
     },
     "metadata": {},
     "output_type": "display_data"
    },
    {
     "data": {
      "application/vnd.jupyter.widget-view+json": {
       "model_id": "3ca4dd865b544cd7a08ae30140c1f494",
       "version_major": 2,
       "version_minor": 0
      },
      "text/plain": [
       "Downloading images for Shikanoin Heizou:   0%|          | 0/50 [00:00<?, ?it/s]"
      ]
     },
     "metadata": {},
     "output_type": "display_data"
    },
    {
     "data": {
      "application/vnd.jupyter.widget-view+json": {
       "model_id": "6fbe0c9f107845dc80a397df35cc5d36",
       "version_major": 2,
       "version_minor": 0
      },
      "text/plain": [
       "Downloading images for Sucrose:   0%|          | 0/50 [00:00<?, ?it/s]"
      ]
     },
     "metadata": {},
     "output_type": "display_data"
    },
    {
     "data": {
      "application/vnd.jupyter.widget-view+json": {
       "model_id": "494713babe274660a518aa91418b9085",
       "version_major": 2,
       "version_minor": 0
      },
      "text/plain": [
       "Downloading images for Tartaglia (Childe):   0%|          | 0/50 [00:00<?, ?it/s]"
      ]
     },
     "metadata": {},
     "output_type": "display_data"
    },
    {
     "data": {
      "application/vnd.jupyter.widget-view+json": {
       "model_id": "399eb7f7e0f54797a310ef92b29a0ef0",
       "version_major": 2,
       "version_minor": 0
      },
      "text/plain": [
       "Downloading images for Thoma:   0%|          | 0/50 [00:00<?, ?it/s]"
      ]
     },
     "metadata": {},
     "output_type": "display_data"
    },
    {
     "data": {
      "application/vnd.jupyter.widget-view+json": {
       "model_id": "e8748611b6b84d9882eda2b69a9dc6a4",
       "version_major": 2,
       "version_minor": 0
      },
      "text/plain": [
       "Downloading images for Tighnari:   0%|          | 0/50 [00:00<?, ?it/s]"
      ]
     },
     "metadata": {},
     "output_type": "display_data"
    },
    {
     "data": {
      "application/vnd.jupyter.widget-view+json": {
       "model_id": "37725d155ed7415eba2ba776cab49437",
       "version_major": 2,
       "version_minor": 0
      },
      "text/plain": [
       "Downloading images for Venti:   0%|          | 0/50 [00:00<?, ?it/s]"
      ]
     },
     "metadata": {},
     "output_type": "display_data"
    },
    {
     "data": {
      "application/vnd.jupyter.widget-view+json": {
       "model_id": "1c983f221c65486eade47c922de33709",
       "version_major": 2,
       "version_minor": 0
      },
      "text/plain": [
       "Downloading images for Wanderer:   0%|          | 0/50 [00:00<?, ?it/s]"
      ]
     },
     "metadata": {},
     "output_type": "display_data"
    },
    {
     "data": {
      "application/vnd.jupyter.widget-view+json": {
       "model_id": "6b6f9be9b02a4821acd0be77bc142921",
       "version_major": 2,
       "version_minor": 0
      },
      "text/plain": [
       "Downloading images for Xiangling:   0%|          | 0/50 [00:00<?, ?it/s]"
      ]
     },
     "metadata": {},
     "output_type": "display_data"
    },
    {
     "data": {
      "application/vnd.jupyter.widget-view+json": {
       "model_id": "ba0ec34718674766b34d9578177f505f",
       "version_major": 2,
       "version_minor": 0
      },
      "text/plain": [
       "Downloading images for Xiao:   0%|          | 0/50 [00:00<?, ?it/s]"
      ]
     },
     "metadata": {},
     "output_type": "display_data"
    },
    {
     "data": {
      "application/vnd.jupyter.widget-view+json": {
       "model_id": "3f845015c0dd49f49c0be43137bb268d",
       "version_major": 2,
       "version_minor": 0
      },
      "text/plain": [
       "Downloading images for Xingqiu:   0%|          | 0/50 [00:00<?, ?it/s]"
      ]
     },
     "metadata": {},
     "output_type": "display_data"
    },
    {
     "data": {
      "application/vnd.jupyter.widget-view+json": {
       "model_id": "25ef0fb466e4478a9abba8b457116c62",
       "version_major": 2,
       "version_minor": 0
      },
      "text/plain": [
       "Downloading images for Xinyan:   0%|          | 0/50 [00:00<?, ?it/s]"
      ]
     },
     "metadata": {},
     "output_type": "display_data"
    },
    {
     "data": {
      "application/vnd.jupyter.widget-view+json": {
       "model_id": "000afa8dc7354a6989bea2155bce99e6",
       "version_major": 2,
       "version_minor": 0
      },
      "text/plain": [
       "Downloading images for Yae Miko:   0%|          | 0/50 [00:00<?, ?it/s]"
      ]
     },
     "metadata": {},
     "output_type": "display_data"
    },
    {
     "data": {
      "application/vnd.jupyter.widget-view+json": {
       "model_id": "47277571c15f4e5681097413d3421986",
       "version_major": 2,
       "version_minor": 0
      },
      "text/plain": [
       "Downloading images for Yanfei:   0%|          | 0/50 [00:00<?, ?it/s]"
      ]
     },
     "metadata": {},
     "output_type": "display_data"
    },
    {
     "data": {
      "application/vnd.jupyter.widget-view+json": {
       "model_id": "86383c8caa514aafb3f336f67a53353d",
       "version_major": 2,
       "version_minor": 0
      },
      "text/plain": [
       "Downloading images for Yaoyao:   0%|          | 0/50 [00:00<?, ?it/s]"
      ]
     },
     "metadata": {},
     "output_type": "display_data"
    },
    {
     "data": {
      "application/vnd.jupyter.widget-view+json": {
       "model_id": "d3b5355a6f4f41728e71efcffa47e956",
       "version_major": 2,
       "version_minor": 0
      },
      "text/plain": [
       "Downloading images for Yelan:   0%|          | 0/50 [00:00<?, ?it/s]"
      ]
     },
     "metadata": {},
     "output_type": "display_data"
    },
    {
     "data": {
      "application/vnd.jupyter.widget-view+json": {
       "model_id": "4c2f389f97a04a1bb6466cf8ccc66d65",
       "version_major": 2,
       "version_minor": 0
      },
      "text/plain": [
       "Downloading images for Yoimiya:   0%|          | 0/50 [00:00<?, ?it/s]"
      ]
     },
     "metadata": {},
     "output_type": "display_data"
    },
    {
     "data": {
      "application/vnd.jupyter.widget-view+json": {
       "model_id": "db5204961ead4049901db12c052fef3b",
       "version_major": 2,
       "version_minor": 0
      },
      "text/plain": [
       "Downloading images for Yun Jin:   0%|          | 0/50 [00:00<?, ?it/s]"
      ]
     },
     "metadata": {},
     "output_type": "display_data"
    },
    {
     "data": {
      "application/vnd.jupyter.widget-view+json": {
       "model_id": "5c20e00c10a648c0b9430e2635a250e6",
       "version_major": 2,
       "version_minor": 0
      },
      "text/plain": [
       "Downloading images for Zhongli:   0%|          | 0/50 [00:00<?, ?it/s]"
      ]
     },
     "metadata": {},
     "output_type": "display_data"
    },
    {
     "data": {
      "application/vnd.jupyter.widget-view+json": {
       "model_id": "e4c77b6c32a34275af3d7d91134c52f4",
       "version_major": 2,
       "version_minor": 0
      },
      "text/plain": [
       "Downloading images for Master Chief:   0%|          | 0/50 [00:00<?, ?it/s]"
      ]
     },
     "metadata": {},
     "output_type": "display_data"
    },
    {
     "data": {
      "application/vnd.jupyter.widget-view+json": {
       "model_id": "b73314505f464a35819aef5108aa2b3b",
       "version_major": 2,
       "version_minor": 0
      },
      "text/plain": [
       "Downloading images for Cortana:   0%|          | 0/50 [00:00<?, ?it/s]"
      ]
     },
     "metadata": {},
     "output_type": "display_data"
    },
    {
     "data": {
      "application/vnd.jupyter.widget-view+json": {
       "model_id": "e1aa9535972e4b1d9496bb6d97e57ea8",
       "version_major": 2,
       "version_minor": 0
      },
      "text/plain": [
       "Downloading images for Avery Johnson:   0%|          | 0/50 [00:00<?, ?it/s]"
      ]
     },
     "metadata": {},
     "output_type": "display_data"
    },
    {
     "data": {
      "application/vnd.jupyter.widget-view+json": {
       "model_id": "f88b1a0328d24c47a02ccfb4af021aeb",
       "version_major": 2,
       "version_minor": 0
      },
      "text/plain": [
       "Downloading images for Jacob Keyes:   0%|          | 0/50 [00:00<?, ?it/s]"
      ]
     },
     "metadata": {},
     "output_type": "display_data"
    },
    {
     "data": {
      "application/vnd.jupyter.widget-view+json": {
       "model_id": "ddd4ec8150f64b869452ab69645ce9e1",
       "version_major": 2,
       "version_minor": 0
      },
      "text/plain": [
       "Downloading images for Miranda Keyes:   0%|          | 0/50 [00:00<?, ?it/s]"
      ]
     },
     "metadata": {},
     "output_type": "display_data"
    },
    {
     "data": {
      "application/vnd.jupyter.widget-view+json": {
       "model_id": "ef9e9beb8cf244e39ab6e58eb460eb3f",
       "version_major": 2,
       "version_minor": 0
      },
      "text/plain": [
       "Downloading images for Dr. Catherine Halsey:   0%|          | 0/50 [00:00<?, ?it/s]"
      ]
     },
     "metadata": {},
     "output_type": "display_data"
    },
    {
     "data": {
      "application/vnd.jupyter.widget-view+json": {
       "model_id": "f989a73fe5fc4be49b73d7a01bdc2a52",
       "version_major": 2,
       "version_minor": 0
      },
      "text/plain": [
       "Downloading images for James Ackerson:   0%|          | 0/50 [00:00<?, ?it/s]"
      ]
     },
     "metadata": {},
     "output_type": "display_data"
    },
    {
     "data": {
      "application/vnd.jupyter.widget-view+json": {
       "model_id": "86591a66f5014b479b1832afab417faf",
       "version_major": 2,
       "version_minor": 0
      },
      "text/plain": [
       "Downloading images for Franklin Mendez:   0%|          | 0/50 [00:00<?, ?it/s]"
      ]
     },
     "metadata": {},
     "output_type": "display_data"
    },
    {
     "data": {
      "application/vnd.jupyter.widget-view+json": {
       "model_id": "f942a4bc8ad647eb90aa0cd8860ad34e",
       "version_major": 2,
       "version_minor": 0
      },
      "text/plain": [
       "Downloading images for Terrence Hood:   0%|          | 0/50 [00:00<?, ?it/s]"
      ]
     },
     "metadata": {},
     "output_type": "display_data"
    },
    {
     "data": {
      "application/vnd.jupyter.widget-view+json": {
       "model_id": "870283b33719488dbeb76181ce4082c4",
       "version_major": 2,
       "version_minor": 0
      },
      "text/plain": [
       "Downloading images for Serin Osman:   0%|          | 0/50 [00:00<?, ?it/s]"
      ]
     },
     "metadata": {},
     "output_type": "display_data"
    },
    {
     "data": {
      "application/vnd.jupyter.widget-view+json": {
       "model_id": "e224f94d74c940339e3035ef1aee5029",
       "version_major": 2,
       "version_minor": 0
      },
      "text/plain": [
       "Downloading images for Thomas Lasky:   0%|          | 0/50 [00:00<?, ?it/s]"
      ]
     },
     "metadata": {},
     "output_type": "display_data"
    },
    {
     "data": {
      "application/vnd.jupyter.widget-view+json": {
       "model_id": "a2ea8aaec67b47fab21d545e847c6704",
       "version_major": 2,
       "version_minor": 0
      },
      "text/plain": [
       "Downloading images for Roland:   0%|          | 0/50 [00:00<?, ?it/s]"
      ]
     },
     "metadata": {},
     "output_type": "display_data"
    },
    {
     "data": {
      "application/vnd.jupyter.widget-view+json": {
       "model_id": "51d61e5cf8ba4cccb1563b71cbde3d2c",
       "version_major": 2,
       "version_minor": 0
      },
      "text/plain": [
       "Downloading images for The Weapon:   0%|          | 0/50 [00:00<?, ?it/s]"
      ]
     },
     "metadata": {},
     "output_type": "display_data"
    },
    {
     "data": {
      "application/vnd.jupyter.widget-view+json": {
       "model_id": "09fe9c2fe3e34453997d879effb9ca8a",
       "version_major": 2,
       "version_minor": 0
      },
      "text/plain": [
       "Downloading images for Echo-216:   0%|          | 0/50 [00:00<?, ?it/s]"
      ]
     },
     "metadata": {},
     "output_type": "display_data"
    },
    {
     "data": {
      "application/vnd.jupyter.widget-view+json": {
       "model_id": "efc17fdcd7ef4905ba8a808b282c1635",
       "version_major": 2,
       "version_minor": 0
      },
      "text/plain": [
       "Downloading images for Fred-104:   0%|          | 0/50 [00:00<?, ?it/s]"
      ]
     },
     "metadata": {},
     "output_type": "display_data"
    },
    {
     "data": {
      "application/vnd.jupyter.widget-view+json": {
       "model_id": "b82148d0eb56464497a4b71da7bc08c5",
       "version_major": 2,
       "version_minor": 0
      },
      "text/plain": [
       "Downloading images for Linda-058:   0%|          | 0/50 [00:00<?, ?it/s]"
      ]
     },
     "metadata": {},
     "output_type": "display_data"
    },
    {
     "data": {
      "application/vnd.jupyter.widget-view+json": {
       "model_id": "45f48409a7ce4facb2103af4c4bfa4b6",
       "version_major": 2,
       "version_minor": 0
      },
      "text/plain": [
       "Downloading images for Kelly-087:   0%|          | 0/50 [00:00<?, ?it/s]"
      ]
     },
     "metadata": {},
     "output_type": "display_data"
    },
    {
     "data": {
      "application/vnd.jupyter.widget-view+json": {
       "model_id": "a535a9b57d9f4f7ab3b7f93a61640ab4",
       "version_major": 2,
       "version_minor": 0
      },
      "text/plain": [
       "Downloading images for Sarah Palmer:   0%|          | 0/50 [00:00<?, ?it/s]"
      ]
     },
     "metadata": {},
     "output_type": "display_data"
    },
    {
     "data": {
      "application/vnd.jupyter.widget-view+json": {
       "model_id": "9f5f469aaac3409fb07d2b36f448a5b9",
       "version_major": 2,
       "version_minor": 0
      },
      "text/plain": [
       "Downloading images for Edward Buck:   0%|          | 0/50 [00:00<?, ?it/s]"
      ]
     },
     "metadata": {},
     "output_type": "display_data"
    },
    {
     "data": {
      "application/vnd.jupyter.widget-view+json": {
       "model_id": "9849dca1950144e8a92bae9fe341194b",
       "version_major": 2,
       "version_minor": 0
      },
      "text/plain": [
       "Downloading images for Noble Six:   0%|          | 0/50 [00:00<?, ?it/s]"
      ]
     },
     "metadata": {},
     "output_type": "display_data"
    },
    {
     "data": {
      "application/vnd.jupyter.widget-view+json": {
       "model_id": "2f789c1fb1e640528b6bbc9abf78b38a",
       "version_major": 2,
       "version_minor": 0
      },
      "text/plain": [
       "Downloading images for Jameson Locke:   0%|          | 0/50 [00:00<?, ?it/s]"
      ]
     },
     "metadata": {},
     "output_type": "display_data"
    },
    {
     "data": {
      "application/vnd.jupyter.widget-view+json": {
       "model_id": "6458dde588a74177b4b0668e5b5785c4",
       "version_major": 2,
       "version_minor": 0
      },
      "text/plain": [
       "Downloading images for Mickey Crespo:   0%|          | 0/50 [00:00<?, ?it/s]"
      ]
     },
     "metadata": {},
     "output_type": "display_data"
    },
    {
     "data": {
      "application/vnd.jupyter.widget-view+json": {
       "model_id": "c11d4e1b980842649f6f3eeee9f10a33",
       "version_major": 2,
       "version_minor": 0
      },
      "text/plain": [
       "Downloading images for Romeo Agusto:   0%|          | 0/50 [00:00<?, ?it/s]"
      ]
     },
     "metadata": {},
     "output_type": "display_data"
    },
    {
     "data": {
      "application/vnd.jupyter.widget-view+json": {
       "model_id": "6c00491ba7d4426ab17a09b4d1d39d74",
       "version_major": 2,
       "version_minor": 0
      },
      "text/plain": [
       "Downloading images for Dutch Miles:   0%|          | 0/50 [00:00<?, ?it/s]"
      ]
     },
     "metadata": {},
     "output_type": "display_data"
    },
    {
     "data": {
      "application/vnd.jupyter.widget-view+json": {
       "model_id": "4781c07b31ca4af3b99cd1a919952df2",
       "version_major": 2,
       "version_minor": 0
      },
      "text/plain": [
       "Downloading images for The Arbiter:   0%|          | 0/50 [00:00<?, ?it/s]"
      ]
     },
     "metadata": {},
     "output_type": "display_data"
    },
    {
     "data": {
      "application/vnd.jupyter.widget-view+json": {
       "model_id": "46714ccd04e84f5f932b50747548596f",
       "version_major": 2,
       "version_minor": 0
      },
      "text/plain": [
       "Downloading images for Tartarus:   0%|          | 0/50 [00:00<?, ?it/s]"
      ]
     },
     "metadata": {},
     "output_type": "display_data"
    },
    {
     "data": {
      "application/vnd.jupyter.widget-view+json": {
       "model_id": "5b3d7352d44643fda57eb4866037519a",
       "version_major": 2,
       "version_minor": 0
      },
      "text/plain": [
       "Downloading images for Gravemind:   0%|          | 0/50 [00:00<?, ?it/s]"
      ]
     },
     "metadata": {},
     "output_type": "display_data"
    },
    {
     "data": {
      "application/vnd.jupyter.widget-view+json": {
       "model_id": "5bdf5392f700496ebaa894662b05a12b",
       "version_major": 2,
       "version_minor": 0
      },
      "text/plain": [
       "Downloading images for 343 Guilty Spark:   0%|          | 0/50 [00:00<?, ?it/s]"
      ]
     },
     "metadata": {},
     "output_type": "display_data"
    },
    {
     "data": {
      "application/vnd.jupyter.widget-view+json": {
       "model_id": "18df8b9dbb864e24b89ee4e5b4274b50",
       "version_major": 2,
       "version_minor": 0
      },
      "text/plain": [
       "Downloading images for Rtas 'Vadum:   0%|          | 0/50 [00:00<?, ?it/s]"
      ]
     },
     "metadata": {},
     "output_type": "display_data"
    },
    {
     "data": {
      "application/vnd.jupyter.widget-view+json": {
       "model_id": "83adff9a961f4615b3a61c96ea76d877",
       "version_major": 2,
       "version_minor": 0
      },
      "text/plain": [
       "Downloading images for Thel 'Vadam:   0%|          | 0/50 [00:00<?, ?it/s]"
      ]
     },
     "metadata": {},
     "output_type": "display_data"
    },
    {
     "data": {
      "application/vnd.jupyter.widget-view+json": {
       "model_id": "357f88b54058465bb62f8404f4480992",
       "version_major": 2,
       "version_minor": 0
      },
      "text/plain": [
       "Downloading images for Vor' Donnie 'Atin:   0%|          | 0/50 [00:00<?, ?it/s]"
      ]
     },
     "metadata": {},
     "output_type": "display_data"
    },
    {
     "data": {
      "application/vnd.jupyter.widget-view+json": {
       "model_id": "5d121d768de74e74a6b1b2569f3bd9df",
       "version_major": 2,
       "version_minor": 0
      },
      "text/plain": [
       "Downloading images for Anarki:   0%|          | 0/50 [00:00<?, ?it/s]"
      ]
     },
     "metadata": {},
     "output_type": "display_data"
    },
    {
     "data": {
      "application/vnd.jupyter.widget-view+json": {
       "model_id": "97b53adab56a4e359dfcffdf2c55d1fd",
       "version_major": 2,
       "version_minor": 0
      },
      "text/plain": [
       "Downloading images for Doomguy:   0%|          | 0/50 [00:00<?, ?it/s]"
      ]
     },
     "metadata": {},
     "output_type": "display_data"
    },
    {
     "data": {
      "application/vnd.jupyter.widget-view+json": {
       "model_id": "c672db2e0e9a45049497d7b8d159516a",
       "version_major": 2,
       "version_minor": 0
      },
      "text/plain": [
       "Downloading images for B.j. blazkowicz:   0%|          | 0/50 [00:00<?, ?it/s]"
      ]
     },
     "metadata": {},
     "output_type": "display_data"
    },
    {
     "data": {
      "application/vnd.jupyter.widget-view+json": {
       "model_id": "12aefddc6fa24b1790640cae4fbbee97",
       "version_major": 2,
       "version_minor": 0
      },
      "text/plain": [
       "Downloading images for Sorlag:   0%|          | 0/50 [00:00<?, ?it/s]"
      ]
     },
     "metadata": {},
     "output_type": "display_data"
    },
    {
     "data": {
      "application/vnd.jupyter.widget-view+json": {
       "model_id": "c2744ff05f1b4870ac9b7eacf3c4f30a",
       "version_major": 2,
       "version_minor": 0
      },
      "text/plain": [
       "Downloading images for Galena:   0%|          | 0/50 [00:00<?, ?it/s]"
      ]
     },
     "metadata": {},
     "output_type": "display_data"
    },
    {
     "data": {
      "application/vnd.jupyter.widget-view+json": {
       "model_id": "3ec62e3cf8574d948610902b785d85d3",
       "version_major": 2,
       "version_minor": 0
      },
      "text/plain": [
       "Downloading images for Scalebearer:   0%|          | 0/50 [00:00<?, ?it/s]"
      ]
     },
     "metadata": {},
     "output_type": "display_data"
    },
    {
     "data": {
      "application/vnd.jupyter.widget-view+json": {
       "model_id": "cf23689f23e7427088932a80f1ba974a",
       "version_major": 2,
       "version_minor": 0
      },
      "text/plain": [
       "Downloading images for Athena:   0%|          | 0/50 [00:00<?, ?it/s]"
      ]
     },
     "metadata": {},
     "output_type": "display_data"
    },
    {
     "data": {
      "application/vnd.jupyter.widget-view+json": {
       "model_id": "b3bf7e88ed2748749a0dc28a2a5d0432",
       "version_major": 2,
       "version_minor": 0
      },
      "text/plain": [
       "Downloading images for Bitterman:   0%|          | 0/50 [00:00<?, ?it/s]"
      ]
     },
     "metadata": {},
     "output_type": "display_data"
    },
    {
     "data": {
      "application/vnd.jupyter.widget-view+json": {
       "model_id": "dc707c92447746adac184d63996b9315",
       "version_major": 2,
       "version_minor": 0
      },
      "text/plain": [
       "Downloading images for Sarge:   0%|          | 0/50 [00:00<?, ?it/s]"
      ]
     },
     "metadata": {},
     "output_type": "display_data"
    },
    {
     "data": {
      "application/vnd.jupyter.widget-view+json": {
       "model_id": "87c6e473badc4996a587151cc9f72820",
       "version_major": 2,
       "version_minor": 0
      },
      "text/plain": [
       "Downloading images for H u n t e r:   0%|          | 0/50 [00:00<?, ?it/s]"
      ]
     },
     "metadata": {},
     "output_type": "display_data"
    },
    {
     "data": {
      "application/vnd.jupyter.widget-view+json": {
       "model_id": "85aa304e98144d7291ffb7cf941aaadb",
       "version_major": 2,
       "version_minor": 0
      },
      "text/plain": [
       "Downloading images for Strogg & peeker:   0%|          | 0/50 [00:00<?, ?it/s]"
      ]
     },
     "metadata": {},
     "output_type": "display_data"
    },
    {
     "data": {
      "application/vnd.jupyter.widget-view+json": {
       "model_id": "300c3da28f8e45b287ca6cb4c4a52db6",
       "version_major": 2,
       "version_minor": 0
      },
      "text/plain": [
       "Downloading images for Quake Guy:   0%|          | 0/50 [00:00<?, ?it/s]"
      ]
     },
     "metadata": {},
     "output_type": "display_data"
    },
    {
     "data": {
      "application/vnd.jupyter.widget-view+json": {
       "model_id": "f725277a576840128d22a3a6547f2ff4",
       "version_major": 2,
       "version_minor": 0
      },
      "text/plain": [
       "Downloading images for Mynx:   0%|          | 0/50 [00:00<?, ?it/s]"
      ]
     },
     "metadata": {},
     "output_type": "display_data"
    },
    {
     "data": {
      "application/vnd.jupyter.widget-view+json": {
       "model_id": "04647c6f43644cc6b09400ac52cbbb49",
       "version_major": 2,
       "version_minor": 0
      },
      "text/plain": [
       "Downloading images for Dire Orb:   0%|          | 0/50 [00:00<?, ?it/s]"
      ]
     },
     "metadata": {},
     "output_type": "display_data"
    },
    {
     "data": {
      "application/vnd.jupyter.widget-view+json": {
       "model_id": "25554efbd7eb469aad17728d400f963f",
       "version_major": 2,
       "version_minor": 0
      },
      "text/plain": [
       "Downloading images for Chthon:   0%|          | 0/50 [00:00<?, ?it/s]"
      ]
     },
     "metadata": {},
     "output_type": "display_data"
    },
    {
     "data": {
      "application/vnd.jupyter.widget-view+json": {
       "model_id": "67a13ea80d0846d8b0d5ca9147637532",
       "version_major": 2,
       "version_minor": 0
      },
      "text/plain": [
       "Downloading images for Strogg:   0%|          | 0/50 [00:00<?, ?it/s]"
      ]
     },
     "metadata": {},
     "output_type": "display_data"
    },
    {
     "data": {
      "application/vnd.jupyter.widget-view+json": {
       "model_id": "3f88b263a50f41cb96b27b81e8db791f",
       "version_major": 2,
       "version_minor": 0
      },
      "text/plain": [
       "Downloading images for Xaero:   0%|          | 0/50 [00:00<?, ?it/s]"
      ]
     },
     "metadata": {},
     "output_type": "display_data"
    },
    {
     "data": {
      "application/vnd.jupyter.widget-view+json": {
       "model_id": "f98c6397e8544207aeec88cae9023698",
       "version_major": 2,
       "version_minor": 0
      },
      "text/plain": [
       "Downloading images for Tank jr:   0%|          | 0/50 [00:00<?, ?it/s]"
      ]
     },
     "metadata": {},
     "output_type": "display_data"
    },
    {
     "data": {
      "application/vnd.jupyter.widget-view+json": {
       "model_id": "e9683bb082194fbaafd4f057fe09ac96",
       "version_major": 2,
       "version_minor": 0
      },
      "text/plain": [
       "Downloading images for Phobos:   0%|          | 0/50 [00:00<?, ?it/s]"
      ]
     },
     "metadata": {},
     "output_type": "display_data"
    },
    {
     "data": {
      "application/vnd.jupyter.widget-view+json": {
       "model_id": "8a97882e699748e88840f598652a30ca",
       "version_major": 2,
       "version_minor": 0
      },
      "text/plain": [
       "Downloading images for Duke Nukem:   0%|          | 0/50 [00:00<?, ?it/s]"
      ]
     },
     "metadata": {},
     "output_type": "display_data"
    },
    {
     "data": {
      "application/vnd.jupyter.widget-view+json": {
       "model_id": "bc92d9cfaa32415baf50c7c495f1a3a2",
       "version_major": 2,
       "version_minor": 0
      },
      "text/plain": [
       "Downloading images for Makron:   0%|          | 0/50 [00:00<?, ?it/s]"
      ]
     },
     "metadata": {},
     "output_type": "display_data"
    },
    {
     "data": {
      "application/vnd.jupyter.widget-view+json": {
       "model_id": "106b8e6e4c3f4e40ac77fc5fddf13137",
       "version_major": 2,
       "version_minor": 0
      },
      "text/plain": [
       "Downloading images for Kane:   0%|          | 0/50 [00:00<?, ?it/s]"
      ]
     },
     "metadata": {},
     "output_type": "display_data"
    },
    {
     "data": {
      "application/vnd.jupyter.widget-view+json": {
       "model_id": "a696aaa721e64e83b941a57123c96a37",
       "version_major": 2,
       "version_minor": 0
      },
      "text/plain": [
       "Downloading images for Caleb:   0%|          | 0/50 [00:00<?, ?it/s]"
      ]
     },
     "metadata": {},
     "output_type": "display_data"
    },
    {
     "data": {
      "application/vnd.jupyter.widget-view+json": {
       "model_id": "c79584bc478c42599acb170f053747d9",
       "version_major": 2,
       "version_minor": 0
      },
      "text/plain": [
       "Downloading images for Eleena:   0%|          | 0/50 [00:00<?, ?it/s]"
      ]
     },
     "metadata": {},
     "output_type": "display_data"
    },
    {
     "data": {
      "application/vnd.jupyter.widget-view+json": {
       "model_id": "e5a963fcff1f4380a59938fc41524e71",
       "version_major": 2,
       "version_minor": 0
      },
      "text/plain": [
       "Downloading images for Dusa:   0%|          | 0/50 [00:00<?, ?it/s]"
      ]
     },
     "metadata": {},
     "output_type": "display_data"
    },
    {
     "data": {
      "application/vnd.jupyter.widget-view+json": {
       "model_id": "ec27f894326d42f391147bdaf8a1db77",
       "version_major": 2,
       "version_minor": 0
      },
      "text/plain": [
       "Downloading images for Asterius:   0%|          | 0/50 [00:00<?, ?it/s]"
      ]
     },
     "metadata": {},
     "output_type": "display_data"
    },
    {
     "data": {
      "application/vnd.jupyter.widget-view+json": {
       "model_id": "663fcdf5a8684b38b2473361c659c305",
       "version_major": 2,
       "version_minor": 0
      },
      "text/plain": [
       "Downloading images for Megaera:   0%|          | 0/50 [00:00<?, ?it/s]"
      ]
     },
     "metadata": {},
     "output_type": "display_data"
    },
    {
     "data": {
      "application/vnd.jupyter.widget-view+json": {
       "model_id": "186afeee71a14395bd6b4712ee8a9255",
       "version_major": 2,
       "version_minor": 0
      },
      "text/plain": [
       "Downloading images for Thanatos:   0%|          | 0/50 [00:00<?, ?it/s]"
      ]
     },
     "metadata": {},
     "output_type": "display_data"
    },
    {
     "data": {
      "application/vnd.jupyter.widget-view+json": {
       "model_id": "b117b7fab2e949df90e336707b3f4f80",
       "version_major": 2,
       "version_minor": 0
      },
      "text/plain": [
       "Downloading images for Artemis:   0%|          | 0/50 [00:00<?, ?it/s]"
      ]
     },
     "metadata": {},
     "output_type": "display_data"
    },
    {
     "data": {
      "application/vnd.jupyter.widget-view+json": {
       "model_id": "7120b505426547e7b085c0810060a9ff",
       "version_major": 2,
       "version_minor": 0
      },
      "text/plain": [
       "Downloading images for Alecto:   0%|          | 0/50 [00:00<?, ?it/s]"
      ]
     },
     "metadata": {},
     "output_type": "display_data"
    },
    {
     "data": {
      "application/vnd.jupyter.widget-view+json": {
       "model_id": "7506fc94c1de432897ca9046beba0419",
       "version_major": 2,
       "version_minor": 0
      },
      "text/plain": [
       "Downloading images for Dionysus:   0%|          | 0/50 [00:00<?, ?it/s]"
      ]
     },
     "metadata": {},
     "output_type": "display_data"
    },
    {
     "data": {
      "application/vnd.jupyter.widget-view+json": {
       "model_id": "a3c5787d964e4411a08487432810201a",
       "version_major": 2,
       "version_minor": 0
      },
      "text/plain": [
       "Downloading images for Hypnos:   0%|          | 0/50 [00:00<?, ?it/s]"
      ]
     },
     "metadata": {},
     "output_type": "display_data"
    },
    {
     "data": {
      "application/vnd.jupyter.widget-view+json": {
       "model_id": "612ae96ad381463f897f3c1e6cb208ca",
       "version_major": 2,
       "version_minor": 0
      },
      "text/plain": [
       "Downloading images for Zagreus:   0%|          | 0/50 [00:00<?, ?it/s]"
      ]
     },
     "metadata": {},
     "output_type": "display_data"
    },
    {
     "data": {
      "application/vnd.jupyter.widget-view+json": {
       "model_id": "642d615601c2447fb7a73b4211104679",
       "version_major": 2,
       "version_minor": 0
      },
      "text/plain": [
       "Downloading images for Aphrodite:   0%|          | 0/50 [00:00<?, ?it/s]"
      ]
     },
     "metadata": {},
     "output_type": "display_data"
    },
    {
     "data": {
      "application/vnd.jupyter.widget-view+json": {
       "model_id": "7d962cf8ad97415e89ba571a5832616b",
       "version_major": 2,
       "version_minor": 0
      },
      "text/plain": [
       "Downloading images for Pain and Panic:   0%|          | 0/50 [00:00<?, ?it/s]"
      ]
     },
     "metadata": {},
     "output_type": "display_data"
    },
    {
     "data": {
      "application/vnd.jupyter.widget-view+json": {
       "model_id": "45c1c3e009494d3692cf09c7b905630f",
       "version_major": 2,
       "version_minor": 0
      },
      "text/plain": [
       "Downloading images for Hercules:   0%|          | 0/50 [00:00<?, ?it/s]"
      ]
     },
     "metadata": {},
     "output_type": "display_data"
    },
    {
     "data": {
      "application/vnd.jupyter.widget-view+json": {
       "model_id": "9f86ed0520864268b5483fee926577ed",
       "version_major": 2,
       "version_minor": 0
      },
      "text/plain": [
       "Downloading images for Megara:   0%|          | 0/50 [00:00<?, ?it/s]"
      ]
     },
     "metadata": {},
     "output_type": "display_data"
    },
    {
     "data": {
      "application/vnd.jupyter.widget-view+json": {
       "model_id": "5319f94097284a88bfd1b7a6fe3a5168",
       "version_major": 2,
       "version_minor": 0
      },
      "text/plain": [
       "Downloading images for Fates:   0%|          | 0/50 [00:00<?, ?it/s]"
      ]
     },
     "metadata": {},
     "output_type": "display_data"
    },
    {
     "data": {
      "application/vnd.jupyter.widget-view+json": {
       "model_id": "71e116ddf1734919b1d383ec2fdfbdcc",
       "version_major": 2,
       "version_minor": 0
      },
      "text/plain": [
       "Downloading images for Melinoë:   0%|          | 0/50 [00:00<?, ?it/s]"
      ]
     },
     "metadata": {},
     "output_type": "display_data"
    },
    {
     "data": {
      "application/vnd.jupyter.widget-view+json": {
       "model_id": "e40f30b0123b4da9994cad10164f7e77",
       "version_major": 2,
       "version_minor": 0
      },
      "text/plain": [
       "Downloading images for Price:   0%|          | 0/50 [00:00<?, ?it/s]"
      ]
     },
     "metadata": {},
     "output_type": "display_data"
    },
    {
     "data": {
      "application/vnd.jupyter.widget-view+json": {
       "model_id": "10f3de32c7054830aaaf39c097b4c9d8",
       "version_major": 2,
       "version_minor": 0
      },
      "text/plain": [
       "Downloading images for John McClane:   0%|          | 0/50 [00:00<?, ?it/s]"
      ]
     },
     "metadata": {},
     "output_type": "display_data"
    },
    {
     "data": {
      "application/vnd.jupyter.widget-view+json": {
       "model_id": "7126fc6283fc4f80804bb093399011bb",
       "version_major": 2,
       "version_minor": 0
      },
      "text/plain": [
       "Downloading images for Khaled Al-Asad:   0%|          | 0/50 [00:00<?, ?it/s]"
      ]
     },
     "metadata": {},
     "output_type": "display_data"
    },
    {
     "data": {
      "application/vnd.jupyter.widget-view+json": {
       "model_id": "08b5d4c908c9411793542791dea66415",
       "version_major": 2,
       "version_minor": 0
      },
      "text/plain": [
       "Downloading images for Russell Adler:   0%|          | 0/50 [00:00<?, ?it/s]"
      ]
     },
     "metadata": {},
     "output_type": "display_data"
    },
    {
     "data": {
      "application/vnd.jupyter.widget-view+json": {
       "model_id": "40aa8d327bd74cd897a5c6ca1192b865",
       "version_major": 2,
       "version_minor": 0
      },
      "text/plain": [
       "Downloading images for Arthur Kingsley:   0%|          | 0/50 [00:00<?, ?it/s]"
      ]
     },
     "metadata": {},
     "output_type": "display_data"
    },
    {
     "data": {
      "application/vnd.jupyter.widget-view+json": {
       "model_id": "ba86db5136ce434695342734d3057dbd",
       "version_major": 2,
       "version_minor": 0
      },
      "text/plain": [
       "Downloading images for Simon \"Ghost\" Riley:   0%|          | 0/50 [00:00<?, ?it/s]"
      ]
     },
     "metadata": {},
     "output_type": "display_data"
    },
    {
     "data": {
      "application/vnd.jupyter.widget-view+json": {
       "model_id": "59f96622508348bfa00d1d6b25b052b1",
       "version_major": 2,
       "version_minor": 0
      },
      "text/plain": [
       "Downloading images for Ghostface:   0%|          | 0/50 [00:00<?, ?it/s]"
      ]
     },
     "metadata": {},
     "output_type": "display_data"
    },
    {
     "data": {
      "application/vnd.jupyter.widget-view+json": {
       "model_id": "bb24e4a7ded04077ac14b6c43f7b2900",
       "version_major": 2,
       "version_minor": 0
      },
      "text/plain": [
       "Downloading images for David Mason:   0%|          | 0/50 [00:00<?, ?it/s]"
      ]
     },
     "metadata": {},
     "output_type": "display_data"
    },
    {
     "data": {
      "application/vnd.jupyter.widget-view+json": {
       "model_id": "3dcc2c78de6f4312bd25cab294cdcf88",
       "version_major": 2,
       "version_minor": 0
      },
      "text/plain": [
       "Downloading images for Frank Woods:   0%|          | 0/50 [00:00<?, ?it/s]"
      ]
     },
     "metadata": {},
     "output_type": "display_data"
    },
    {
     "data": {
      "application/vnd.jupyter.widget-view+json": {
       "model_id": "50f7f00a9a3a4b03b251338e9ac154c4",
       "version_major": 2,
       "version_minor": 0
      },
      "text/plain": [
       "Downloading images for John Rambo:   0%|          | 0/50 [00:00<?, ?it/s]"
      ]
     },
     "metadata": {},
     "output_type": "display_data"
    },
    {
     "data": {
      "application/vnd.jupyter.widget-view+json": {
       "model_id": "3708a2b1c10848c891b4ef5dc54d53e0",
       "version_major": 2,
       "version_minor": 0
      },
      "text/plain": [
       "Downloading images for Dimitri Petrenko:   0%|          | 0/50 [00:00<?, ?it/s]"
      ]
     },
     "metadata": {},
     "output_type": "display_data"
    },
    {
     "data": {
      "application/vnd.jupyter.widget-view+json": {
       "model_id": "0f0d130a16ec43fc88a8cc18850d5a47",
       "version_major": 2,
       "version_minor": 0
      },
      "text/plain": [
       "Downloading images for Norman Delaney:   0%|          | 0/50 [00:00<?, ?it/s]"
      ]
     },
     "metadata": {},
     "output_type": "display_data"
    },
    {
     "data": {
      "application/vnd.jupyter.widget-view+json": {
       "model_id": "0675ff1bfa824367a780aaac95e359e8",
       "version_major": 2,
       "version_minor": 0
      },
      "text/plain": [
       "Downloading images for Sarah Leary:   0%|          | 0/50 [00:00<?, ?it/s]"
      ]
     },
     "metadata": {},
     "output_type": "display_data"
    },
    {
     "data": {
      "application/vnd.jupyter.widget-view+json": {
       "model_id": "afa19602a70745b4bf608ca16cf09829",
       "version_major": 2,
       "version_minor": 0
      },
      "text/plain": [
       "Downloading images for Grigori Weaver:   0%|          | 0/50 [00:00<?, ?it/s]"
      ]
     },
     "metadata": {},
     "output_type": "display_data"
    },
    {
     "data": {
      "application/vnd.jupyter.widget-view+json": {
       "model_id": "29290c912d6b49afbeb374aa29d03643",
       "version_major": 2,
       "version_minor": 0
      },
      "text/plain": [
       "Downloading images for Blake:   0%|          | 0/50 [00:00<?, ?it/s]"
      ]
     },
     "metadata": {},
     "output_type": "display_data"
    },
    {
     "data": {
      "application/vnd.jupyter.widget-view+json": {
       "model_id": "e6326a97b69943b980aab8c828ffc4df",
       "version_major": 2,
       "version_minor": 0
      },
      "text/plain": [
       "Downloading images for Booth:   0%|          | 0/50 [00:00<?, ?it/s]"
      ]
     },
     "metadata": {},
     "output_type": "display_data"
    },
    {
     "data": {
      "application/vnd.jupyter.widget-view+json": {
       "model_id": "7e67047fcc934439878c5d924fc29052",
       "version_major": 2,
       "version_minor": 0
      },
      "text/plain": [
       "Downloading images for Vladimir Makarov:   0%|          | 0/50 [00:00<?, ?it/s]"
      ]
     },
     "metadata": {},
     "output_type": "display_data"
    },
    {
     "data": {
      "application/vnd.jupyter.widget-view+json": {
       "model_id": "96f8da2242e74a459c380cc4a8121319",
       "version_major": 2,
       "version_minor": 0
      },
      "text/plain": [
       "Downloading images for Wade Jackson:   0%|          | 0/50 [00:00<?, ?it/s]"
      ]
     },
     "metadata": {},
     "output_type": "display_data"
    },
    {
     "data": {
      "application/vnd.jupyter.widget-view+json": {
       "model_id": "a08889a075554ddd98abfe78b3b59f3d",
       "version_major": 2,
       "version_minor": 0
      },
      "text/plain": [
       "Downloading images for Alex Mason:   0%|          | 0/50 [00:00<?, ?it/s]"
      ]
     },
     "metadata": {},
     "output_type": "display_data"
    },
    {
     "data": {
      "application/vnd.jupyter.widget-view+json": {
       "model_id": "9a3e3f3f9b814caa8c2fda8237f55fca",
       "version_major": 2,
       "version_minor": 0
      },
      "text/plain": [
       "Downloading images for Nikolai Belinski:   0%|          | 0/50 [00:00<?, ?it/s]"
      ]
     },
     "metadata": {},
     "output_type": "display_data"
    },
    {
     "data": {
      "application/vnd.jupyter.widget-view+json": {
       "model_id": "a095702138c0417aaecfcbc6db1e6254",
       "version_major": 2,
       "version_minor": 0
      },
      "text/plain": [
       "Downloading images for Neitsch:   0%|          | 0/50 [00:00<?, ?it/s]"
      ]
     },
     "metadata": {},
     "output_type": "display_data"
    },
    {
     "data": {
      "application/vnd.jupyter.widget-view+json": {
       "model_id": "74e7ee0ca64943f4b6a7b658ef31c932",
       "version_major": 2,
       "version_minor": 0
      },
      "text/plain": [
       "Downloading images for Bohater Wojciech:   0%|          | 0/50 [00:00<?, ?it/s]"
      ]
     },
     "metadata": {},
     "output_type": "display_data"
    },
    {
     "data": {
      "application/vnd.jupyter.widget-view+json": {
       "model_id": "25e5561ac0574e1c96e5bb0657876876",
       "version_major": 2,
       "version_minor": 0
      },
      "text/plain": [
       "Downloading images for Helen Park:   0%|          | 0/50 [00:00<?, ?it/s]"
      ]
     },
     "metadata": {},
     "output_type": "display_data"
    },
    {
     "data": {
      "application/vnd.jupyter.widget-view+json": {
       "model_id": "0770eb485126438f9410a0216f105562",
       "version_major": 2,
       "version_minor": 0
      },
      "text/plain": [
       "Downloading images for Black Noir:   0%|          | 0/50 [00:00<?, ?it/s]"
      ]
     },
     "metadata": {},
     "output_type": "display_data"
    },
    {
     "data": {
      "application/vnd.jupyter.widget-view+json": {
       "model_id": "49cf8de6dbd44c7c9108801ed1b20406",
       "version_major": 2,
       "version_minor": 0
      },
      "text/plain": [
       "Downloading images for Paul Jackson:   0%|          | 0/50 [00:00<?, ?it/s]"
      ]
     },
     "metadata": {},
     "output_type": "display_data"
    },
    {
     "data": {
      "application/vnd.jupyter.widget-view+json": {
       "model_id": "5d57e69ef6ed40cc97988a141b44d355",
       "version_major": 2,
       "version_minor": 0
      },
      "text/plain": [
       "Downloading images for John Davis:   0%|          | 0/50 [00:00<?, ?it/s]"
      ]
     },
     "metadata": {},
     "output_type": "display_data"
    },
    {
     "data": {
      "application/vnd.jupyter.widget-view+json": {
       "model_id": "5bcb32093f7b42718320dfc6774133dc",
       "version_major": 2,
       "version_minor": 0
      },
      "text/plain": [
       "Downloading images for Brock:   0%|          | 0/50 [00:00<?, ?it/s]"
      ]
     },
     "metadata": {},
     "output_type": "display_data"
    },
    {
     "data": {
      "application/vnd.jupyter.widget-view+json": {
       "model_id": "ae150d4240ea4696bfe505363276608a",
       "version_major": 2,
       "version_minor": 0
      },
      "text/plain": [
       "Downloading images for Sergei Konstantinov:   0%|          | 0/50 [00:00<?, ?it/s]"
      ]
     },
     "metadata": {},
     "output_type": "display_data"
    },
    {
     "data": {
      "application/vnd.jupyter.widget-view+json": {
       "model_id": "54168c9c8306491f9c35e1b9b7e4f5d4",
       "version_major": 2,
       "version_minor": 0
      },
      "text/plain": [
       "Downloading images for Jason Hudson:   0%|          | 0/50 [00:00<?, ?it/s]"
      ]
     },
     "metadata": {},
     "output_type": "display_data"
    },
    {
     "data": {
      "application/vnd.jupyter.widget-view+json": {
       "model_id": "1fc0ea0e7be040aebae75255a4b7d01d",
       "version_major": 2,
       "version_minor": 0
      },
      "text/plain": [
       "Downloading images for Farid:   0%|          | 0/50 [00:00<?, ?it/s]"
      ]
     },
     "metadata": {},
     "output_type": "display_data"
    },
    {
     "data": {
      "application/vnd.jupyter.widget-view+json": {
       "model_id": "1a1d7786fa5b4286b793e341cfcd7eaa",
       "version_major": 2,
       "version_minor": 0
      },
      "text/plain": [
       "Downloading images for T-1000:   0%|          | 0/50 [00:00<?, ?it/s]"
      ]
     },
     "metadata": {},
     "output_type": "display_data"
    },
    {
     "data": {
      "application/vnd.jupyter.widget-view+json": {
       "model_id": "872c382117374563b5d05b8149ddf56a",
       "version_major": 2,
       "version_minor": 0
      },
      "text/plain": [
       "Downloading images for 21 Savage:   0%|          | 0/50 [00:00<?, ?it/s]"
      ]
     },
     "metadata": {},
     "output_type": "display_data"
    },
    {
     "data": {
      "application/vnd.jupyter.widget-view+json": {
       "model_id": "d8aef2c670d34061a22d2bcb85a019f8",
       "version_major": 2,
       "version_minor": 0
      },
      "text/plain": [
       "Downloading images for Billy Handsome:   0%|          | 0/50 [00:00<?, ?it/s]"
      ]
     },
     "metadata": {},
     "output_type": "display_data"
    },
    {
     "data": {
      "application/vnd.jupyter.widget-view+json": {
       "model_id": "de892cc0978e49d5bc42214066e954bb",
       "version_major": 2,
       "version_minor": 0
      },
      "text/plain": [
       "Downloading images for Nikolai Badanov:   0%|          | 0/50 [00:00<?, ?it/s]"
      ]
     },
     "metadata": {},
     "output_type": "display_data"
    },
    {
     "data": {
      "application/vnd.jupyter.widget-view+json": {
       "model_id": "295953dab9004d1a9179eeb873eb2ae2",
       "version_major": 2,
       "version_minor": 0
      },
      "text/plain": [
       "Downloading images for Gary:   0%|          | 0/50 [00:00<?, ?it/s]"
      ]
     },
     "metadata": {},
     "output_type": "display_data"
    },
    {
     "data": {
      "application/vnd.jupyter.widget-view+json": {
       "model_id": "aea47a6472a0449c817f208b37f6009b",
       "version_major": 2,
       "version_minor": 0
      },
      "text/plain": [
       "Downloading images for Logan Walker:   0%|          | 0/50 [00:00<?, ?it/s]"
      ]
     },
     "metadata": {},
     "output_type": "display_data"
    },
    {
     "data": {
      "application/vnd.jupyter.widget-view+json": {
       "model_id": "79168ed9a82b4157b8b072b4aebabbb0",
       "version_major": 2,
       "version_minor": 0
      },
      "text/plain": [
       "Downloading images for Joseph Allen:   0%|          | 0/50 [00:00<?, ?it/s]"
      ]
     },
     "metadata": {},
     "output_type": "display_data"
    },
    {
     "data": {
      "application/vnd.jupyter.widget-view+json": {
       "model_id": "2489ac71056b4b38aff4114d6ad2e38d",
       "version_major": 2,
       "version_minor": 0
      },
      "text/plain": [
       "Downloading images for Robert McNamara:   0%|          | 0/50 [00:00<?, ?it/s]"
      ]
     },
     "metadata": {},
     "output_type": "display_data"
    },
    {
     "data": {
      "application/vnd.jupyter.widget-view+json": {
       "model_id": "03b3d375160d4a68b7bbb19eb93543a0",
       "version_major": 2,
       "version_minor": 0
      },
      "text/plain": [
       "Downloading images for Lucas Riggs:   0%|          | 0/50 [00:00<?, ?it/s]"
      ]
     },
     "metadata": {},
     "output_type": "display_data"
    },
    {
     "data": {
      "application/vnd.jupyter.widget-view+json": {
       "model_id": "5e3312d4cf4d4dc2b62d28d0e00dd857",
       "version_major": 2,
       "version_minor": 0
      },
      "text/plain": [
       "Downloading images for Edward Carlyle:   0%|          | 0/50 [00:00<?, ?it/s]"
      ]
     },
     "metadata": {},
     "output_type": "display_data"
    },
    {
     "data": {
      "application/vnd.jupyter.widget-view+json": {
       "model_id": "3608a522c2b84a93aa6d38f42f99f4aa",
       "version_major": 2,
       "version_minor": 0
      },
      "text/plain": [
       "Downloading images for Viktor Reznov:   0%|          | 0/50 [00:00<?, ?it/s]"
      ]
     },
     "metadata": {},
     "output_type": "display_data"
    },
    {
     "data": {
      "application/vnd.jupyter.widget-view+json": {
       "model_id": "c9138039ab87423aa6f294ba82e6a7ff",
       "version_major": 2,
       "version_minor": 0
      },
      "text/plain": [
       "Downloading images for Fidel Castro:   0%|          | 0/50 [00:00<?, ?it/s]"
      ]
     },
     "metadata": {},
     "output_type": "display_data"
    },
    {
     "data": {
      "application/vnd.jupyter.widget-view+json": {
       "model_id": "2a20cde13f354001a852808ecbf4e605",
       "version_major": 2,
       "version_minor": 0
      },
      "text/plain": [
       "Downloading images for George Barkley:   0%|          | 0/50 [00:00<?, ?it/s]"
      ]
     },
     "metadata": {},
     "output_type": "display_data"
    },
    {
     "data": {
      "application/vnd.jupyter.widget-view+json": {
       "model_id": "6e1365c5c93a4bb6a8320662a5a26b41",
       "version_major": 2,
       "version_minor": 0
      },
      "text/plain": [
       "Downloading images for Marcus Burns:   0%|          | 0/50 [00:00<?, ?it/s]"
      ]
     },
     "metadata": {},
     "output_type": "display_data"
    },
    {
     "data": {
      "application/vnd.jupyter.widget-view+json": {
       "model_id": "86d74749e5e14011ae93b834319debcd",
       "version_major": 2,
       "version_minor": 0
      },
      "text/plain": [
       "Downloading images for Yasir Al-Fulani:   0%|          | 0/50 [00:00<?, ?it/s]"
      ]
     },
     "metadata": {},
     "output_type": "display_data"
    },
    {
     "data": {
      "application/vnd.jupyter.widget-view+json": {
       "model_id": "a1f222c074d7465a820064980cfed581",
       "version_major": 2,
       "version_minor": 0
      },
      "text/plain": [
       "Downloading images for Abigail \"Misty\" Briarton:   0%|          | 0/50 [00:00<?, ?it/s]"
      ]
     },
     "metadata": {},
     "output_type": "display_data"
    },
    {
     "data": {
      "application/vnd.jupyter.widget-view+json": {
       "model_id": "4e70df329cb444b9ad61105fc2023013",
       "version_major": 2,
       "version_minor": 0
      },
      "text/plain": [
       "Downloading images for Sergei Kozin:   0%|          | 0/50 [00:00<?, ?it/s]"
      ]
     },
     "metadata": {},
     "output_type": "display_data"
    },
    {
     "data": {
      "application/vnd.jupyter.widget-view+json": {
       "model_id": "870caa0d535e4639b97c559dc1ebe615",
       "version_major": 2,
       "version_minor": 0
      },
      "text/plain": [
       "Downloading images for Castro's Double:   0%|          | 0/50 [00:00<?, ?it/s]"
      ]
     },
     "metadata": {},
     "output_type": "display_data"
    },
    {
     "data": {
      "application/vnd.jupyter.widget-view+json": {
       "model_id": "e52f44bdeb784e43a71b672df198ce69",
       "version_major": 2,
       "version_minor": 0
      },
      "text/plain": [
       "Downloading images for Gaines:   0%|          | 0/50 [00:00<?, ?it/s]"
      ]
     },
     "metadata": {},
     "output_type": "display_data"
    },
    {
     "data": {
      "application/vnd.jupyter.widget-view+json": {
       "model_id": "8bd351c3ac48472b9c13fa6dd0b5930f",
       "version_major": 2,
       "version_minor": 0
      },
      "text/plain": [
       "Downloading images for Miko:   0%|          | 0/50 [00:00<?, ?it/s]"
      ]
     },
     "metadata": {},
     "output_type": "display_data"
    },
    {
     "data": {
      "application/vnd.jupyter.widget-view+json": {
       "model_id": "fc1f64f32b054983842c590f351b6157",
       "version_major": 2,
       "version_minor": 0
      },
      "text/plain": [
       "Downloading images for Orendi:   0%|          | 0/50 [00:00<?, ?it/s]"
      ]
     },
     "metadata": {},
     "output_type": "display_data"
    },
    {
     "data": {
      "application/vnd.jupyter.widget-view+json": {
       "model_id": "3ff2b67395f14c47b1eb3aedf5f9d170",
       "version_major": 2,
       "version_minor": 0
      },
      "text/plain": [
       "Downloading images for El Dragón:   0%|          | 0/50 [00:00<?, ?it/s]"
      ]
     },
     "metadata": {},
     "output_type": "display_data"
    },
    {
     "data": {
      "application/vnd.jupyter.widget-view+json": {
       "model_id": "734704cd290a4a6a9fe995dd20fff712",
       "version_major": 2,
       "version_minor": 0
      },
      "text/plain": [
       "Downloading images for Galilea:   0%|          | 0/50 [00:00<?, ?it/s]"
      ]
     },
     "metadata": {},
     "output_type": "display_data"
    },
    {
     "data": {
      "application/vnd.jupyter.widget-view+json": {
       "model_id": "1068c307b87e47ca88d5532bd24bae78",
       "version_major": 2,
       "version_minor": 0
      },
      "text/plain": [
       "Downloading images for Kleese:   0%|          | 0/50 [00:00<?, ?it/s]"
      ]
     },
     "metadata": {},
     "output_type": "display_data"
    },
    {
     "data": {
      "application/vnd.jupyter.widget-view+json": {
       "model_id": "179841c3559a464cb961b90b5245d7b4",
       "version_major": 2,
       "version_minor": 0
      },
      "text/plain": [
       "Downloading images for R a t h:   0%|          | 0/50 [00:00<?, ?it/s]"
      ]
     },
     "metadata": {},
     "output_type": "display_data"
    },
    {
     "data": {
      "application/vnd.jupyter.widget-view+json": {
       "model_id": "9ff451ed1d0044298dd421c7aa3d348b",
       "version_major": 2,
       "version_minor": 0
      },
      "text/plain": [
       "Downloading images for Reyna:   0%|          | 0/50 [00:00<?, ?it/s]"
      ]
     },
     "metadata": {},
     "output_type": "display_data"
    },
    {
     "data": {
      "application/vnd.jupyter.widget-view+json": {
       "model_id": "68bfbcb87a90412ca325d3f79b1f08df",
       "version_major": 2,
       "version_minor": 0
      },
      "text/plain": [
       "Downloading images for Battleborn:   0%|          | 0/50 [00:00<?, ?it/s]"
      ]
     },
     "metadata": {},
     "output_type": "display_data"
    },
    {
     "data": {
      "application/vnd.jupyter.widget-view+json": {
       "model_id": "7dc7083abd6c451093d2e701e0afb6a0",
       "version_major": 2,
       "version_minor": 0
      },
      "text/plain": [
       "Downloading images for Beatrix:   0%|          | 0/50 [00:00<?, ?it/s]"
      ]
     },
     "metadata": {},
     "output_type": "display_data"
    },
    {
     "data": {
      "application/vnd.jupyter.widget-view+json": {
       "model_id": "ea56ef97df044206bd36bcc48686a87a",
       "version_major": 2,
       "version_minor": 0
      },
      "text/plain": [
       "Downloading images for Benedict:   0%|          | 0/50 [00:00<?, ?it/s]"
      ]
     },
     "metadata": {},
     "output_type": "display_data"
    },
    {
     "data": {
      "application/vnd.jupyter.widget-view+json": {
       "model_id": "f76798c666134932ac3bfd4decb3ce22",
       "version_major": 2,
       "version_minor": 0
      },
      "text/plain": [
       "Downloading images for Kelvin:   0%|          | 0/50 [00:00<?, ?it/s]"
      ]
     },
     "metadata": {},
     "output_type": "display_data"
    },
    {
     "data": {
      "application/vnd.jupyter.widget-view+json": {
       "model_id": "1c7f3d7b70c945ef9d825b40f50f091a",
       "version_major": 2,
       "version_minor": 0
      },
      "text/plain": [
       "Downloading images for Montana:   0%|          | 0/50 [00:00<?, ?it/s]"
      ]
     },
     "metadata": {},
     "output_type": "display_data"
    },
    {
     "data": {
      "application/vnd.jupyter.widget-view+json": {
       "model_id": "ea7b17078006401bbcb346399e48ae02",
       "version_major": 2,
       "version_minor": 0
      },
      "text/plain": [
       "Downloading images for Oscar Mike:   0%|          | 0/50 [00:00<?, ?it/s]"
      ]
     },
     "metadata": {},
     "output_type": "display_data"
    },
    {
     "data": {
      "application/vnd.jupyter.widget-view+json": {
       "model_id": "e774977cb8824390953d43538fba7baf",
       "version_major": 2,
       "version_minor": 0
      },
      "text/plain": [
       "Downloading images for Phoebe:   0%|          | 0/50 [00:00<?, ?it/s]"
      ]
     },
     "metadata": {},
     "output_type": "display_data"
    },
    {
     "data": {
      "application/vnd.jupyter.widget-view+json": {
       "model_id": "399546add9b74303805857befb130df1",
       "version_major": 2,
       "version_minor": 0
      },
      "text/plain": [
       "Downloading images for Shayne and Aurox:   0%|          | 0/50 [00:00<?, ?it/s]"
      ]
     },
     "metadata": {},
     "output_type": "display_data"
    },
    {
     "data": {
      "application/vnd.jupyter.widget-view+json": {
       "model_id": "a4b7af6e95a54e3cb01c1fece2cbbed8",
       "version_major": 2,
       "version_minor": 0
      },
      "text/plain": [
       "Downloading images for Toby:   0%|          | 0/50 [00:00<?, ?it/s]"
      ]
     },
     "metadata": {},
     "output_type": "display_data"
    },
    {
     "data": {
      "application/vnd.jupyter.widget-view+json": {
       "model_id": "4666f3266c6c4328a04df1d2bae71da6",
       "version_major": 2,
       "version_minor": 0
      },
      "text/plain": [
       "Downloading images for Whiskey foxtrot:   0%|          | 0/50 [00:00<?, ?it/s]"
      ]
     },
     "metadata": {},
     "output_type": "display_data"
    },
    {
     "data": {
      "application/vnd.jupyter.widget-view+json": {
       "model_id": "5a089c01662a4467b68ec70eb0f5e6fc",
       "version_major": 2,
       "version_minor": 0
      },
      "text/plain": [
       "Downloading images for Marquis:   0%|          | 0/50 [00:00<?, ?it/s]"
      ]
     },
     "metadata": {},
     "output_type": "display_data"
    },
    {
     "data": {
      "application/vnd.jupyter.widget-view+json": {
       "model_id": "4207f2ff734e47aba6603e268c8e56e6",
       "version_major": 2,
       "version_minor": 0
      },
      "text/plain": [
       "Downloading images for Kerillian:   0%|          | 0/50 [00:00<?, ?it/s]"
      ]
     },
     "metadata": {},
     "output_type": "display_data"
    },
    {
     "data": {
      "application/vnd.jupyter.widget-view+json": {
       "model_id": "bba1fc59b5d04bfe9e5bc85915226e5c",
       "version_major": 2,
       "version_minor": 0
      },
      "text/plain": [
       "Downloading images for Victor Saltzpyre:   0%|          | 0/50 [00:00<?, ?it/s]"
      ]
     },
     "metadata": {},
     "output_type": "display_data"
    },
    {
     "data": {
      "application/vnd.jupyter.widget-view+json": {
       "model_id": "3ecaa9af2c7243eca3b741a7c946f54c",
       "version_major": 2,
       "version_minor": 0
      },
      "text/plain": [
       "Downloading images for Markus Kruber:   0%|          | 0/50 [00:00<?, ?it/s]"
      ]
     },
     "metadata": {},
     "output_type": "display_data"
    },
    {
     "data": {
      "application/vnd.jupyter.widget-view+json": {
       "model_id": "828bb7981a154ae4b191a70475a74b2f",
       "version_major": 2,
       "version_minor": 0
      },
      "text/plain": [
       "Downloading images for Franz Lohner:   0%|          | 0/50 [00:00<?, ?it/s]"
      ]
     },
     "metadata": {},
     "output_type": "display_data"
    },
    {
     "data": {
      "application/vnd.jupyter.widget-view+json": {
       "model_id": "8ef77cead058433591f595cbf713e8a6",
       "version_major": 2,
       "version_minor": 0
      },
      "text/plain": [
       "Downloading images for Bardin Goreksson:   0%|          | 0/50 [00:00<?, ?it/s]"
      ]
     },
     "metadata": {},
     "output_type": "display_data"
    }
   ],
   "source": [
    "resume_row_id = 216\n",
    "\n",
    "for index, row in df.iterrows():\n",
    "    if index >= resume_row_id:\n",
    "        character = row['Character']\n",
    "        # Replace characters that are invalid for directory names\n",
    "        safe_character = ''.join(c for c in character if c.isalnum() or c in (' ','_')).rstrip()\n",
    "        character_dir = os.path.join(base_dir, safe_character.replace(' ', '_'))\n",
    "        \n",
    "        # Ensure the character's directory exists\n",
    "        if not os.path.exists(character_dir):\n",
    "            os.makedirs(character_dir)\n",
    "        \n",
    "        # Get the list of images that have already been downloaded to avoid re-downloading\n",
    "        existing_images = set(os.listdir(character_dir))\n",
    "        \n",
    "        # Download each image from the 'urls' list\n",
    "        for image_number, url in enumerate(tqdm(row['urls'], desc=f\"Downloading images for {character}\")):\n",
    "            # Check if the image already exists\n",
    "            image_filename = f'image_{image_number:03}.jpg'\n",
    "            if image_filename not in existing_images:\n",
    "                if download_image(url, character_dir, image_number):\n",
    "                    existing_images.add(image_filename) "
   ]
  },
  {
   "cell_type": "code",
   "execution_count": null,
   "id": "877f92e2",
   "metadata": {},
   "outputs": [],
   "source": []
  }
 ],
 "metadata": {
  "kernelspec": {
   "display_name": "base",
   "language": "python",
   "name": "python3"
  },
  "language_info": {
   "codemirror_mode": {
    "name": "ipython",
    "version": 3
   },
   "file_extension": ".py",
   "mimetype": "text/x-python",
   "name": "python",
   "nbconvert_exporter": "python",
   "pygments_lexer": "ipython3",
   "version": "3.11.7"
  }
 },
 "nbformat": 4,
 "nbformat_minor": 5
}
