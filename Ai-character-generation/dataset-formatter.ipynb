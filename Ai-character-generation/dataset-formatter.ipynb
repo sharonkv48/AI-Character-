{
 "cells": [
  {
   "cell_type": "code",
   "execution_count": 1,
   "metadata": {},
   "outputs": [],
   "source": [
    "import pandas as pd"
   ]
  },
  {
   "cell_type": "code",
   "execution_count": 2,
   "metadata": {},
   "outputs": [
    {
     "data": {
      "text/plain": [
       "<bound method NDFrame.head of       Id             Character Occupation\n",
       "0      1  Aaron Taylor-Johnson      model\n",
       "1      2           Adam Levine      model\n",
       "2      3          Adrian Brody      model\n",
       "3      4          Aiden Turner      model\n",
       "4      5   Alexander Skarsgård      model\n",
       "..   ...                   ...        ...\n",
       "195  196       Maria Sharapova      model\n",
       "196  197           Marie Curie      model\n",
       "197  198        Marilyn Monroe      model\n",
       "198  199        Martha Stewart      model\n",
       "199  200       Mary-Kate Olsen      model\n",
       "\n",
       "[200 rows x 3 columns]>"
      ]
     },
     "execution_count": 2,
     "metadata": {},
     "output_type": "execute_result"
    }
   ],
   "source": [
    "dtst = pd.read_csv('character_names.csv')\n",
    "dtst.head"
   ]
  },
  {
   "cell_type": "code",
   "execution_count": 4,
   "metadata": {},
   "outputs": [
    {
     "name": "stdout",
     "output_type": "stream",
     "text": [
      "1\n"
     ]
    }
   ],
   "source": [
    "print(dtst['Occupation'].nunique())"
   ]
  },
  {
   "cell_type": "code",
   "execution_count": 6,
   "metadata": {},
   "outputs": [],
   "source": [
    "import os\n",
    "import csv\n",
    "import shutil\n",
    "\n",
    "# Path to the CSV file\n",
    "csv_file_path = 'character_names.csv'\n",
    "\n",
    "# Path to the character images directory\n",
    "images_dir_path = 'characterimages'\n",
    "\n",
    "# Path to the directory where you want to save the renamed images\n",
    "output_dir_path = 'images_by_character_renamed'\n",
    "\n",
    "# Create the output directory if it does not exist\n",
    "if not os.path.exists(output_dir_path):\n",
    "    os.makedirs(output_dir_path)\n",
    "\n",
    "# Read the CSV file and store the data in a dictionary\n",
    "character_occupation_mapping = {}\n",
    "with open(csv_file_path, mode='r', encoding='utf-8') as csv_file:\n",
    "    csv_reader = csv.DictReader(csv_file)\n",
    "    for row in csv_reader:\n",
    "        character_occupation_mapping[row['Character'].replace(' ', '_')] = row['Occupation']\n",
    "\n",
    "# Function to rename and move the images\n",
    "def process_images(character, occupation):\n",
    "    character_folder_path = os.path.join(images_dir_path, character)\n",
    "    if os.path.exists(character_folder_path):\n",
    "        for i in range(50):\n",
    "            old_image_name = f'image_{i:03}.jpg'\n",
    "            old_image_path = os.path.join(character_folder_path, old_image_name)\n",
    "            if os.path.exists(old_image_path):\n",
    "                new_image_name = f'{occupation}_{character}_{i}.jpg'\n",
    "                outdir = '/' + occupation + '/' + character + '/'\n",
    "                if not os.path.exists(output_dir_path+outdir):\n",
    "                    os.makedirs(output_dir_path+outdir)\n",
    "                new_image_path = os.path.join(output_dir_path + outdir, new_image_name)\n",
    "                shutil.move(old_image_path, new_image_path)\n",
    "\n",
    "# Iterate over the character-game mapping and process each character\n"
   ]
  },
  {
   "cell_type": "code",
   "execution_count": 7,
   "metadata": {},
   "outputs": [],
   "source": [
    "for character, occupation in character_occupation_mapping.items():\n",
    "    process_images(character, occupation)"
   ]
  },
  {
   "cell_type": "code",
   "execution_count": 3,
   "metadata": {},
   "outputs": [],
   "source": [
    "import os\n",
    "\n",
    "def add_keyword_to_text_files(directory, keyword):\n",
    "    for filename in os.listdir(directory):\n",
    "        if filename.endswith('.txt'):  # Check if the file is a text file\n",
    "            file_path = os.path.join(directory, filename)\n",
    "            with open(file_path, 'r+', encoding='utf-8') as file:\n",
    "                content = file.read()\n",
    "                if keyword not in content:\n",
    "                    file.write(', ' + keyword)  # Append the keyword at the end of the file\n",
    "\n",
    "# Replace with your directory path and the keyword you want to add\n",
    "directory_path = \\\n",
    "keyword =\\\n",
    "\n",
    "add_keyword_to_text_files(directory_path, keyword)\n"
   ]
  },
  {
   "cell_type": "code",
   "execution_count": null,
   "metadata": {},
   "outputs": [],
   "source": []
  }
 ],
 "metadata": {
  "kernelspec": {
   "display_name": "base",
   "language": "python",
   "name": "python3"
  },
  "language_info": {
   "codemirror_mode": {
    "name": "ipython",
    "version": 3
   },
   "file_extension": ".py",
   "mimetype": "text/x-python",
   "name": "python",
   "nbconvert_exporter": "python",
   "pygments_lexer": "ipython3",
   "version": "3.11.7"
  }
 },
 "nbformat": 4,
 "nbformat_minor": 2
}
